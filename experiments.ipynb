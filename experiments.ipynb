{
 "cells": [
  {
   "cell_type": "code",
   "execution_count": 1,
   "metadata": {},
   "outputs": [],
   "source": [
    "from GetData.GetDataMultiDimensions import get_test_data, get_train_data\n",
    "from GetData.GetDataOneDimension import getData\n",
    "import numpy as np\n",
    "import ot"
   ]
  },
  {
   "cell_type": "code",
   "execution_count": 46,
   "metadata": {},
   "outputs": [],
   "source": [
    "def checkEven(x, y):\n",
    "    rows_diff = x.shape[0] - y.shape[0]\n",
    "    columns_diff = x.shape[1] - y.shape[1]\n",
    "\n",
    "    if rows_diff > 0:\n",
    "        zero_rows = np.zeros((rows_diff, y.shape[1]))\n",
    "        y = np.vstack((y, zero_rows))\n",
    "    elif rows_diff < 0:  \n",
    "        zero_rows = np.zeros((-rows_diff, x.shape[1]))\n",
    "        x = np.vstack((x, zero_rows))\n",
    "    if columns_diff > 0: \n",
    "        zero_columns = np.zeros((y.shape[0], columns_diff))\n",
    "        y = np.hstack((y, zero_columns))\n",
    "    elif columns_diff < 0: \n",
    "        zero_columns = np.zeros((x.shape[0], -columns_diff))\n",
    "        x = np.hstack((x, zero_columns))\n",
    "    return x, y"
   ]
  },
  {
   "cell_type": "code",
   "execution_count": 48,
   "metadata": {},
   "outputs": [],
   "source": [
    "def cost_matrix_aw(x, y):\n",
    "    x, y = checkEven(x, y)\n",
    "    x = np.array(x).reshape(np.array(x).shape[0], -1)\n",
    "    y = np.array(y).reshape(np.array(y).shape[0], -1)\n",
    "    C = ot.dist(x, y, metric=\"euclidean\", p=2)\n",
    "    return C"
   ]
  },
  {
   "cell_type": "code",
   "execution_count": 28,
   "metadata": {},
   "outputs": [],
   "source": [
    "def cost_matrix_2d(x, y):\n",
    "    m = len(x)\n",
    "    n = len(y)\n",
    "    Cxy = np.zeros((m, n))\n",
    "    x1, y1 = 0, 0\n",
    "    if x.shape[1] < y.shape[1]:\n",
    "        zero_column = np.zeros((x.shape[0], y.shape[1] - x.shape[1]))\n",
    "        x = np.hstack((x, zero_column))\n",
    "    elif x.shape[1] > y.shape[1]:\n",
    "        zero_column = np.zeros((y.shape[0], x.shape[1] - y.shape[1]))\n",
    "        y = np.hstack((y, zero_column))\n",
    "    return x, y, x.shape, y.shape\n",
    "\n",
    "    # for row in range(m):\n",
    "    #     for col in range(n):\n",
    "    #         Cxy[row, col] = np.linalg.norm(x1[row] - y1[col])\n",
    "    # return Cxy"
   ]
  },
  {
   "cell_type": "code",
   "execution_count": 27,
   "metadata": {},
   "outputs": [
    {
     "data": {
      "text/plain": [
       "(20, (12, 19))"
      ]
     },
     "execution_count": 27,
     "metadata": {},
     "output_type": "execute_result"
    }
   ],
   "source": [
    "X_train_BasicMotions, y_train_BasicMotions, X_test_BasicMotions, y_test_BasicMotions = getData(\"JapaneseVowels\", '../Data/OneDimension/')\n",
    "# for index, train in enumerate X_train_BasicMotions:\n",
    "#     if train.shape != np.tuple(3, 206):\n",
    "#         print(index, train.shape)\n",
    "X_train_BasicMotions[0].shape[1], X_test_BasicMotions[0].shape"
   ]
  },
  {
   "cell_type": "code",
   "execution_count": null,
   "metadata": {},
   "outputs": [],
   "source": []
  },
  {
   "cell_type": "code",
   "execution_count": 50,
   "metadata": {},
   "outputs": [
    {
     "data": {
      "text/plain": [
       "(array([[ 5.3540202 ,  3.17038942,  1.27990591,  3.14771495,  1.88597002,\n",
       "          3.15328016,  2.64071245,  0.84071512,  2.17408872,  2.31937987,\n",
       "          1.68971611,  1.47516142],\n",
       "        [10.50606316,  2.67099103,  5.69266352,  3.38358275,  4.72924233,\n",
       "          2.9330878 ,  2.96758624,  4.92577671,  3.43270719,  3.28224261,\n",
       "          4.21885717,  4.44258924],\n",
       "        [ 4.97578703,  3.76757989,  0.81344936,  2.64256516,  1.19642138,\n",
       "          2.91459138,  3.00911143,  1.52719173,  2.45589838,  2.63697915,\n",
       "          1.60701228,  1.45593812],\n",
       "        [ 8.18423848,  2.54336716,  3.57059362,  1.13691262,  2.39259805,\n",
       "          0.84443714,  1.82985285,  3.07499141,  1.9357621 ,  1.92691307,\n",
       "          2.21965316,  2.43520463],\n",
       "        [ 5.0700449 ,  3.87058097,  1.21457904,  2.68402239,  1.18695219,\n",
       "          2.87494533,  2.99448162,  1.50830753,  2.51982469,  2.69926692,\n",
       "          1.70923077,  1.53190289],\n",
       "        [ 7.46594282,  1.32141243,  2.64980755,  1.41841237,  1.83996628,\n",
       "          1.03958095,  0.50413439,  1.84214937,  0.38857286,  0.38289408,\n",
       "          1.18569412,  1.38208939],\n",
       "        [ 7.68586861,  1.3803644 ,  2.85214525,  1.19098606,  1.93811839,\n",
       "          0.72703575,  0.61869414,  2.1307415 ,  0.6561299 ,  0.61854173,\n",
       "          1.3575502 ,  1.5865077 ],\n",
       "        [ 6.26476402,  2.19894547,  1.49805158,  2.00871438,  1.24677459,\n",
       "          1.98474235,  1.57199965,  0.79814931,  1.01123355,  1.18258715,\n",
       "          0.65163476,  0.60334897],\n",
       "        [ 7.78097702,  1.10159479,  2.95883589,  1.57016482,  2.21019277,\n",
       "          1.20176405,  0.71587296,  2.2217133 ,  0.77105425,  0.680042  ,\n",
       "          1.546642  ,  1.75713457],\n",
       "        [ 7.05084777,  2.08395338,  2.28117692,  0.8604384 ,  1.22286961,\n",
       "          0.74781119,  1.17986387,  1.77926062,  0.84293249,  0.95907827,\n",
       "          0.85548226,  1.08987658],\n",
       "        [ 6.47386422,  2.16229454,  1.70536481,  1.61215932,  0.95112179,\n",
       "          1.51799479,  1.29835747,  0.95819319,  0.78163744,  0.97510275,\n",
       "          0.39997775,  0.41625173],\n",
       "        [ 6.24247559,  2.25036626,  1.62640337,  2.30095864,  1.43734425,\n",
       "          2.17087973,  1.60643339,  0.60618987,  1.16197945,  1.30947772,\n",
       "          0.93628021,  0.8019951 ]]),\n",
       " (12, 12))"
      ]
     },
     "execution_count": 50,
     "metadata": {},
     "output_type": "execute_result"
    }
   ],
   "source": [
    "C = cost_matrix_aw(X_train_BasicMotions[50], X_test_BasicMotions[3])\n",
    "C, C.shape"
   ]
  },
  {
   "cell_type": "code",
   "execution_count": 19,
   "metadata": {},
   "outputs": [],
   "source": [
    "from MaskingMap.MaskingMapLinear import (\n",
    "    masking_map_linear_sub_sequence_multivariate\n",
    ")"
   ]
  },
  {
   "cell_type": "code",
   "execution_count": 23,
   "metadata": {},
   "outputs": [
    {
     "data": {
      "text/plain": [
       "0.5538040057514182"
      ]
     },
     "execution_count": 23,
     "metadata": {},
     "output_type": "execute_result"
    }
   ],
   "source": [
    "masking_map_linear_sub_sequence_multivariate(X_test_BasicMotions[0].T, X_train_BasicMotions[0].T, ratio=0.1, sub_ratio=0.1)"
   ]
  },
  {
   "cell_type": "code",
   "execution_count": 3,
   "metadata": {},
   "outputs": [],
   "source": [
    "import numpy as np\n",
    "def subsequences(time_series, k):\n",
    "    time_series = np.asarray(time_series)\n",
    "    n = len(time_series)\n",
    "    shape = (n - k + 1, k) + time_series.shape[1:]\n",
    "    if time_series.ndim == 1:\n",
    "        strides = time_series.strides * 2\n",
    "    elif time_series.ndim == 2:\n",
    "        strides = time_series.strides[0], time_series.strides[0], time_series.strides[1]\n",
    "    return np.lib.stride_tricks.as_strided(time_series, shape=shape, strides=strides)"
   ]
  },
  {
   "cell_type": "code",
   "execution_count": 75,
   "metadata": {},
   "outputs": [
    {
     "data": {
      "text/plain": [
       "array([[ 1,  2],\n",
       "       [ 2,  3],\n",
       "       [ 3,  4],\n",
       "       [ 4,  5],\n",
       "       [ 5,  6],\n",
       "       [ 6,  7],\n",
       "       [ 7,  8],\n",
       "       [ 8,  9],\n",
       "       [ 9, 10]])"
      ]
     },
     "execution_count": 75,
     "metadata": {},
     "output_type": "execute_result"
    }
   ],
   "source": [
    "import numpy as np\n",
    "a = np.array([1,2,3,4,5,6,7,8,9,10])\n",
    "subsequences(a, 2)"
   ]
  },
  {
   "cell_type": "code",
   "execution_count": 76,
   "metadata": {},
   "outputs": [
    {
     "data": {
      "text/plain": [
       "(9, 2)"
      ]
     },
     "execution_count": 76,
     "metadata": {},
     "output_type": "execute_result"
    }
   ],
   "source": [
    "b = np.array([[1,2], [2,3], [3,4], [4,5], [5,6], [6,7], [7,8], [8,9], [9,10]])\n",
    "b.shape"
   ]
  },
  {
   "cell_type": "code",
   "execution_count": 80,
   "metadata": {},
   "outputs": [
    {
     "data": {
      "text/plain": [
       "array([[[ 1,  2],\n",
       "        [ 2,  3],\n",
       "        [ 3,  4],\n",
       "        [ 4,  5]],\n",
       "\n",
       "       [[ 2,  3],\n",
       "        [ 3,  4],\n",
       "        [ 4,  5],\n",
       "        [ 5,  6]],\n",
       "\n",
       "       [[ 3,  4],\n",
       "        [ 4,  5],\n",
       "        [ 5,  6],\n",
       "        [ 6,  7]],\n",
       "\n",
       "       [[ 4,  5],\n",
       "        [ 5,  6],\n",
       "        [ 6,  7],\n",
       "        [ 7,  8]],\n",
       "\n",
       "       [[ 5,  6],\n",
       "        [ 6,  7],\n",
       "        [ 7,  8],\n",
       "        [ 8,  9]],\n",
       "\n",
       "       [[ 6,  7],\n",
       "        [ 7,  8],\n",
       "        [ 8,  9],\n",
       "        [ 9, 10]]])"
      ]
     },
     "execution_count": 80,
     "metadata": {},
     "output_type": "execute_result"
    }
   ],
   "source": [
    "subs_xs = subsequences(b, 4)\n",
    "subs_xs"
   ]
  },
  {
   "cell_type": "code",
   "execution_count": 40,
   "metadata": {},
   "outputs": [],
   "source": [
    "import numpy as np\n",
    "\n",
    "def split_into_subsequences_3d(data, shape):\n",
    "    strides = data.strides\n",
    "    shape = tuple(shape)\n",
    "    strides = tuple(stride * shape[-1] for stride in strides) + strides\n",
    "    return np.lib.stride_tricks.as_strided(data, shape=shape, strides=strides)\n"
   ]
  },
  {
   "cell_type": "code",
   "execution_count": 41,
   "metadata": {},
   "outputs": [
    {
     "ename": "ValueError",
     "evalue": "mismatch in length of strides and shape",
     "output_type": "error",
     "traceback": [
      "\u001b[1;31m---------------------------------------------------------------------------\u001b[0m",
      "\u001b[1;31mValueError\u001b[0m                                Traceback (most recent call last)",
      "Cell \u001b[1;32mIn[41], line 3\u001b[0m\n\u001b[0;32m      1\u001b[0m \u001b[38;5;66;03m# Sử dụng hàm\u001b[39;00m\n\u001b[0;32m      2\u001b[0m data \u001b[38;5;241m=\u001b[39m np\u001b[38;5;241m.\u001b[39marange(\u001b[38;5;241m24\u001b[39m)\u001b[38;5;241m.\u001b[39mreshape((\u001b[38;5;241m2\u001b[39m, \u001b[38;5;241m3\u001b[39m, \u001b[38;5;241m4\u001b[39m))  \u001b[38;5;66;03m# Một mảng 3 chiều (2x3x4)\u001b[39;00m\n\u001b[1;32m----> 3\u001b[0m subsequences \u001b[38;5;241m=\u001b[39m \u001b[43msplit_into_subsequences_3d\u001b[49m\u001b[43m(\u001b[49m\u001b[43mdata\u001b[49m\u001b[43m,\u001b[49m\u001b[43m \u001b[49m\u001b[43m(\u001b[49m\u001b[38;5;241;43m2\u001b[39;49m\u001b[43m,\u001b[49m\u001b[43m \u001b[49m\u001b[38;5;241;43m1\u001b[39;49m\u001b[43m,\u001b[49m\u001b[43m \u001b[49m\u001b[38;5;241;43m2\u001b[39;49m\u001b[43m)\u001b[49m\u001b[43m)\u001b[49m  \u001b[38;5;66;03m# Chia thành các chuỗi con (2x1x2)\u001b[39;00m\n\u001b[0;32m      4\u001b[0m \u001b[38;5;28mprint\u001b[39m(data,subsequences)\n",
      "Cell \u001b[1;32mIn[40], line 7\u001b[0m, in \u001b[0;36msplit_into_subsequences_3d\u001b[1;34m(data, shape)\u001b[0m\n\u001b[0;32m      5\u001b[0m shape \u001b[38;5;241m=\u001b[39m \u001b[38;5;28mtuple\u001b[39m(shape)\n\u001b[0;32m      6\u001b[0m strides \u001b[38;5;241m=\u001b[39m \u001b[38;5;28mtuple\u001b[39m(stride \u001b[38;5;241m*\u001b[39m shape[\u001b[38;5;241m-\u001b[39m\u001b[38;5;241m1\u001b[39m] \u001b[38;5;28;01mfor\u001b[39;00m stride \u001b[38;5;129;01min\u001b[39;00m strides) \u001b[38;5;241m+\u001b[39m strides\n\u001b[1;32m----> 7\u001b[0m \u001b[38;5;28;01mreturn\u001b[39;00m \u001b[43mnp\u001b[49m\u001b[38;5;241;43m.\u001b[39;49m\u001b[43mlib\u001b[49m\u001b[38;5;241;43m.\u001b[39;49m\u001b[43mstride_tricks\u001b[49m\u001b[38;5;241;43m.\u001b[39;49m\u001b[43mas_strided\u001b[49m\u001b[43m(\u001b[49m\u001b[43mdata\u001b[49m\u001b[43m,\u001b[49m\u001b[43m \u001b[49m\u001b[43mshape\u001b[49m\u001b[38;5;241;43m=\u001b[39;49m\u001b[43mshape\u001b[49m\u001b[43m,\u001b[49m\u001b[43m \u001b[49m\u001b[43mstrides\u001b[49m\u001b[38;5;241;43m=\u001b[39;49m\u001b[43mstrides\u001b[49m\u001b[43m)\u001b[49m\n",
      "File \u001b[1;32mc:\\Users\\hoang\\OneDrive\\Documents\\lab\\Masking-Map-Optimal-Transport-For-Sequential-Data\\venv\\Lib\\site-packages\\numpy\\lib\\stride_tricks.py:105\u001b[0m, in \u001b[0;36mas_strided\u001b[1;34m(x, shape, strides, subok, writeable)\u001b[0m\n\u001b[0;32m    102\u001b[0m \u001b[38;5;28;01mif\u001b[39;00m strides \u001b[38;5;129;01mis\u001b[39;00m \u001b[38;5;129;01mnot\u001b[39;00m \u001b[38;5;28;01mNone\u001b[39;00m:\n\u001b[0;32m    103\u001b[0m     interface[\u001b[38;5;124m'\u001b[39m\u001b[38;5;124mstrides\u001b[39m\u001b[38;5;124m'\u001b[39m] \u001b[38;5;241m=\u001b[39m \u001b[38;5;28mtuple\u001b[39m(strides)\n\u001b[1;32m--> 105\u001b[0m array \u001b[38;5;241m=\u001b[39m np\u001b[38;5;241m.\u001b[39masarray(DummyArray(interface, base\u001b[38;5;241m=\u001b[39mx))\n\u001b[0;32m    106\u001b[0m \u001b[38;5;66;03m# The route via `__interface__` does not preserve structured\u001b[39;00m\n\u001b[0;32m    107\u001b[0m \u001b[38;5;66;03m# dtypes. Since dtype should remain unchanged, we set it explicitly.\u001b[39;00m\n\u001b[0;32m    108\u001b[0m array\u001b[38;5;241m.\u001b[39mdtype \u001b[38;5;241m=\u001b[39m x\u001b[38;5;241m.\u001b[39mdtype\n",
      "\u001b[1;31mValueError\u001b[0m: mismatch in length of strides and shape"
     ]
    }
   ],
   "source": [
    "\n",
    "# Sử dụng hàm\n",
    "data = np.arange(24).reshape((2, 3, 4))  # Một mảng 3 chiều (2x3x4)\n",
    "subsequences = split_into_subsequences_3d(data, (2, 1, 2))  # Chia thành các chuỗi con (2x1x2)\n",
    "print(data,subsequences)"
   ]
  },
  {
   "cell_type": "code",
   "execution_count": 15,
   "metadata": {},
   "outputs": [
    {
     "ename": "ValueError",
     "evalue": "mismatch in length of strides and shape",
     "output_type": "error",
     "traceback": [
      "\u001b[1;31m---------------------------------------------------------------------------\u001b[0m",
      "\u001b[1;31mValueError\u001b[0m                                Traceback (most recent call last)",
      "Cell \u001b[1;32mIn[15], line 1\u001b[0m\n\u001b[1;32m----> 1\u001b[0m subs_xs \u001b[38;5;241m=\u001b[39m \u001b[43msubsequences\u001b[49m\u001b[43m(\u001b[49m\u001b[43mX_train_BasicMotions\u001b[49m\u001b[43m[\u001b[49m\u001b[38;5;241;43m1\u001b[39;49m\u001b[43m]\u001b[49m\u001b[43m,\u001b[49m\u001b[43m \u001b[49m\u001b[38;5;241;43m2\u001b[39;49m\u001b[43m)\u001b[49m\n\u001b[0;32m      2\u001b[0m subs_xs\n",
      "File \u001b[1;32mc:\\users\\hoang\\onedrive\\documents\\lab\\masking-map-optimal-transport-for-sequential-data\\MaskingMap\\Utilities\\utils.py:97\u001b[0m, in \u001b[0;36msubsequences\u001b[1;34m(time_series, k)\u001b[0m\n\u001b[0;32m     94\u001b[0m shape \u001b[38;5;241m=\u001b[39m (n \u001b[38;5;241m-\u001b[39m k \u001b[38;5;241m+\u001b[39m \u001b[38;5;241m1\u001b[39m, k)\n\u001b[0;32m     95\u001b[0m strides \u001b[38;5;241m=\u001b[39m time_series\u001b[38;5;241m.\u001b[39mstrides \u001b[38;5;241m*\u001b[39m \u001b[38;5;241m2\u001b[39m\n\u001b[1;32m---> 97\u001b[0m \u001b[38;5;28;01mreturn\u001b[39;00m \u001b[43mnp\u001b[49m\u001b[38;5;241;43m.\u001b[39;49m\u001b[43mlib\u001b[49m\u001b[38;5;241;43m.\u001b[39;49m\u001b[43mstride_tricks\u001b[49m\u001b[38;5;241;43m.\u001b[39;49m\u001b[43mas_strided\u001b[49m\u001b[43m(\u001b[49m\u001b[43mtime_series\u001b[49m\u001b[43m,\u001b[49m\u001b[43m \u001b[49m\u001b[43mshape\u001b[49m\u001b[38;5;241;43m=\u001b[39;49m\u001b[43mshape\u001b[49m\u001b[43m,\u001b[49m\u001b[43m \u001b[49m\u001b[43mstrides\u001b[49m\u001b[38;5;241;43m=\u001b[39;49m\u001b[43mstrides\u001b[49m\u001b[43m)\u001b[49m\n",
      "File \u001b[1;32mc:\\Users\\hoang\\OneDrive\\Documents\\lab\\Masking-Map-Optimal-Transport-For-Sequential-Data\\venv\\Lib\\site-packages\\numpy\\lib\\stride_tricks.py:105\u001b[0m, in \u001b[0;36mas_strided\u001b[1;34m(x, shape, strides, subok, writeable)\u001b[0m\n\u001b[0;32m    102\u001b[0m \u001b[38;5;28;01mif\u001b[39;00m strides \u001b[38;5;129;01mis\u001b[39;00m \u001b[38;5;129;01mnot\u001b[39;00m \u001b[38;5;28;01mNone\u001b[39;00m:\n\u001b[0;32m    103\u001b[0m     interface[\u001b[38;5;124m'\u001b[39m\u001b[38;5;124mstrides\u001b[39m\u001b[38;5;124m'\u001b[39m] \u001b[38;5;241m=\u001b[39m \u001b[38;5;28mtuple\u001b[39m(strides)\n\u001b[1;32m--> 105\u001b[0m array \u001b[38;5;241m=\u001b[39m \u001b[43mnp\u001b[49m\u001b[38;5;241;43m.\u001b[39;49m\u001b[43masarray\u001b[49m\u001b[43m(\u001b[49m\u001b[43mDummyArray\u001b[49m\u001b[43m(\u001b[49m\u001b[43minterface\u001b[49m\u001b[43m,\u001b[49m\u001b[43m \u001b[49m\u001b[43mbase\u001b[49m\u001b[38;5;241;43m=\u001b[39;49m\u001b[43mx\u001b[49m\u001b[43m)\u001b[49m\u001b[43m)\u001b[49m\n\u001b[0;32m    106\u001b[0m \u001b[38;5;66;03m# The route via `__interface__` does not preserve structured\u001b[39;00m\n\u001b[0;32m    107\u001b[0m \u001b[38;5;66;03m# dtypes. Since dtype should remain unchanged, we set it explicitly.\u001b[39;00m\n\u001b[0;32m    108\u001b[0m array\u001b[38;5;241m.\u001b[39mdtype \u001b[38;5;241m=\u001b[39m x\u001b[38;5;241m.\u001b[39mdtype\n",
      "\u001b[1;31mValueError\u001b[0m: mismatch in length of strides and shape"
     ]
    }
   ],
   "source": [
    "subs_xs = subsequences(X_train_BasicMotions[1], 2)\n",
    "subs_xs"
   ]
  },
  {
   "cell_type": "code",
   "execution_count": null,
   "metadata": {},
   "outputs": [],
   "source": [
    "def masking_map_linear_sub_sequence(\n",
    "    xs,\n",
    "    xt,\n",
    "    ratio=0.1,\n",
    "    sub_ratio=0.1,\n",
    "    eps=1e-10,\n",
    "    reg=0.0001,\n",
    "    max_iterations=100000,\n",
    "    thres=1e-5,\n",
    "    algorithm=\"linear_programming\",\n",
    "):\n",
    "    sub_length = int(np.floor(min(len(xs), len(xt)) * sub_ratio))\n",
    "    subs_xs = subsequences(xs, sub_length)\n",
    "    subs_xt = subsequences(xt, sub_length)\n",
    "    p = np.ones(len(subs_xs)) / len(subs_xs)\n",
    "    q = np.ones(len(subs_xt)) / len(subs_xt)\n",
    "    C = cost_matrix_aw(subs_xs, subs_xt)\n",
    "    C /= C.max() + eps\n",
    "    M = create_mask(C, ratio)\n",
    "    if algorithm == \"linear_programming\":\n",
    "        pi = lp(p, q, C, M)\n",
    "    elif algorithm == \"sinkhorn\":\n",
    "        pi = sinkhorn_log_domain(p, q, C, M, reg, max_iterations, thres)\n",
    "    else:\n",
    "        raise ValueError(\"algorithm must be 'linear_programming' or 'sinkhorn'!\")\n",
    "    cost = np.sum(pi * C)\n",
    "    return cost"
   ]
  },
  {
   "cell_type": "code",
   "execution_count": null,
   "metadata": {},
   "outputs": [],
   "source": [
    "from MaskingMap.MaskingMapLinear import masking_map_linear\n",
    "from MaskingMap.knn import knn_masking_map_linear, knn_masking_map_auto_weighted_short, knn_masking_map_auto_weighted"
   ]
  },
  {
   "cell_type": "code",
   "execution_count": null,
   "metadata": {},
   "outputs": [
    {
     "name": "stderr",
     "output_type": "stream",
     "text": [
      "100%|██████████| 30/30 [13:45<00:00, 27.53s/it]\n"
     ]
    },
    {
     "name": "stdout",
     "output_type": "stream",
     "text": [
      "0.82 826.0064129829407\n"
     ]
    }
   ],
   "source": [
    "accuracy, time = knn_masking_map_linear(X_train=X_train, X_test=X_test, y_train=y_train, y_test=y_test, lamb=2)\n",
    "print(accuracy, time)"
   ]
  },
  {
   "cell_type": "code",
   "execution_count": null,
   "metadata": {},
   "outputs": [
    {
     "name": "stdout",
     "output_type": "stream",
     "text": [
      "1\n"
     ]
    }
   ],
   "source": [
    "# with open('../Config/OneDimensionalDataset.txt', 'r') as file:\n",
    "#     # [print(line.strip()) for line in file]\n",
    "#     for line in file:\n",
    "#         print(line.strip())\n",
    "\n",
    "import json\n",
    "with open('../Config/OneDimension.json', 'r') as file:\n",
    "    data = json.load(file)\n",
    "for data in data[\"masking_map_linear\"][\"parameters\"]:\n",
    "    print(data[\"k\"])\n"
   ]
  },
  {
   "cell_type": "code",
   "execution_count": null,
   "metadata": {},
   "outputs": [
    {
     "name": "stderr",
     "output_type": "stream",
     "text": [
      "  0%|          | 0/30 [00:00<?, ?it/s]c:\\Users\\hoang\\OneDrive\\Documents\\lab\\AutoWeighted\\venv\\Lib\\site-packages\\cvxpy\\reductions\\solvers\\solving_chain.py:336: FutureWarning: \n",
      "    Your problem is being solved with the ECOS solver by default. Starting in \n",
      "    CVXPY 1.5.0, Clarabel will be used as the default solver instead. To continue \n",
      "    using ECOS, specify the ECOS solver explicitly using the ``solver=cp.ECOS`` \n",
      "    argument to the ``problem.solve`` method.\n",
      "    \n",
      "  warnings.warn(ECOS_DEPRECATION_MSG, FutureWarning)\n",
      "100%|██████████| 30/30 [38:50<00:00, 77.68s/it]"
     ]
    },
    {
     "name": "stdout",
     "output_type": "stream",
     "text": [
      "0.7266666666666667\n"
     ]
    },
    {
     "name": "stderr",
     "output_type": "stream",
     "text": [
      "\n"
     ]
    }
   ],
   "source": [
    "accuracy = knn_masking_map_auto_weighted(X_train=X_train, X_test=X_test, y_train=y_train, y_test=y_test,ratio=0.2, lamb=3)\n",
    "print(accuracy)"
   ]
  },
  {
   "cell_type": "code",
   "execution_count": null,
   "metadata": {},
   "outputs": [
    {
     "name": "stderr",
     "output_type": "stream",
     "text": [
      "  0%|          | 0/30 [00:00<?, ?it/s]c:\\Users\\hoang\\OneDrive\\Documents\\lab\\AutoWeighted\\venv\\Lib\\site-packages\\cvxpy\\reductions\\solvers\\solving_chain.py:336: FutureWarning: \n",
      "    Your problem is being solved with the ECOS solver by default. Starting in \n",
      "    CVXPY 1.5.0, Clarabel will be used as the default solver instead. To continue \n",
      "    using ECOS, specify the ECOS solver explicitly using the ``solver=cp.ECOS`` \n",
      "    argument to the ``problem.solve`` method.\n",
      "    \n",
      "  warnings.warn(ECOS_DEPRECATION_MSG, FutureWarning)\n",
      "100%|██████████| 30/30 [36:43<00:00, 73.44s/it]"
     ]
    },
    {
     "name": "stdout",
     "output_type": "stream",
     "text": [
      "0.7333333333333333\n"
     ]
    },
    {
     "name": "stderr",
     "output_type": "stream",
     "text": [
      "\n"
     ]
    }
   ],
   "source": [
    "accuracy = knn_masking_map_auto_weighted(X_train=X_train, X_test=X_test, y_train=y_train, y_test=y_test,ratio=0.1, lamb=5)\n",
    "print(accuracy)"
   ]
  },
  {
   "cell_type": "code",
   "execution_count": null,
   "metadata": {},
   "outputs": [
    {
     "name": "stderr",
     "output_type": "stream",
     "text": [
      "100%|██████████| 30/30 [4:59:53<00:00, 599.78s/it]  "
     ]
    },
    {
     "name": "stdout",
     "output_type": "stream",
     "text": [
      "0.74\n"
     ]
    },
    {
     "name": "stderr",
     "output_type": "stream",
     "text": [
      "\n"
     ]
    }
   ],
   "source": [
    "accuracy = knn_masking_map_auto_weighted(X_train=X_train, X_test=X_test, y_train=y_train, y_test=y_test,ratio=0.2, lamb=3, algorithm=\"sinkhorn\")\n",
    "print(accuracy)"
   ]
  },
  {
   "cell_type": "code",
   "execution_count": null,
   "metadata": {},
   "outputs": [
    {
     "name": "stderr",
     "output_type": "stream",
     "text": [
      "100%|██████████| 30/30 [3:25:51<00:00, 411.70s/it]  "
     ]
    },
    {
     "name": "stdout",
     "output_type": "stream",
     "text": [
      "0.7133333333333334\n"
     ]
    },
    {
     "name": "stderr",
     "output_type": "stream",
     "text": [
      "\n"
     ]
    }
   ],
   "source": [
    "accuracy = knn_masking_map_auto_weighted(X_train=X_train, X_test=X_test, y_train=y_train, y_test=y_test,ratio=0.1, lamb=5, algorithm=\"sinkhorn\")\n",
    "print(accuracy)"
   ]
  },
  {
   "cell_type": "code",
   "execution_count": null,
   "metadata": {},
   "outputs": [
    {
     "name": "stderr",
     "output_type": "stream",
     "text": [
      "c:\\Users\\hoang\\OneDrive\\Documents\\lab\\AutoWeighted\\venv\\Lib\\site-packages\\cvxpy\\reductions\\solvers\\solving_chain.py:336: FutureWarning: \n",
      "    Your problem is being solved with the ECOS solver by default. Starting in \n",
      "    CVXPY 1.5.0, Clarabel will be used as the default solver instead. To continue \n",
      "    using ECOS, specify the ECOS solver explicitly using the ``solver=cp.ECOS`` \n",
      "    argument to the ``problem.solve`` method.\n",
      "    \n",
      "  warnings.warn(ECOS_DEPRECATION_MSG, FutureWarning)\n"
     ]
    },
    {
     "name": "stdout",
     "output_type": "stream",
     "text": [
      "0.7933333333333333\n"
     ]
    }
   ],
   "source": [
    "accuracy = knn_masking_map_auto_weighted_short(X_train=X_train, X_test=X_test, y_train=y_train, y_test=y_test,ratio=0.1, lamb=10)\n",
    "print(accuracy)"
   ]
  },
  {
   "cell_type": "code",
   "execution_count": null,
   "metadata": {},
   "outputs": [
    {
     "name": "stderr",
     "output_type": "stream",
     "text": [
      "c:\\Users\\hoang\\OneDrive\\Documents\\lab\\AutoWeighted\\venv\\Lib\\site-packages\\cvxpy\\reductions\\solvers\\solving_chain.py:336: FutureWarning: \n",
      "    Your problem is being solved with the ECOS solver by default. Starting in \n",
      "    CVXPY 1.5.0, Clarabel will be used as the default solver instead. To continue \n",
      "    using ECOS, specify the ECOS solver explicitly using the ``solver=cp.ECOS`` \n",
      "    argument to the ``problem.solve`` method.\n",
      "    \n",
      "  warnings.warn(ECOS_DEPRECATION_MSG, FutureWarning)\n"
     ]
    },
    {
     "name": "stdout",
     "output_type": "stream",
     "text": [
      "0.7733333333333333\n"
     ]
    }
   ],
   "source": [
    "accuracy = knn_masking_map_auto_weighted_short(X_train=X_train, X_test=X_test, y_train=y_train, y_test=y_test,ratio=0.1, lamb=20)\n",
    "print(accuracy)"
   ]
  },
  {
   "cell_type": "code",
   "execution_count": null,
   "metadata": {},
   "outputs": [
    {
     "name": "stderr",
     "output_type": "stream",
     "text": [
      "c:\\Users\\hoang\\OneDrive\\Documents\\lab\\AutoWeighted\\venv\\Lib\\site-packages\\cvxpy\\reductions\\solvers\\solving_chain.py:336: FutureWarning: \n",
      "    Your problem is being solved with the ECOS solver by default. Starting in \n",
      "    CVXPY 1.5.0, Clarabel will be used as the default solver instead. To continue \n",
      "    using ECOS, specify the ECOS solver explicitly using the ``solver=cp.ECOS`` \n",
      "    argument to the ``problem.solve`` method.\n",
      "    \n",
      "  warnings.warn(ECOS_DEPRECATION_MSG, FutureWarning)\n"
     ]
    },
    {
     "name": "stdout",
     "output_type": "stream",
     "text": [
      "0.76\n"
     ]
    }
   ],
   "source": [
    "accuracy = knn_masking_map_auto_weighted_short(X_train=X_train, X_test=X_test, y_train=y_train, y_test=y_test,ratio=0.2, lamb=20)\n",
    "print(accuracy)"
   ]
  },
  {
   "cell_type": "code",
   "execution_count": null,
   "metadata": {},
   "outputs": [
    {
     "name": "stderr",
     "output_type": "stream",
     "text": [
      "c:\\Users\\hoang\\OneDrive\\Documents\\lab\\AutoWeighted\\venv\\Lib\\site-packages\\cvxpy\\reductions\\solvers\\solving_chain.py:336: FutureWarning: \n",
      "    Your problem is being solved with the ECOS solver by default. Starting in \n",
      "    CVXPY 1.5.0, Clarabel will be used as the default solver instead. To continue \n",
      "    using ECOS, specify the ECOS solver explicitly using the ``solver=cp.ECOS`` \n",
      "    argument to the ``problem.solve`` method.\n",
      "    \n",
      "  warnings.warn(ECOS_DEPRECATION_MSG, FutureWarning)\n"
     ]
    },
    {
     "name": "stdout",
     "output_type": "stream",
     "text": [
      "0.7333333333333333\n"
     ]
    }
   ],
   "source": [
    "accuracy = knn_masking_map_auto_weighted_short(X_train=X_train, X_test=X_test, y_train=y_train, y_test=y_test,ratio=0.3, lamb=10)\n",
    "print(accuracy)"
   ]
  },
  {
   "cell_type": "code",
   "execution_count": 1,
   "metadata": {},
   "outputs": [],
   "source": [
    "import numpy as np\n",
    "import joblib\n",
    "import sys\n",
    "import os"
   ]
  },
  {
   "cell_type": "code",
   "execution_count": 2,
   "metadata": {},
   "outputs": [
    {
     "ename": "NameError",
     "evalue": "name 'joblib' is not defined",
     "output_type": "error",
     "traceback": [
      "\u001b[1;31m---------------------------------------------------------------------------\u001b[0m",
      "\u001b[1;31mNameError\u001b[0m                                 Traceback (most recent call last)",
      "Cell \u001b[1;32mIn[2], line 1\u001b[0m\n\u001b[1;32m----> 1\u001b[0m X_train \u001b[38;5;241m=\u001b[39m \u001b[43mjoblib\u001b[49m\u001b[38;5;241m.\u001b[39mload(\u001b[38;5;124m\"\u001b[39m\u001b[38;5;124m../Data/MultiDimensions/MSRAction3D/X_train.pkl\u001b[39m\u001b[38;5;124m\"\u001b[39m)\n\u001b[0;32m      2\u001b[0m X_test \u001b[38;5;241m=\u001b[39m joblib\u001b[38;5;241m.\u001b[39mload(\u001b[38;5;124m'\u001b[39m\u001b[38;5;124m../Data/MultiDimensions/MSRAction3D/X_test.pkl\u001b[39m\u001b[38;5;124m'\u001b[39m)\n\u001b[0;32m      3\u001b[0m y_train \u001b[38;5;241m=\u001b[39m joblib\u001b[38;5;241m.\u001b[39mload(\u001b[38;5;124m'\u001b[39m\u001b[38;5;124m../Data/MultiDimensions/MSRAction3D/y_train.pkl\u001b[39m\u001b[38;5;124m'\u001b[39m)\n",
      "\u001b[1;31mNameError\u001b[0m: name 'joblib' is not defined"
     ]
    }
   ],
   "source": [
    "X_train = joblib.load(\"../Data/MultiDimensions/MSRAction3D/X_train.pkl\")\n",
    "X_test = joblib.load('../Data/MultiDimensions/MSRAction3D/X_test.pkl')\n",
    "y_train = joblib.load('../Data/MultiDimensions/MSRAction3D/y_train.pkl')\n",
    "y_test = joblib.load('../Data/MultiDimensions/MSRAction3D/y_test.pkl')\n",
    "np.array(X_train[0][1][1]).shape, X_test.shape, y_train.shape, y_test.shape"
   ]
  },
  {
   "cell_type": "code",
   "execution_count": 1,
   "metadata": {},
   "outputs": [],
   "source": [
    "from GetData.GetDataMultiDimensions import getDataMultiVariate"
   ]
  },
  {
   "cell_type": "code",
   "execution_count": 2,
   "metadata": {},
   "outputs": [
    {
     "data": {
      "text/plain": [
       "((6600,), (2200,), 0, 0)"
      ]
     },
     "execution_count": 2,
     "metadata": {},
     "output_type": "execute_result"
    }
   ],
   "source": [
    "X_train, y_train, X_test, y_test = getDataMultiVariate(\"SpokenArabicDigit\")\n",
    "X_train.shape, X_test.shape, y_train[0], y_test[0]"
   ]
  },
  {
   "cell_type": "code",
   "execution_count": 3,
   "metadata": {},
   "outputs": [],
   "source": [
    "from MaskingMap.MaskingMapLinear import masking_map_linear_sub_sequence_multivariate"
   ]
  },
  {
   "cell_type": "code",
   "execution_count": 4,
   "metadata": {},
   "outputs": [
    {
     "data": {
      "text/plain": [
       "0.5053716202509346"
      ]
     },
     "execution_count": 4,
     "metadata": {},
     "output_type": "execute_result"
    }
   ],
   "source": [
    "masking_map_linear_sub_sequence_multivariate(X_train[1], X_test[0])"
   ]
  },
  {
   "cell_type": "code",
   "execution_count": 7,
   "metadata": {},
   "outputs": [
    {
     "data": {
      "text/plain": [
       "28"
      ]
     },
     "execution_count": 7,
     "metadata": {},
     "output_type": "execute_result"
    }
   ],
   "source": [
    "len(X_test[0])"
   ]
  },
  {
   "cell_type": "code",
   "execution_count": 15,
   "metadata": {},
   "outputs": [
    {
     "data": {
      "text/plain": [
       "((129, 60), (231, 60), (), ())"
      ]
     },
     "execution_count": 15,
     "metadata": {},
     "output_type": "execute_result"
    }
   ],
   "source": [
    "X_train, X_test, y_train, y_test = getDataMultiVariate(\"MSRDailyActivity3D\")\n",
    "X_train[0].shape, X_test[0].shape, y_train[0].shape, y_test[0].shape"
   ]
  },
  {
   "cell_type": "code",
   "execution_count": 6,
   "metadata": {},
   "outputs": [
    {
     "data": {
      "text/plain": [
       "array([[0, 0, 0, ..., 0, 0, 0],\n",
       "       [0, 0, 0, ..., 0, 0, 0],\n",
       "       [0, 0, 0, ..., 0, 0, 0],\n",
       "       ...,\n",
       "       [0, 0, 0, ..., 0, 0, 0],\n",
       "       [0, 0, 0, ..., 0, 0, 0],\n",
       "       [0, 0, 0, ..., 0, 0, 0]], dtype=uint8)"
      ]
     },
     "execution_count": 6,
     "metadata": {},
     "output_type": "execute_result"
    }
   ],
   "source": [
    "y_train[0]"
   ]
  },
  {
   "cell_type": "code",
   "execution_count": 1,
   "metadata": {},
   "outputs": [],
   "source": [
    "from MaskingMap.MaskingMapLinear import masking_map_linear_sub_sequence_multivariate\n",
    "import numpy as np"
   ]
  },
  {
   "cell_type": "code",
   "execution_count": 10,
   "metadata": {},
   "outputs": [
    {
     "data": {
      "text/plain": [
       "((160,), (160,), (160,), (160,))"
      ]
     },
     "execution_count": 10,
     "metadata": {},
     "output_type": "execute_result"
    }
   ],
   "source": [
    "X_train.shape, X_test.shape, y_train.shape, y_test.shape"
   ]
  },
  {
   "cell_type": "code",
   "execution_count": 11,
   "metadata": {},
   "outputs": [
    {
     "data": {
      "text/plain": [
       "((129, 60), (231, 60))"
      ]
     },
     "execution_count": 11,
     "metadata": {},
     "output_type": "execute_result"
    }
   ],
   "source": [
    "np.array(X_train[0]).shape, np.array(X_test[0]).shape"
   ]
  },
  {
   "cell_type": "code",
   "execution_count": 12,
   "metadata": {},
   "outputs": [
    {
     "data": {
      "text/plain": [
       "0.9054941883018259"
      ]
     },
     "execution_count": 12,
     "metadata": {},
     "output_type": "execute_result"
    }
   ],
   "source": [
    "masking_map_linear_sub_sequence_multivariate(np.array(X_train[0]), np.array(X_test[0]))"
   ]
  },
  {
   "cell_type": "code",
   "execution_count": 12,
   "metadata": {},
   "outputs": [],
   "source": [
    "import os\n",
    "\n",
    "# Hai chuỗi đường dẫn\n",
    "folder_path = \"Data/MultiDimensions/MSRAction3D/\"\n",
    "file_name = \"X_train.pkl\"\n",
    "\n",
    "# Nối hai chuỗi đường dẫn để tạo đường dẫn tuyệt đối đến tệp\n",
    "absolute_path = os.path.join(folder_path, file_name)"
   ]
  },
  {
   "cell_type": "code",
   "execution_count": 13,
   "metadata": {},
   "outputs": [
    {
     "data": {
      "text/plain": [
       "(270,)"
      ]
     },
     "execution_count": 13,
     "metadata": {},
     "output_type": "execute_result"
    }
   ],
   "source": [
    "x = joblib.load(os.path.join(folder_path, file_name))\n",
    "x.shape"
   ]
  },
  {
   "cell_type": "code",
   "execution_count": 4,
   "metadata": {},
   "outputs": [],
   "source": [
    "import numpy as np\n",
    "import os\n",
    "import joblib\n",
    "directory = \"Data/MultiDimensions/Weizmann/binary\"\n",
    "\n",
    "X = []\n",
    "y = np.empty(80, dtype='<U9')\n",
    "\n",
    "index = 0\n",
    "\n",
    "for filename in os.listdir(directory):\n",
    "    f = os.path.join(directory, filename)\n",
    "    # checking if it is a file\n",
    "    if os.path.isfile(f):\n",
    "        X.append(joblib.load(f))\n",
    "        y[index] = filename.split('_')[1]\n",
    "        index = index + 1"
   ]
  },
  {
   "cell_type": "code",
   "execution_count": 1,
   "metadata": {},
   "outputs": [],
   "source": [
    "from GetData.GetDataMultiDimensions import getDataMultiVariate"
   ]
  },
  {
   "cell_type": "code",
   "execution_count": 2,
   "metadata": {},
   "outputs": [],
   "source": [
    "X_train, X_test, y_train, y_test = getDataMultiVariate(\"MSRAction3D\")\n"
   ]
  },
  {
   "cell_type": "code",
   "execution_count": 3,
   "metadata": {},
   "outputs": [
    {
     "data": {
      "text/plain": [
       "((270,), (270,))"
      ]
     },
     "execution_count": 3,
     "metadata": {},
     "output_type": "execute_result"
    }
   ],
   "source": [
    "X_train.shape, y_train.shape"
   ]
  },
  {
   "cell_type": "code",
   "execution_count": 4,
   "metadata": {},
   "outputs": [],
   "source": [
    "from MaskingMap.MaskingMapLinear import masking_map_linear_sub_sequence_multivariate"
   ]
  },
  {
   "cell_type": "code",
   "execution_count": 5,
   "metadata": {},
   "outputs": [
    {
     "data": {
      "text/plain": [
       "0.6863258287069798"
      ]
     },
     "execution_count": 5,
     "metadata": {},
     "output_type": "execute_result"
    }
   ],
   "source": [
    "cost = masking_map_linear_sub_sequence_multivariate(X_train[0], X_test[0])\n",
    "cost"
   ]
  },
  {
   "cell_type": "code",
   "execution_count": 7,
   "metadata": {},
   "outputs": [
    {
     "data": {
      "text/plain": [
       "54"
      ]
     },
     "execution_count": 7,
     "metadata": {},
     "output_type": "execute_result"
    }
   ],
   "source": [
    "len(X_train[0])"
   ]
  },
  {
   "cell_type": "code",
   "execution_count": null,
   "metadata": {},
   "outputs": [],
   "source": []
  }
 ],
 "metadata": {
  "kernelspec": {
   "display_name": "venv",
   "language": "python",
   "name": "python3"
  },
  "language_info": {
   "codemirror_mode": {
    "name": "ipython",
    "version": 3
   },
   "file_extension": ".py",
   "mimetype": "text/x-python",
   "name": "python",
   "nbconvert_exporter": "python",
   "pygments_lexer": "ipython3",
   "version": "3.11.5"
  }
 },
 "nbformat": 4,
 "nbformat_minor": 2
}
