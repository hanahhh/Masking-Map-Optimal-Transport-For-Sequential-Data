{
 "cells": [
  {
   "cell_type": "code",
   "execution_count": 6,
   "metadata": {},
   "outputs": [],
   "source": [
    "import numpy as np\n",
    "from MaskingMap.Utilities.linearprog import lp_partial\n",
    "from MaskingMap.Utilities.sinkhorn import sinkhorn_log_domain\n",
    "from MaskingMap.Utilities.utils import cost_matrix, cost_matrix_1d, create_mask_KL, create_mask_binary, cost_matrix_aw\n",
    "import matplotlib.pyplot as plt"
   ]
  },
  {
   "cell_type": "code",
   "execution_count": 7,
   "metadata": {},
   "outputs": [],
   "source": [
    "def masking_map_non_linear(xs, xt, ratio=0.1, eps=1e-10, reg=0.0001, max_iterations=100000, thres=1e-5, algorithm=\"linear_programming\", plot=False):\n",
    "    '''\n",
    "    Parameters\n",
    "    ----------\n",
    "        a: ndarray, (m,d)\n",
    "           d-dimensional source samples\n",
    "        b: ndarray, (n,d) \n",
    "           d-dimensional target samples\n",
    "        lamb: lambda, int \n",
    "           Adjust the diagonal width. Default is 3\n",
    "        sub_length: int\n",
    "                    The number of elements of sub-sequence. Default is 25\n",
    "        algorithm: str\n",
    "                   algorithm to solve model. Default is \"linear_programming\". Choices should be\n",
    "                   \"linear_programming\" and \"sinkhorn\"\n",
    "        plot: bool\n",
    "              status for plot the optimal transport matrix or not. Default is \"False\"\n",
    "    Returns\n",
    "    ------- \n",
    "        cost: Transportation cost\n",
    "    '''\n",
    "    p = np.ones(len(xs))/len(xs)\n",
    "    q = np.ones(len(xt))/len(xt)\n",
    "\n",
    "    # mask matrix\n",
    "    C = cost_matrix_aw(xs, xt)\n",
    "    C /= (C.max() + eps)\n",
    "    KL = create_mask_KL(xs, xt, type=2)\n",
    "    M_hat = create_mask_binary(KL, ratio)\n",
    "    # solving model\n",
    "    if algorithm == \"linear_programming\":\n",
    "        pi = lp_partial(p, q, C, M_hat)\n",
    "    elif algorithm == \"sinkhorn\":\n",
    "        pi = sinkhorn_log_domain(\n",
    "            p, q, C, M_hat, reg, max_iterations, thres)\n",
    "    else:\n",
    "        raise ValueError(\n",
    "            \"algorithm must be 'linear_programming' or 'sinkhorn'!\")\n",
    "\n",
    "    cost = np.sum(pi * C)\n",
    "    if plot:\n",
    "        plt.imshow(pi, cmap='viridis')\n",
    "        plt.colorbar()\n",
    "        plt.show()\n",
    "        return pi, cost\n",
    "    return cost\n"
   ]
  },
  {
   "cell_type": "code",
   "execution_count": 8,
   "metadata": {},
   "outputs": [],
   "source": [
    "import numpy as np\n",
    "from sklearn.neighbors import KNeighborsClassifier\n",
    "from sklearn.metrics import accuracy_score\n",
    "from tqdm import tqdm\n",
    "def knn_classifier_from_distance_matrix(distance_matrix, k, labels):\n",
    "    knn_clf = KNeighborsClassifier(\n",
    "        n_neighbors=k, algorithm=\"brute\", metric=\"precomputed\"\n",
    "    )\n",
    "    n_train_samples = distance_matrix.shape[1]\n",
    "    knn_clf.fit(np.random.rand(n_train_samples, n_train_samples), labels)\n",
    "    predicted_labels = knn_clf.predict(distance_matrix)\n",
    "    return predicted_labels\n",
    "def knn_masking_map_non_linear(X_train, X_test, y_train, y_test, ratio=0.1, k=1, is_aw=False):\n",
    "    print(f\"Is aw: {is_aw}\")\n",
    "    train_size = len(X_train)\n",
    "    test_size = len(X_test)\n",
    "    result = np.zeros((test_size, train_size))\n",
    "    for train_idx in tqdm(range(train_size)):\n",
    "        cost = 0\n",
    "        for test_idx in tqdm(range(test_size), leave=False):\n",
    "            distance = masking_map_non_linear(\n",
    "                np.array(X_train[train_idx]), np.array(X_test[test_idx]), ratio=ratio, is_aw=is_aw\n",
    "            )\n",
    "            cost += distance\n",
    "            result[test_idx, train_idx] = distance\n",
    "        print(f\"Sum cost: {cost}\\n\")\n",
    "    y_pred = knn_classifier_from_distance_matrix(\n",
    "        distance_matrix=result,\n",
    "        k=k,\n",
    "        labels=y_train,\n",
    "    )\n",
    "    accuracy = accuracy_score(y_test, y_pred)\n",
    "    return accuracy"
   ]
  },
  {
   "cell_type": "code",
   "execution_count": 9,
   "metadata": {},
   "outputs": [
    {
     "data": {
      "text/plain": [
       "(30, 150, (128,))"
      ]
     },
     "execution_count": 9,
     "metadata": {},
     "output_type": "execute_result"
    }
   ],
   "source": [
    "from GetData.GetDataOneDimension import getData\n",
    "X_train, y_train, X_test, y_test = getData(\"BME\", \"../Data/OneDimension/\")\n",
    "len(X_train), len(X_test), X_train[0].shape\n"
   ]
  },
  {
   "cell_type": "code",
   "execution_count": 11,
   "metadata": {},
   "outputs": [
    {
     "name": "stdout",
     "output_type": "stream",
     "text": [
      "Is aw: True\n"
     ]
    },
    {
     "name": "stderr",
     "output_type": "stream",
     "text": [
      "  0%|          | 0/30 [00:00<?, ?it/s]\n"
     ]
    },
    {
     "ename": "KeyboardInterrupt",
     "evalue": "",
     "output_type": "error",
     "traceback": [
      "\u001b[1;31m---------------------------------------------------------------------------\u001b[0m",
      "\u001b[1;31mKeyboardInterrupt\u001b[0m                         Traceback (most recent call last)",
      "Cell \u001b[1;32mIn[11], line 1\u001b[0m\n\u001b[1;32m----> 1\u001b[0m accuracy1 \u001b[38;5;241m=\u001b[39m \u001b[43mknn_masking_map_non_linear\u001b[49m\u001b[43m(\u001b[49m\n\u001b[0;32m      2\u001b[0m \u001b[43m    \u001b[49m\u001b[43mX_train\u001b[49m\u001b[38;5;241;43m=\u001b[39;49m\u001b[43mX_train\u001b[49m\u001b[43m,\u001b[49m\n\u001b[0;32m      3\u001b[0m \u001b[43m    \u001b[49m\u001b[43mX_test\u001b[49m\u001b[38;5;241;43m=\u001b[39;49m\u001b[43mX_test\u001b[49m\u001b[43m,\u001b[49m\n\u001b[0;32m      4\u001b[0m \u001b[43m    \u001b[49m\u001b[43my_train\u001b[49m\u001b[38;5;241;43m=\u001b[39;49m\u001b[43my_train\u001b[49m\u001b[43m,\u001b[49m\n\u001b[0;32m      5\u001b[0m \u001b[43m    \u001b[49m\u001b[43my_test\u001b[49m\u001b[38;5;241;43m=\u001b[39;49m\u001b[43my_test\u001b[49m\u001b[43m,\u001b[49m\n\u001b[0;32m      6\u001b[0m \u001b[43m    \u001b[49m\u001b[43mk\u001b[49m\u001b[38;5;241;43m=\u001b[39;49m\u001b[38;5;241;43m1\u001b[39;49m\u001b[43m,\u001b[49m\n\u001b[0;32m      7\u001b[0m \u001b[43m    \u001b[49m\u001b[43mratio\u001b[49m\u001b[38;5;241;43m=\u001b[39;49m\u001b[38;5;241;43m0.2\u001b[39;49m\u001b[43m,\u001b[49m\n\u001b[0;32m      8\u001b[0m \u001b[43m    \u001b[49m\u001b[43mis_aw\u001b[49m\u001b[38;5;241;43m=\u001b[39;49m\u001b[38;5;28;43;01mTrue\u001b[39;49;00m\n\u001b[0;32m      9\u001b[0m \u001b[43m)\u001b[49m\n\u001b[0;32m     10\u001b[0m accuracy1\n",
      "Cell \u001b[1;32mIn[8], line 21\u001b[0m, in \u001b[0;36mknn_masking_map_non_linear\u001b[1;34m(X_train, X_test, y_train, y_test, ratio, k, is_aw)\u001b[0m\n\u001b[0;32m     19\u001b[0m cost \u001b[38;5;241m=\u001b[39m \u001b[38;5;241m0\u001b[39m\n\u001b[0;32m     20\u001b[0m \u001b[38;5;28;01mfor\u001b[39;00m test_idx \u001b[38;5;129;01min\u001b[39;00m tqdm(\u001b[38;5;28mrange\u001b[39m(test_size), leave\u001b[38;5;241m=\u001b[39m\u001b[38;5;28;01mFalse\u001b[39;00m):\n\u001b[1;32m---> 21\u001b[0m     distance \u001b[38;5;241m=\u001b[39m \u001b[43mmasking_map_non_linear\u001b[49m\u001b[43m(\u001b[49m\n\u001b[0;32m     22\u001b[0m \u001b[43m        \u001b[49m\u001b[43mnp\u001b[49m\u001b[38;5;241;43m.\u001b[39;49m\u001b[43marray\u001b[49m\u001b[43m(\u001b[49m\u001b[43mX_train\u001b[49m\u001b[43m[\u001b[49m\u001b[43mtrain_idx\u001b[49m\u001b[43m]\u001b[49m\u001b[43m)\u001b[49m\u001b[43m,\u001b[49m\u001b[43m \u001b[49m\u001b[43mnp\u001b[49m\u001b[38;5;241;43m.\u001b[39;49m\u001b[43marray\u001b[49m\u001b[43m(\u001b[49m\u001b[43mX_test\u001b[49m\u001b[43m[\u001b[49m\u001b[43mtest_idx\u001b[49m\u001b[43m]\u001b[49m\u001b[43m)\u001b[49m\u001b[43m,\u001b[49m\u001b[43m \u001b[49m\u001b[43mratio\u001b[49m\u001b[38;5;241;43m=\u001b[39;49m\u001b[43mratio\u001b[49m\u001b[43m,\u001b[49m\u001b[43m \u001b[49m\u001b[43mis_aw\u001b[49m\u001b[38;5;241;43m=\u001b[39;49m\u001b[43mis_aw\u001b[49m\n\u001b[0;32m     23\u001b[0m \u001b[43m    \u001b[49m\u001b[43m)\u001b[49m\n\u001b[0;32m     24\u001b[0m     cost \u001b[38;5;241m+\u001b[39m\u001b[38;5;241m=\u001b[39m distance\n\u001b[0;32m     25\u001b[0m     result[test_idx, train_idx] \u001b[38;5;241m=\u001b[39m distance\n",
      "Cell \u001b[1;32mIn[7], line 40\u001b[0m, in \u001b[0;36mmasking_map_non_linear\u001b[1;34m(xs, xt, ratio, eps, reg, max_iterations, thres, algorithm, plot, is_aw)\u001b[0m\n\u001b[0;32m     38\u001b[0m \u001b[38;5;66;03m# solving model\u001b[39;00m\n\u001b[0;32m     39\u001b[0m \u001b[38;5;28;01mif\u001b[39;00m algorithm \u001b[38;5;241m==\u001b[39m \u001b[38;5;124m\"\u001b[39m\u001b[38;5;124mlinear_programming\u001b[39m\u001b[38;5;124m\"\u001b[39m:\n\u001b[1;32m---> 40\u001b[0m     pi \u001b[38;5;241m=\u001b[39m \u001b[43mlp_partial\u001b[49m\u001b[43m(\u001b[49m\u001b[43mp\u001b[49m\u001b[43m,\u001b[49m\u001b[43m \u001b[49m\u001b[43mq\u001b[49m\u001b[43m,\u001b[49m\u001b[43m \u001b[49m\u001b[43mC\u001b[49m\u001b[43m,\u001b[49m\u001b[43m \u001b[49m\u001b[43mM_hat\u001b[49m\u001b[43m)\u001b[49m\n\u001b[0;32m     41\u001b[0m \u001b[38;5;28;01melif\u001b[39;00m algorithm \u001b[38;5;241m==\u001b[39m \u001b[38;5;124m\"\u001b[39m\u001b[38;5;124msinkhorn\u001b[39m\u001b[38;5;124m\"\u001b[39m:\n\u001b[0;32m     42\u001b[0m     pi \u001b[38;5;241m=\u001b[39m sinkhorn_log_domain(\n\u001b[0;32m     43\u001b[0m         p, q, C, M_hat, reg, max_iterations, thres)\n",
      "File \u001b[1;32mc:\\users\\hoang\\onedrive\\documents\\lab\\masking-map-optimal-transport-for-sequential-data\\MaskingMap\\Utilities\\linearprog.py:66\u001b[0m, in \u001b[0;36mlp_partial\u001b[1;34m(p, q, C, Mask, sparse)\u001b[0m\n\u001b[0;32m     64\u001b[0m obj \u001b[38;5;241m=\u001b[39m cvx\u001b[38;5;241m.\u001b[39mMinimize(c\u001b[38;5;241m.\u001b[39mT\u001b[38;5;129m@x\u001b[39m)\n\u001b[0;32m     65\u001b[0m prob \u001b[38;5;241m=\u001b[39m cvx\u001b[38;5;241m.\u001b[39mProblem(obj, cons)\n\u001b[1;32m---> 66\u001b[0m \u001b[43mprob\u001b[49m\u001b[38;5;241;43m.\u001b[39;49m\u001b[43msolve\u001b[49m\u001b[43m(\u001b[49m\u001b[43msolver\u001b[49m\u001b[38;5;241;43m=\u001b[39;49m\u001b[43mcvx\u001b[49m\u001b[38;5;241;43m.\u001b[39;49m\u001b[43mECOS\u001b[49m\u001b[43m)\u001b[49m\n\u001b[0;32m     67\u001b[0m \u001b[38;5;28;01mif\u001b[39;00m prob\u001b[38;5;241m.\u001b[39mstatus \u001b[38;5;241m==\u001b[39m \u001b[38;5;124m\"\u001b[39m\u001b[38;5;124moptimal\u001b[39m\u001b[38;5;124m\"\u001b[39m:\n\u001b[0;32m     68\u001b[0m     pi \u001b[38;5;241m=\u001b[39m x\u001b[38;5;241m.\u001b[39mvalue\n",
      "File \u001b[1;32mc:\\Users\\hoang\\OneDrive\\Documents\\lab\\Masking-Map-Optimal-Transport-For-Sequential-Data\\venv\\Lib\\site-packages\\cvxpy\\problems\\problem.py:503\u001b[0m, in \u001b[0;36mProblem.solve\u001b[1;34m(self, *args, **kwargs)\u001b[0m\n\u001b[0;32m    501\u001b[0m \u001b[38;5;28;01melse\u001b[39;00m:\n\u001b[0;32m    502\u001b[0m     solve_func \u001b[38;5;241m=\u001b[39m Problem\u001b[38;5;241m.\u001b[39m_solve\n\u001b[1;32m--> 503\u001b[0m \u001b[38;5;28;01mreturn\u001b[39;00m \u001b[43msolve_func\u001b[49m\u001b[43m(\u001b[49m\u001b[38;5;28;43mself\u001b[39;49m\u001b[43m,\u001b[49m\u001b[43m \u001b[49m\u001b[38;5;241;43m*\u001b[39;49m\u001b[43margs\u001b[49m\u001b[43m,\u001b[49m\u001b[43m \u001b[49m\u001b[38;5;241;43m*\u001b[39;49m\u001b[38;5;241;43m*\u001b[39;49m\u001b[43mkwargs\u001b[49m\u001b[43m)\u001b[49m\n",
      "File \u001b[1;32mc:\\Users\\hoang\\OneDrive\\Documents\\lab\\Masking-Map-Optimal-Transport-For-Sequential-Data\\venv\\Lib\\site-packages\\cvxpy\\problems\\problem.py:1082\u001b[0m, in \u001b[0;36mProblem._solve\u001b[1;34m(self, solver, warm_start, verbose, gp, qcp, requires_grad, enforce_dpp, ignore_dpp, canon_backend, **kwargs)\u001b[0m\n\u001b[0;32m   1078\u001b[0m     s\u001b[38;5;241m.\u001b[39mLOGGER\u001b[38;5;241m.\u001b[39minfo(\n\u001b[0;32m   1079\u001b[0m             \u001b[38;5;124m'\u001b[39m\u001b[38;5;124mInvoking solver \u001b[39m\u001b[38;5;132;01m%s\u001b[39;00m\u001b[38;5;124m  to obtain a solution.\u001b[39m\u001b[38;5;124m'\u001b[39m,\n\u001b[0;32m   1080\u001b[0m             solving_chain\u001b[38;5;241m.\u001b[39mreductions[\u001b[38;5;241m-\u001b[39m\u001b[38;5;241m1\u001b[39m]\u001b[38;5;241m.\u001b[39mname())\n\u001b[0;32m   1081\u001b[0m start \u001b[38;5;241m=\u001b[39m time\u001b[38;5;241m.\u001b[39mtime()\n\u001b[1;32m-> 1082\u001b[0m solution \u001b[38;5;241m=\u001b[39m \u001b[43msolving_chain\u001b[49m\u001b[38;5;241;43m.\u001b[39;49m\u001b[43msolve_via_data\u001b[49m\u001b[43m(\u001b[49m\n\u001b[0;32m   1083\u001b[0m \u001b[43m    \u001b[49m\u001b[38;5;28;43mself\u001b[39;49m\u001b[43m,\u001b[49m\u001b[43m \u001b[49m\u001b[43mdata\u001b[49m\u001b[43m,\u001b[49m\u001b[43m \u001b[49m\u001b[43mwarm_start\u001b[49m\u001b[43m,\u001b[49m\u001b[43m \u001b[49m\u001b[43mverbose\u001b[49m\u001b[43m,\u001b[49m\u001b[43m \u001b[49m\u001b[43mkwargs\u001b[49m\u001b[43m)\u001b[49m\n\u001b[0;32m   1084\u001b[0m end \u001b[38;5;241m=\u001b[39m time\u001b[38;5;241m.\u001b[39mtime()\n\u001b[0;32m   1085\u001b[0m \u001b[38;5;28mself\u001b[39m\u001b[38;5;241m.\u001b[39m_solve_time \u001b[38;5;241m=\u001b[39m end \u001b[38;5;241m-\u001b[39m start\n",
      "File \u001b[1;32mc:\\Users\\hoang\\OneDrive\\Documents\\lab\\Masking-Map-Optimal-Transport-For-Sequential-Data\\venv\\Lib\\site-packages\\cvxpy\\reductions\\solvers\\solving_chain.py:453\u001b[0m, in \u001b[0;36mSolvingChain.solve_via_data\u001b[1;34m(self, problem, data, warm_start, verbose, solver_opts)\u001b[0m\n\u001b[0;32m    417\u001b[0m \u001b[38;5;28;01mdef\u001b[39;00m \u001b[38;5;21msolve_via_data\u001b[39m(\u001b[38;5;28mself\u001b[39m, problem, data, warm_start: \u001b[38;5;28mbool\u001b[39m \u001b[38;5;241m=\u001b[39m \u001b[38;5;28;01mFalse\u001b[39;00m, verbose: \u001b[38;5;28mbool\u001b[39m \u001b[38;5;241m=\u001b[39m \u001b[38;5;28;01mFalse\u001b[39;00m,\n\u001b[0;32m    418\u001b[0m                    solver_opts\u001b[38;5;241m=\u001b[39m{}):\n\u001b[0;32m    419\u001b[0m \u001b[38;5;250m    \u001b[39m\u001b[38;5;124;03m\"\"\"Solves the problem using the data output by the an apply invocation.\u001b[39;00m\n\u001b[0;32m    420\u001b[0m \n\u001b[0;32m    421\u001b[0m \u001b[38;5;124;03m    The semantics are:\u001b[39;00m\n\u001b[1;32m   (...)\u001b[0m\n\u001b[0;32m    451\u001b[0m \u001b[38;5;124;03m        a Solution object.\u001b[39;00m\n\u001b[0;32m    452\u001b[0m \u001b[38;5;124;03m    \"\"\"\u001b[39;00m\n\u001b[1;32m--> 453\u001b[0m     \u001b[38;5;28;01mreturn\u001b[39;00m \u001b[38;5;28;43mself\u001b[39;49m\u001b[38;5;241;43m.\u001b[39;49m\u001b[43msolver\u001b[49m\u001b[38;5;241;43m.\u001b[39;49m\u001b[43msolve_via_data\u001b[49m\u001b[43m(\u001b[49m\u001b[43mdata\u001b[49m\u001b[43m,\u001b[49m\u001b[43m \u001b[49m\u001b[43mwarm_start\u001b[49m\u001b[43m,\u001b[49m\u001b[43m \u001b[49m\u001b[43mverbose\u001b[49m\u001b[43m,\u001b[49m\n\u001b[0;32m    454\u001b[0m \u001b[43m                                      \u001b[49m\u001b[43msolver_opts\u001b[49m\u001b[43m,\u001b[49m\u001b[43m \u001b[49m\u001b[43mproblem\u001b[49m\u001b[38;5;241;43m.\u001b[39;49m\u001b[43m_solver_cache\u001b[49m\u001b[43m)\u001b[49m\n",
      "File \u001b[1;32mc:\\Users\\hoang\\OneDrive\\Documents\\lab\\Masking-Map-Optimal-Transport-For-Sequential-Data\\venv\\Lib\\site-packages\\cvxpy\\reductions\\solvers\\conic_solvers\\ecos_conif.py:137\u001b[0m, in \u001b[0;36mECOS.solve_via_data\u001b[1;34m(self, data, warm_start, verbose, solver_opts, solver_cache)\u001b[0m\n\u001b[0;32m    132\u001b[0m \u001b[38;5;28;01mif\u001b[39;00m data[s\u001b[38;5;241m.\u001b[39mA] \u001b[38;5;129;01mis\u001b[39;00m \u001b[38;5;129;01mnot\u001b[39;00m \u001b[38;5;28;01mNone\u001b[39;00m \u001b[38;5;129;01mand\u001b[39;00m data[s\u001b[38;5;241m.\u001b[39mA]\u001b[38;5;241m.\u001b[39mnnz \u001b[38;5;241m==\u001b[39m \u001b[38;5;241m0\u001b[39m \u001b[38;5;129;01mand\u001b[39;00m np\u001b[38;5;241m.\u001b[39mprod(data[s\u001b[38;5;241m.\u001b[39mA]\u001b[38;5;241m.\u001b[39mshape) \u001b[38;5;241m>\u001b[39m \u001b[38;5;241m0\u001b[39m:\n\u001b[0;32m    133\u001b[0m     \u001b[38;5;28;01mraise\u001b[39;00m \u001b[38;5;167;01mValueError\u001b[39;00m(\n\u001b[0;32m    134\u001b[0m         \u001b[38;5;124m\"\u001b[39m\u001b[38;5;124mECOS cannot handle sparse data with nnz == 0; \u001b[39m\u001b[38;5;124m\"\u001b[39m\n\u001b[0;32m    135\u001b[0m         \u001b[38;5;124m\"\u001b[39m\u001b[38;5;124mthis is a bug in ECOS, and it indicates that your problem \u001b[39m\u001b[38;5;124m\"\u001b[39m\n\u001b[0;32m    136\u001b[0m         \u001b[38;5;124m\"\u001b[39m\u001b[38;5;124mmight have redundant constraints.\u001b[39m\u001b[38;5;124m\"\u001b[39m)\n\u001b[1;32m--> 137\u001b[0m solution \u001b[38;5;241m=\u001b[39m \u001b[43mecos\u001b[49m\u001b[38;5;241;43m.\u001b[39;49m\u001b[43msolve\u001b[49m\u001b[43m(\u001b[49m\u001b[43mdata\u001b[49m\u001b[43m[\u001b[49m\u001b[43ms\u001b[49m\u001b[38;5;241;43m.\u001b[39;49m\u001b[43mC\u001b[49m\u001b[43m]\u001b[49m\u001b[43m,\u001b[49m\u001b[43m \u001b[49m\u001b[43mdata\u001b[49m\u001b[43m[\u001b[49m\u001b[43ms\u001b[49m\u001b[38;5;241;43m.\u001b[39;49m\u001b[43mG\u001b[49m\u001b[43m]\u001b[49m\u001b[43m,\u001b[49m\u001b[43m \u001b[49m\u001b[43mdata\u001b[49m\u001b[43m[\u001b[49m\u001b[43ms\u001b[49m\u001b[38;5;241;43m.\u001b[39;49m\u001b[43mH\u001b[49m\u001b[43m]\u001b[49m\u001b[43m,\u001b[49m\n\u001b[0;32m    138\u001b[0m \u001b[43m                      \u001b[49m\u001b[43mcones\u001b[49m\u001b[43m,\u001b[49m\u001b[43m \u001b[49m\u001b[43mdata\u001b[49m\u001b[43m[\u001b[49m\u001b[43ms\u001b[49m\u001b[38;5;241;43m.\u001b[39;49m\u001b[43mA\u001b[49m\u001b[43m]\u001b[49m\u001b[43m,\u001b[49m\u001b[43m \u001b[49m\u001b[43mdata\u001b[49m\u001b[43m[\u001b[49m\u001b[43ms\u001b[49m\u001b[38;5;241;43m.\u001b[39;49m\u001b[43mB\u001b[49m\u001b[43m]\u001b[49m\u001b[43m,\u001b[49m\n\u001b[0;32m    139\u001b[0m \u001b[43m                      \u001b[49m\u001b[43mverbose\u001b[49m\u001b[38;5;241;43m=\u001b[39;49m\u001b[43mverbose\u001b[49m\u001b[43m,\u001b[49m\n\u001b[0;32m    140\u001b[0m \u001b[43m                      \u001b[49m\u001b[38;5;241;43m*\u001b[39;49m\u001b[38;5;241;43m*\u001b[39;49m\u001b[43msolver_opts\u001b[49m\u001b[43m)\u001b[49m\n\u001b[0;32m    141\u001b[0m \u001b[38;5;28;01mreturn\u001b[39;00m solution\n",
      "File \u001b[1;32mc:\\Users\\hoang\\OneDrive\\Documents\\lab\\Masking-Map-Optimal-Transport-For-Sequential-Data\\venv\\Lib\\site-packages\\ecos\\ecos.py:60\u001b[0m, in \u001b[0;36msolve\u001b[1;34m(c, G, h, dims, A, b, **kwargs)\u001b[0m\n\u001b[0;32m     57\u001b[0m     data, indices, colptr \u001b[38;5;241m=\u001b[39m G\u001b[38;5;241m.\u001b[39mdata, G\u001b[38;5;241m.\u001b[39mindices, G\u001b[38;5;241m.\u001b[39mindptr\n\u001b[0;32m     59\u001b[0m \u001b[38;5;28;01mif\u001b[39;00m A \u001b[38;5;129;01mis\u001b[39;00m \u001b[38;5;28;01mNone\u001b[39;00m:\n\u001b[1;32m---> 60\u001b[0m     \u001b[38;5;28;01mreturn\u001b[39;00m \u001b[43m_ecos\u001b[49m\u001b[38;5;241;43m.\u001b[39;49m\u001b[43mcsolve\u001b[49m\u001b[43m(\u001b[49m\u001b[43m(\u001b[49m\u001b[43mm\u001b[49m\u001b[43m,\u001b[49m\u001b[43mn1\u001b[49m\u001b[43m,\u001b[49m\u001b[43mp\u001b[49m\u001b[43m)\u001b[49m\u001b[43m,\u001b[49m\u001b[43m \u001b[49m\u001b[43mc\u001b[49m\u001b[43m,\u001b[49m\u001b[43m \u001b[49m\u001b[43mdata\u001b[49m\u001b[43m,\u001b[49m\u001b[43m \u001b[49m\u001b[43mindices\u001b[49m\u001b[43m,\u001b[49m\u001b[43m \u001b[49m\u001b[43mcolptr\u001b[49m\u001b[43m,\u001b[49m\u001b[43m \u001b[49m\u001b[43mh\u001b[49m\u001b[43m,\u001b[49m\u001b[43m \u001b[49m\u001b[43mdims\u001b[49m\u001b[43m,\u001b[49m\u001b[43m \u001b[49m\u001b[38;5;241;43m*\u001b[39;49m\u001b[38;5;241;43m*\u001b[39;49m\u001b[43mkwargs\u001b[49m\u001b[43m)\u001b[49m\n\u001b[0;32m     61\u001b[0m \u001b[38;5;28;01melse\u001b[39;00m:\n\u001b[0;32m     62\u001b[0m     \u001b[38;5;28;01mreturn\u001b[39;00m _ecos\u001b[38;5;241m.\u001b[39mcsolve((m,n1,p), c, data, indices, colptr, h, dims, A\u001b[38;5;241m.\u001b[39mdata, A\u001b[38;5;241m.\u001b[39mindices, A\u001b[38;5;241m.\u001b[39mindptr, b, \u001b[38;5;241m*\u001b[39m\u001b[38;5;241m*\u001b[39mkwargs)\n",
      "\u001b[1;31mKeyboardInterrupt\u001b[0m: "
     ]
    }
   ],
   "source": [
    "accuracy1 = knn_masking_map_non_linear(\n",
    "    X_train=X_train,\n",
    "    X_test=X_test,\n",
    "    y_train=y_train,\n",
    "    y_test=y_test,\n",
    "    k=1,\n",
    "    ratio=0.2,\n",
    "    is_aw=True\n",
    ")\n",
    "accuracy1"
   ]
  },
  {
   "cell_type": "code",
   "execution_count": 14,
   "metadata": {},
   "outputs": [
    {
     "data": {
      "text/plain": [
       "array([[1.39425702e-03, 2.81662678e-04, 1.24177305e-03, ...,\n",
       "        8.98537003e-04, 7.34523732e-05, 2.53677133e-04],\n",
       "       [2.95047611e-08, 4.29679486e-04, 5.16525729e-06, ...,\n",
       "        5.67899974e-05, 8.37586380e-04, 4.65880955e-04],\n",
       "       [1.26180832e-05, 2.89161455e-04, 2.10610741e-06, ...,\n",
       "        1.45309643e-05, 6.35903192e-04, 3.18990745e-04],\n",
       "       ...,\n",
       "       [9.67102717e-04, 1.11119701e-04, 8.40844822e-04, ...,\n",
       "        5.63308965e-04, 5.42405468e-06, 9.38141211e-05],\n",
       "       [1.54940547e-03, 3.53648560e-04, 1.38842217e-03, ...,\n",
       "        1.02389401e-03, 1.12215314e-04, 3.22201854e-04],\n",
       "       [4.09492464e-04, 1.03055124e-07, 3.28877115e-04, ...,\n",
       "        1.65682612e-04, 7.28188302e-05, 1.38435462e-06]])"
      ]
     },
     "execution_count": 14,
     "metadata": {},
     "output_type": "execute_result"
    }
   ],
   "source": [
    "A = cost_matrix_1d(X_train[0], X_train[1])\n",
    "A"
   ]
  },
  {
   "cell_type": "code",
   "execution_count": 15,
   "metadata": {},
   "outputs": [
    {
     "data": {
      "text/plain": [
       "array([[0.03733975, 0.01678281, 0.0352388 , ..., 0.02997561, 0.00857044,\n",
       "        0.01592724],\n",
       "       [0.00017177, 0.02072871, 0.00227272, ..., 0.00753591, 0.02894108,\n",
       "        0.02158428],\n",
       "       [0.00355219, 0.01700475, 0.00145124, ..., 0.00381195, 0.02521712,\n",
       "        0.01786031],\n",
       "       ...,\n",
       "       [0.03109828, 0.01054133, 0.02899732, ..., 0.02373413, 0.00232896,\n",
       "        0.00968577],\n",
       "       [0.03936249, 0.01880555, 0.03726154, ..., 0.03199834, 0.01059317,\n",
       "        0.01794998],\n",
       "       [0.02023592, 0.00032102, 0.01813497, ..., 0.01287178, 0.0085334 ,\n",
       "        0.00117659]])"
      ]
     },
     "execution_count": 15,
     "metadata": {},
     "output_type": "execute_result"
    }
   ],
   "source": [
    "B = cost_matrix_aw(X_train[0], X_train[1])\n",
    "B"
   ]
  },
  {
   "cell_type": "code",
   "execution_count": null,
   "metadata": {},
   "outputs": [],
   "source": []
  }
 ],
 "metadata": {
  "kernelspec": {
   "display_name": "venv",
   "language": "python",
   "name": "python3"
  },
  "language_info": {
   "codemirror_mode": {
    "name": "ipython",
    "version": 3
   },
   "file_extension": ".py",
   "mimetype": "text/x-python",
   "name": "python",
   "nbconvert_exporter": "python",
   "pygments_lexer": "ipython3",
   "version": "3.11.5"
  }
 },
 "nbformat": 4,
 "nbformat_minor": 2
}
