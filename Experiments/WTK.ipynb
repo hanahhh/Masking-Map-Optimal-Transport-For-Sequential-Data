{
 "cells": [
  {
   "cell_type": "code",
   "execution_count": 61,
   "metadata": {},
   "outputs": [],
   "source": [
    "from sklearn.preprocessing import scale\n",
    "from sklearn.metrics import pairwise\n",
    "import numpy as np\n",
    "import ot\n",
    "from sklearn.neighbors import KNeighborsClassifier\n",
    "from sklearn.metrics import accuracy_score\n",
    "from tqdm import tqdm\n"
   ]
  },
  {
   "cell_type": "code",
   "execution_count": 62,
   "metadata": {},
   "outputs": [],
   "source": [
    "def subsequences(time_series, k):\n",
    "    time_series = np.asarray(time_series)\n",
    "    n = time_series.size\n",
    "    shape = (n - k + 1, k)\n",
    "    strides = time_series.strides * 2\n",
    "\n",
    "    return np.lib.stride_tricks.as_strided(\n",
    "        time_series,\n",
    "        shape=shape,\n",
    "        strides=strides\n",
    "    )\n",
    "\n",
    "def subsequences_multivariate(time_series, k):\n",
    "    time_series = np.asarray(time_series)\n",
    "    n = len(time_series)\n",
    "    shape = (n - k + 1, k) + time_series.shape[1:]\n",
    "    if time_series.ndim == 1:\n",
    "        strides = time_series.strides * 2\n",
    "    elif time_series.ndim == 2:\n",
    "        strides = time_series.strides[0], time_series.strides[0], time_series.strides[1]\n",
    "    return np.lib.stride_tricks.as_strided(time_series, shape=shape, strides=strides)"
   ]
  },
  {
   "cell_type": "code",
   "execution_count": 63,
   "metadata": {},
   "outputs": [],
   "source": [
    "def wasserstein_kernel(subsequences_1, subsequences_2, metric='euclidean'):\n",
    "    '''\n",
    "    Calculates the distance between two time series using their\n",
    "    corresponding set of subsequences. The metric used to align\n",
    "    them may be optionally changed.\n",
    "    '''\n",
    "\n",
    "    C = ot.dist(subsequences_1, subsequences_2, metric=metric)\n",
    "    return ot.emd2([], [], C)\n",
    "\n",
    "def wasserstein_kernel_multivariate(subsequences_1, subsequences_2, metric='euclidean'):\n",
    "    '''\n",
    "    Calculates the distance between two time series using their\n",
    "    corresponding set of subsequences. The metric used to align\n",
    "    them may be optionally changed.\n",
    "    '''\n",
    "    sub_length = int(np.floor(min(len(xs), len(xt)) * sub_ratio))\n",
    "\n",
    "    C = ot.dist(subsequences_1, subsequences_2, metric=metric)\n",
    "    return ot.emd2([], [], C)"
   ]
  },
  {
   "cell_type": "code",
   "execution_count": 146,
   "metadata": {},
   "outputs": [],
   "source": [
    "def checkEven(x, y):\n",
    "    rows_diff = x.shape[0] - y.shape[0]\n",
    "    columns_diff = x.shape[1] - y.shape[1]\n",
    "    if rows_diff > 0:\n",
    "        zero_rows = np.zeros((rows_diff, y.shape[1]))\n",
    "        y = np.vstack((y, zero_rows))\n",
    "    elif rows_diff < 0:\n",
    "        zero_rows = np.zeros((-rows_diff, x.shape[1]))\n",
    "        x = np.vstack((x, zero_rows))\n",
    "    if columns_diff > 0:\n",
    "        zero_columns = np.zeros((y.shape[0], columns_diff))\n",
    "        y = np.hstack((y, zero_columns))\n",
    "    elif columns_diff < 0:\n",
    "        zero_columns = np.zeros((x.shape[0], -columns_diff))\n",
    "        x = np.hstack((x, zero_columns))\n",
    "    return x, y\n",
    "def cost_matrix_aw(x, y, subsequence=True):\n",
    "    if subsequence == True:\n",
    "        x = np.array(x).reshape(np.array(x).shape[0], -1)\n",
    "        y = np.array(y).reshape(np.array(y).shape[0], -1)\n",
    "        C = ot.dist(x, y, metric=\"euclidean\", p=2)\n",
    "        return C\n",
    "    else:\n",
    "        x = np.array(x).reshape(np.array(x).shape[0], -1)\n",
    "        y = np.array(y).reshape(np.array(y).shape[0], -1)\n",
    "        C = ot.dist(x, y, metric=\"euclidean\", p=2)\n",
    "        return C"
   ]
  },
  {
   "cell_type": "code",
   "execution_count": 147,
   "metadata": {},
   "outputs": [],
   "source": [
    "def wtk(xs, xt, sub_length, normalized=False):\n",
    "    s_i = subsequences(xs, sub_length)\n",
    "    s_j = subsequences(xt, sub_length)\n",
    "    if normalized:\n",
    "        s_i = scale(s_i, axis=1)\n",
    "        s_i = scale(s_j, axis=1)\n",
    "    dist = wasserstein_kernel(s_i, s_j)\n",
    "    return dist\n",
    "\n",
    "def wtk_multivariate(xs, xt, sub_ratio=0.1, normalized=False):\n",
    "    sub_length = int(np.floor(min(len(xs), len(xt)) * sub_ratio))\n",
    "    subs_xs = subsequences_multivariate(xs, sub_length)\n",
    "    subs_xt = subsequences_multivariate(xt, sub_length)\n",
    "    if normalized:\n",
    "        subs_xs = scale(subs_xs, axis=1)\n",
    "        subs_xt = scale(subs_xt, axis=1)\n",
    "    p = np.ones(len(subs_xs)) / len(subs_xs)\n",
    "    q = np.ones(len(subs_xt)) / len(subs_xt)\n",
    "    C = cost_matrix_aw(subs_xs, subs_xt)\n",
    "    T, logemd = ot.emd(p, q, C, log=True)\n",
    "    return np.sum(T * C)"
   ]
  },
  {
   "cell_type": "code",
   "execution_count": 148,
   "metadata": {},
   "outputs": [],
   "source": [
    "def knn_wtk_short(X_train, X_test, y_train, y_test, sub_length=10, k=1, normalized=False):\n",
    "    clf = KNeighborsClassifier(\n",
    "        n_neighbors=k,\n",
    "        metric=wtk,\n",
    "        metric_params={\"sub_length\": sub_length, \"normalized\": normalized},\n",
    "        n_jobs=-1,\n",
    "    )\n",
    "    clf.fit(X_train, y_train)\n",
    "    y_pred = clf.predict(X_test)\n",
    "    accuracy = accuracy_score(y_test, y_pred)\n",
    "    return accuracy"
   ]
  },
  {
   "cell_type": "code",
   "execution_count": 149,
   "metadata": {},
   "outputs": [],
   "source": [
    "def knn_classifier_from_distance_matrix(distance_matrix, k, labels):\n",
    "    knn_clf = KNeighborsClassifier(\n",
    "        n_neighbors=k, algorithm=\"brute\", metric=\"precomputed\"\n",
    "    )\n",
    "    n_train_samples = distance_matrix.shape[1]\n",
    "    knn_clf.fit(np.random.rand(n_train_samples, n_train_samples), labels)\n",
    "    predicted_labels = knn_clf.predict(distance_matrix)\n",
    "    return predicted_labels\n",
    "def knn_wtk(X_train, X_test, y_train, y_test, sub_ratio=0.1, normalized=False, k=1):\n",
    "    train_size = len(X_train)\n",
    "    test_size = len(X_test)\n",
    "    result = np.zeros((test_size, train_size))\n",
    "    for train_idx in tqdm(range(train_size)):\n",
    "        for test_idx in tqdm(range(test_size), leave=False):\n",
    "            distance = wtk_multivariate(np.array(X_train[train_idx]), np.array(X_test[test_idx]), sub_ratio=sub_ratio, normalized=normalized)\n",
    "            result[test_idx, train_idx] = distance\n",
    "\n",
    "    y_pred = knn_classifier_from_distance_matrix(\n",
    "        distance_matrix=result,\n",
    "        k=k,\n",
    "        labels=y_train,\n",
    "    )\n",
    "    accuracy = accuracy_score(y_test, y_pred)\n",
    "    return accuracy"
   ]
  },
  {
   "cell_type": "code",
   "execution_count": 152,
   "metadata": {},
   "outputs": [
    {
     "data": {
      "text/plain": [
       "(24, 1029, 6600, 2200)"
      ]
     },
     "execution_count": 152,
     "metadata": {},
     "output_type": "execute_result"
    }
   ],
   "source": [
    "from GetData.GetDataMultiDimensions import get_test_data, get_train_data, getDataMultiVariate\n",
    "from GetData.GetDataOneDimension import getData\n",
    "import os\n",
    "\n",
    "X_train, y_train, X_test, y_test = getData('ItalyPowerDemand', '../Data/OneDimension/')\n",
    "len(X_train[0]), len(X_test), len(X_train_arabic), len(X_test_arabic)"
   ]
  },
  {
   "cell_type": "code",
   "execution_count": 159,
   "metadata": {},
   "outputs": [],
   "source": [
    "X_train_arabic, X_test_arabic, y_train_arabic, y_test_arabic = getDataMultiVariate(\"ArabicCut\", data_path=f\"../Data/MultiDimensions/ArabicCut\")"
   ]
  },
  {
   "cell_type": "code",
   "execution_count": 161,
   "metadata": {},
   "outputs": [
    {
     "name": "stderr",
     "output_type": "stream",
     "text": [
      "100%|██████████| 330/330 [00:17<00:00, 18.86it/s]\n"
     ]
    },
    {
     "data": {
      "text/plain": [
       "0.4818181818181818"
      ]
     },
     "execution_count": 161,
     "metadata": {},
     "output_type": "execute_result"
    }
   ],
   "source": [
    "# Arabic Cut\n",
    "knn_wtk(X_train=X_train_arabic, X_test=X_test_arabic, y_train=y_train_arabic, y_test=y_test_arabic, sub_ratio=0.6)"
   ]
  },
  {
   "cell_type": "code",
   "execution_count": 158,
   "metadata": {},
   "outputs": [
    {
     "name": "stderr",
     "output_type": "stream",
     "text": [
      " 64%|██████▍   | 43/67 [00:17<00:09,  2.44it/s]\n"
     ]
    },
    {
     "ename": "KeyboardInterrupt",
     "evalue": "",
     "output_type": "error",
     "traceback": [
      "\u001b[1;31m---------------------------------------------------------------------------\u001b[0m",
      "\u001b[1;31mKeyboardInterrupt\u001b[0m                         Traceback (most recent call last)",
      "Cell \u001b[1;32mIn[158], line 2\u001b[0m\n\u001b[0;32m      1\u001b[0m \u001b[38;5;66;03m# Arabic Cut\u001b[39;00m\n\u001b[1;32m----> 2\u001b[0m \u001b[43mknn_wtk\u001b[49m\u001b[43m(\u001b[49m\u001b[43mX_train\u001b[49m\u001b[38;5;241;43m=\u001b[39;49m\u001b[43mX_train\u001b[49m\u001b[43m,\u001b[49m\u001b[43m \u001b[49m\u001b[43mX_test\u001b[49m\u001b[38;5;241;43m=\u001b[39;49m\u001b[43mX_test\u001b[49m\u001b[43m,\u001b[49m\u001b[43m \u001b[49m\u001b[43my_train\u001b[49m\u001b[38;5;241;43m=\u001b[39;49m\u001b[43my_train\u001b[49m\u001b[43m,\u001b[49m\u001b[43m \u001b[49m\u001b[43my_test\u001b[49m\u001b[38;5;241;43m=\u001b[39;49m\u001b[43my_test\u001b[49m\u001b[43m,\u001b[49m\u001b[43m \u001b[49m\u001b[43msub_ratio\u001b[49m\u001b[38;5;241;43m=\u001b[39;49m\u001b[38;5;241;43m0.2\u001b[39;49m\u001b[43m)\u001b[49m\n",
      "Cell \u001b[1;32mIn[149], line 15\u001b[0m, in \u001b[0;36mknn_wtk\u001b[1;34m(X_train, X_test, y_train, y_test, sub_ratio, normalized, k)\u001b[0m\n\u001b[0;32m     13\u001b[0m \u001b[38;5;28;01mfor\u001b[39;00m train_idx \u001b[38;5;129;01min\u001b[39;00m tqdm(\u001b[38;5;28mrange\u001b[39m(train_size)):\n\u001b[0;32m     14\u001b[0m     \u001b[38;5;28;01mfor\u001b[39;00m test_idx \u001b[38;5;129;01min\u001b[39;00m tqdm(\u001b[38;5;28mrange\u001b[39m(test_size), leave\u001b[38;5;241m=\u001b[39m\u001b[38;5;28;01mFalse\u001b[39;00m):\n\u001b[1;32m---> 15\u001b[0m         distance \u001b[38;5;241m=\u001b[39m \u001b[43mwtk_multivariate\u001b[49m\u001b[43m(\u001b[49m\u001b[43mnp\u001b[49m\u001b[38;5;241;43m.\u001b[39;49m\u001b[43marray\u001b[49m\u001b[43m(\u001b[49m\u001b[43mX_train\u001b[49m\u001b[43m[\u001b[49m\u001b[43mtrain_idx\u001b[49m\u001b[43m]\u001b[49m\u001b[43m)\u001b[49m\u001b[43m,\u001b[49m\u001b[43m \u001b[49m\u001b[43mnp\u001b[49m\u001b[38;5;241;43m.\u001b[39;49m\u001b[43marray\u001b[49m\u001b[43m(\u001b[49m\u001b[43mX_test\u001b[49m\u001b[43m[\u001b[49m\u001b[43mtest_idx\u001b[49m\u001b[43m]\u001b[49m\u001b[43m)\u001b[49m\u001b[43m,\u001b[49m\u001b[43m \u001b[49m\u001b[43msub_ratio\u001b[49m\u001b[38;5;241;43m=\u001b[39;49m\u001b[43msub_ratio\u001b[49m\u001b[43m,\u001b[49m\u001b[43m \u001b[49m\u001b[43mnormalized\u001b[49m\u001b[38;5;241;43m=\u001b[39;49m\u001b[43mnormalized\u001b[49m\u001b[43m)\u001b[49m\n\u001b[0;32m     16\u001b[0m         result[test_idx, train_idx] \u001b[38;5;241m=\u001b[39m distance\n\u001b[0;32m     18\u001b[0m y_pred \u001b[38;5;241m=\u001b[39m knn_classifier_from_distance_matrix(\n\u001b[0;32m     19\u001b[0m     distance_matrix\u001b[38;5;241m=\u001b[39mresult,\n\u001b[0;32m     20\u001b[0m     k\u001b[38;5;241m=\u001b[39mk,\n\u001b[0;32m     21\u001b[0m     labels\u001b[38;5;241m=\u001b[39my_train,\n\u001b[0;32m     22\u001b[0m )\n",
      "Cell \u001b[1;32mIn[147], line 20\u001b[0m, in \u001b[0;36mwtk_multivariate\u001b[1;34m(xs, xt, sub_ratio, normalized)\u001b[0m\n\u001b[0;32m     18\u001b[0m q \u001b[38;5;241m=\u001b[39m np\u001b[38;5;241m.\u001b[39mones(\u001b[38;5;28mlen\u001b[39m(subs_xt)) \u001b[38;5;241m/\u001b[39m \u001b[38;5;28mlen\u001b[39m(subs_xt)\n\u001b[0;32m     19\u001b[0m C \u001b[38;5;241m=\u001b[39m cost_matrix_aw(subs_xs, subs_xt)\n\u001b[1;32m---> 20\u001b[0m T, logemd \u001b[38;5;241m=\u001b[39m \u001b[43mot\u001b[49m\u001b[38;5;241;43m.\u001b[39;49m\u001b[43memd\u001b[49m\u001b[43m(\u001b[49m\u001b[43mp\u001b[49m\u001b[43m,\u001b[49m\u001b[43m \u001b[49m\u001b[43mq\u001b[49m\u001b[43m,\u001b[49m\u001b[43m \u001b[49m\u001b[43mC\u001b[49m\u001b[43m,\u001b[49m\u001b[43m \u001b[49m\u001b[43mlog\u001b[49m\u001b[38;5;241;43m=\u001b[39;49m\u001b[38;5;28;43;01mTrue\u001b[39;49;00m\u001b[43m)\u001b[49m\n\u001b[0;32m     21\u001b[0m \u001b[38;5;28;01mreturn\u001b[39;00m np\u001b[38;5;241m.\u001b[39msum(T \u001b[38;5;241m*\u001b[39m C)\n",
      "File \u001b[1;32mc:\\Users\\hoang\\OneDrive\\Documents\\lab\\Masking-Map-Optimal-Transport-For-Sequential-Data\\venv\\Lib\\site-packages\\ot\\lp\\__init__.py:346\u001b[0m, in \u001b[0;36memd\u001b[1;34m(a, b, M, numItermax, log, center_dual, numThreads, check_marginals)\u001b[0m\n\u001b[0;32m    342\u001b[0m bsel \u001b[38;5;241m=\u001b[39m b \u001b[38;5;241m!=\u001b[39m \u001b[38;5;241m0\u001b[39m\n\u001b[0;32m    344\u001b[0m numThreads \u001b[38;5;241m=\u001b[39m check_number_threads(numThreads)\n\u001b[1;32m--> 346\u001b[0m G, cost, u, v, result_code \u001b[38;5;241m=\u001b[39m \u001b[43memd_c\u001b[49m\u001b[43m(\u001b[49m\u001b[43ma\u001b[49m\u001b[43m,\u001b[49m\u001b[43m \u001b[49m\u001b[43mb\u001b[49m\u001b[43m,\u001b[49m\u001b[43m \u001b[49m\u001b[43mM\u001b[49m\u001b[43m,\u001b[49m\u001b[43m \u001b[49m\u001b[43mnumItermax\u001b[49m\u001b[43m,\u001b[49m\u001b[43m \u001b[49m\u001b[43mnumThreads\u001b[49m\u001b[43m)\u001b[49m\n\u001b[0;32m    348\u001b[0m \u001b[38;5;28;01mif\u001b[39;00m center_dual:\n\u001b[0;32m    349\u001b[0m     u, v \u001b[38;5;241m=\u001b[39m center_ot_dual(u, v, a, b)\n",
      "\u001b[1;31mKeyboardInterrupt\u001b[0m: "
     ]
    }
   ],
   "source": [
    "# Arabic Cut\n",
    "knn_wtk(X_train=X_train, X_test=X_test, y_train=y_train, y_test=y_test, sub_ratio=0.2)"
   ]
  },
  {
   "cell_type": "code",
   "execution_count": 72,
   "metadata": {},
   "outputs": [
    {
     "data": {
      "text/plain": [
       "0.9523809523809523"
      ]
     },
     "execution_count": 72,
     "metadata": {},
     "output_type": "execute_result"
    }
   ],
   "source": [
    "# ItalyPowerDemand\n",
    "knn_wtk_short(X_train=X_train, X_test=X_test, y_train=y_train, y_test=y_test, sub_length=12)"
   ]
  },
  {
   "cell_type": "code",
   "execution_count": 105,
   "metadata": {},
   "outputs": [
    {
     "name": "stderr",
     "output_type": "stream",
     "text": [
      "100%|██████████| 67/67 [00:37<00:00,  1.81it/s]\n"
     ]
    },
    {
     "data": {
      "text/plain": [
       "0.9523809523809523"
      ]
     },
     "execution_count": 105,
     "metadata": {},
     "output_type": "execute_result"
    }
   ],
   "source": [
    "# ItalyPowerDemand\n",
    "knn_wtk(X_train=X_train, X_test=X_test, y_train=y_train, y_test=y_test, sub_ratio=0.5)"
   ]
  },
  {
   "cell_type": "code",
   "execution_count": 70,
   "metadata": {},
   "outputs": [
    {
     "name": "stderr",
     "output_type": "stream",
     "text": [
      "  0%|          | 0/67 [00:00<?, ?it/s]"
     ]
    },
    {
     "name": "stderr",
     "output_type": "stream",
     "text": [
      "100%|██████████| 67/67 [00:53<00:00,  1.25it/s]\n"
     ]
    },
    {
     "data": {
      "text/plain": [
       "0.9523809523809523"
      ]
     },
     "execution_count": 70,
     "metadata": {},
     "output_type": "execute_result"
    }
   ],
   "source": [
    "# ItalyPowerDemand\n",
    "knn_wtk(X_train=X_train, X_test=X_test, y_train=y_train, y_test=y_test, sub_ratio=0.5)"
   ]
  },
  {
   "cell_type": "code",
   "execution_count": 53,
   "metadata": {},
   "outputs": [],
   "source": [
    "a = [1,2,3,4,5,6,7,8,9,10]"
   ]
  },
  {
   "cell_type": "code",
   "execution_count": 76,
   "metadata": {},
   "outputs": [
    {
     "data": {
      "text/plain": [
       "37"
      ]
     },
     "execution_count": 76,
     "metadata": {},
     "output_type": "execute_result"
    }
   ],
   "source": [
    "len(X_train_arabic[0])"
   ]
  },
  {
   "cell_type": "code",
   "execution_count": 82,
   "metadata": {},
   "outputs": [],
   "source": [
    "a = subsequences_multivariate(np.array(X_train_arabic[0]), 4)"
   ]
  },
  {
   "cell_type": "code",
   "execution_count": 83,
   "metadata": {},
   "outputs": [
    {
     "data": {
      "text/plain": [
       "34"
      ]
     },
     "execution_count": 83,
     "metadata": {},
     "output_type": "execute_result"
    }
   ],
   "source": [
    "len(a)"
   ]
  },
  {
   "cell_type": "code",
   "execution_count": 86,
   "metadata": {},
   "outputs": [
    {
     "data": {
      "text/plain": [
       "(37, 13)"
      ]
     },
     "execution_count": 86,
     "metadata": {},
     "output_type": "execute_result"
    }
   ],
   "source": [
    "X_train_arabic[0].shape"
   ]
  },
  {
   "cell_type": "code",
   "execution_count": 94,
   "metadata": {},
   "outputs": [],
   "source": [
    "def check(a, b):\n",
    "    print(a.shape, b.shape)\n",
    "    x_tr = a.reshape(a.shape[0], -1)\n",
    "    x_te = b.reshape(b.shape[0], -1)\n",
    "    M = ot.dist(x_tr, x_te, metric=\"euclidean\")\n",
    "    print(x_tr.shape, x_te.shape)"
   ]
  },
  {
   "cell_type": "code",
   "execution_count": 95,
   "metadata": {},
   "outputs": [
    {
     "name": "stdout",
     "output_type": "stream",
     "text": [
      "(37, 13) (27, 13)\n",
      "(37, 13) (27, 13)\n"
     ]
    }
   ],
   "source": [
    "check(X_train_arabic[0], X_test_arabic[0])"
   ]
  },
  {
   "cell_type": "code",
   "execution_count": 132,
   "metadata": {},
   "outputs": [
    {
     "data": {
      "text/plain": [
       "((28, 10, 13), (37, 13))"
      ]
     },
     "execution_count": 132,
     "metadata": {},
     "output_type": "execute_result"
    }
   ],
   "source": [
    "m = subsequences_multivariate(X_train_arabic[0], 10)\n",
    "m.shape, X_train_arabic[0].shape"
   ]
  },
  {
   "cell_type": "code",
   "execution_count": 131,
   "metadata": {},
   "outputs": [
    {
     "data": {
      "text/plain": [
       "((15, 10), (24,))"
      ]
     },
     "execution_count": 131,
     "metadata": {},
     "output_type": "execute_result"
    }
   ],
   "source": [
    "n = subsequences_multivariate(X_train[0], 10)\n",
    "n.shape, X_train[0].shape"
   ]
  },
  {
   "cell_type": "code",
   "execution_count": 134,
   "metadata": {},
   "outputs": [
    {
     "data": {
      "text/plain": [
       "((15, 10), (28, 130))"
      ]
     },
     "execution_count": 134,
     "metadata": {},
     "output_type": "execute_result"
    }
   ],
   "source": [
    "x = np.array(n).reshape(np.array(n).shape[0], -1)\n",
    "y = np.array(m).reshape(np.array(m).shape[0], -1)\n",
    "x.shape, y.shape"
   ]
  },
  {
   "cell_type": "code",
   "execution_count": 130,
   "metadata": {},
   "outputs": [
    {
     "data": {
      "text/plain": [
       "array([[ 1.41421356,  4.24264069,  7.07106781,  9.89949494, 12.72792206,\n",
       "        14.14213562],\n",
       "       [ 1.41421356,  1.41421356,  4.24264069,  7.07106781,  9.89949494,\n",
       "        11.3137085 ],\n",
       "       [ 4.24264069,  1.41421356,  1.41421356,  4.24264069,  7.07106781,\n",
       "         8.48528137],\n",
       "       [ 7.07106781,  4.24264069,  1.41421356,  1.41421356,  4.24264069,\n",
       "         5.65685425],\n",
       "       [ 9.89949494,  7.07106781,  4.24264069,  1.41421356,  1.41421356,\n",
       "         2.82842712]])"
      ]
     },
     "execution_count": 130,
     "metadata": {},
     "output_type": "execute_result"
    }
   ],
   "source": [
    "a = np.array([[1,2],[3,4],[5,6],[7,8],[9,10]])\n",
    "b = np.array([[2,3],[4,5],[6,7],[8,9],[10,11], [11, 12]])\n",
    "s = ot.dist(a,b, metric=\"euclidean\", p=2)\n",
    "s"
   ]
  },
  {
   "cell_type": "code",
   "execution_count": 142,
   "metadata": {},
   "outputs": [
    {
     "data": {
      "text/plain": [
       "((15, 10), (15, 10), (24,), (24,))"
      ]
     },
     "execution_count": 142,
     "metadata": {},
     "output_type": "execute_result"
    }
   ],
   "source": [
    "xs, xt = X_train[0], X_test[0]\n",
    "xs = subsequences_multivariate(xs, 10)\n",
    "xt = subsequences_multivariate(xt, 10)\n",
    "xs.shape, xt.shape, X_train[0].shape, X_test[0].shape"
   ]
  },
  {
   "cell_type": "code",
   "execution_count": 138,
   "metadata": {},
   "outputs": [
    {
     "data": {
      "text/plain": [
       "((15, 15),\n",
       " array([[2.92422471, 1.52494548, 0.95793296, 2.05599471, 3.16647458,\n",
       "         4.09092487, 4.69806488, 5.16141802, 5.31913661, 5.17047855,\n",
       "         4.65077782, 3.73202258, 3.05482472, 3.04826275, 3.82320833],\n",
       "        [3.87581379, 2.69234133, 1.4997384 , 1.18265142, 2.2762774 ,\n",
       "         3.47152227, 4.38594529, 5.08351792, 5.50074669, 5.59075094,\n",
       "         5.24091182, 4.36578664, 3.39706496, 2.84666483, 2.90868504],\n",
       "        [4.50271157, 3.50408729, 2.57992109, 1.47632639, 1.40480571,\n",
       "         2.56987967, 3.7050912 , 4.66047375, 5.35281573, 5.66771282,\n",
       "         5.48981062, 4.78452261, 3.92895252, 3.06337465, 2.50865552],\n",
       "        [4.98626135, 4.12192656, 3.40393492, 2.49675858, 1.51741481,\n",
       "         1.63210173, 2.72231408, 3.87465934, 4.84768532, 5.43050367,\n",
       "         5.46515397, 4.97230468, 4.40281623, 3.65744415, 2.71329723],\n",
       "        [5.19368038, 4.63591082, 4.09756775, 3.33908446, 2.46537487,\n",
       "         1.48916824, 1.5790048 , 2.68494058, 3.93449725, 4.80984382,\n",
       "         5.106193  , 4.89446971, 4.73324791, 4.2849804 , 3.43187633],\n",
       "        [5.27007604, 5.07942363, 4.84617268, 4.21254321, 3.43127161,\n",
       "         2.4867867 , 1.46128912, 1.42002793, 2.68191037, 3.88767744,\n",
       "         4.53495121, 4.71869149, 5.0717853 , 4.98987838, 4.39570571],\n",
       "        [4.96162438, 5.087589  , 5.17593373, 4.87710064, 4.23324413,\n",
       "         3.42764897, 2.46656808, 1.39232677, 1.48948696, 2.63282676,\n",
       "         3.53939638, 4.03211632, 4.73856863, 5.175217  , 4.98455727],\n",
       "        [4.49391991, 4.85210142, 5.21296795, 5.22267422, 4.89363623,\n",
       "         4.2315724 , 3.43008232, 2.48981227, 1.46675234, 1.48711057,\n",
       "         2.27164674, 3.05494618, 4.17931694, 4.92621343, 5.22971753],\n",
       "        [4.11884383, 4.48713763, 4.85891466, 5.15620138, 5.09904893,\n",
       "         4.8046689 , 4.19786061, 3.56794633, 2.47344755, 1.58572167,\n",
       "         1.60104884, 2.08711988, 3.30120482, 4.3518147 , 4.96972247],\n",
       "        [3.95138846, 4.11385791, 4.29418303, 4.63749826, 4.85845749,\n",
       "         4.89828629, 4.7019535 , 4.34360338, 3.47168293, 2.51726264,\n",
       "         1.99546556, 1.69948622, 2.26262161, 3.33197166, 4.29142548],\n",
       "        [4.11367015, 3.93574647, 3.85258112, 3.99378227, 4.25117432,\n",
       "         4.6054824 , 4.76461795, 4.81511192, 4.22615524, 3.47060861,\n",
       "         2.79965534, 2.0998443 , 1.87835863, 2.25622791, 3.21722339],\n",
       "        [4.3265693 , 4.03574571, 3.56396194, 3.32828397, 3.28104752,\n",
       "         3.68111355, 4.21470136, 4.63239001, 4.42824722, 3.96117985,\n",
       "         3.48590745, 2.79378302, 2.41917966, 1.95702536, 1.99793252],\n",
       "        [4.55673587, 4.31582415, 3.83966674, 3.14210759, 2.59668545,\n",
       "         2.59173371, 3.22057444, 4.03857388, 4.2382847 , 4.17953611,\n",
       "         3.94360901, 3.4926571 , 3.25763977, 2.74814398, 1.9371727 ],\n",
       "        [4.81776702, 4.62253502, 4.30292044, 3.62324661, 2.59648406,\n",
       "         1.89202336, 2.05468804, 3.02427678, 3.65704737, 4.0330745 ,\n",
       "         4.16844584, 3.97787756, 4.03965341, 3.70604901, 2.93721212],\n",
       "        [5.08788758, 4.95136831, 4.81066149, 4.32398266, 3.46100015,\n",
       "         2.28954171, 1.56737855, 1.93785458, 2.75175557, 3.56269661,\n",
       "         4.0338176 , 4.19753385, 4.58417029, 4.56894692, 4.01544227]]))"
      ]
     },
     "execution_count": 138,
     "metadata": {},
     "output_type": "execute_result"
    }
   ],
   "source": [
    "a = cost_matrix_aw(xs, xt)\n",
    "a.shape, a"
   ]
  },
  {
   "cell_type": "code",
   "execution_count": 144,
   "metadata": {},
   "outputs": [
    {
     "data": {
      "text/plain": [
       "((28, 10, 13), (18, 10, 13), (37, 13), (27, 13))"
      ]
     },
     "execution_count": 144,
     "metadata": {},
     "output_type": "execute_result"
    }
   ],
   "source": [
    "xs, xt = X_train_arabic[0], X_test_arabic[0]\n",
    "xs = subsequences_multivariate(xs, 10)\n",
    "xt = subsequences_multivariate(xt, 10)\n",
    "xs.shape, xt.shape, X_train_arabic[0].shape, X_test_arabic[0].shape"
   ]
  },
  {
   "cell_type": "code",
   "execution_count": 145,
   "metadata": {},
   "outputs": [
    {
     "data": {
      "text/plain": [
       "((28, 18),\n",
       " array([[16.74837578, 18.57405355, 20.62559658, 22.33089174, 23.41404617,\n",
       "         23.88138955, 24.06304208, 24.43016653, 24.09362315, 22.72499319,\n",
       "         21.94123684, 19.94600327, 19.08419337, 18.65372775, 18.6654895 ,\n",
       "         19.2155159 , 20.22841408, 21.65655729],\n",
       "        [13.8974213 , 16.64639955, 18.48103369, 20.10206654, 21.78723461,\n",
       "         22.69442834, 23.34264336, 23.94986631, 23.82862566, 22.67816497,\n",
       "         21.65823822, 20.30237708, 18.06313061, 17.42863998, 17.27486134,\n",
       "         18.25869487, 19.48031352, 20.74954325],\n",
       "        [11.98866702, 14.14225901, 16.80049554, 18.18481624, 19.77239939,\n",
       "         21.5167779 , 22.71667503, 23.46373873, 23.41694589, 22.47098759,\n",
       "         21.69579374, 20.17382834, 18.7754575 , 16.57430239, 16.21988041,\n",
       "         16.95733762, 18.67226976, 20.24133792],\n",
       "        [11.81402883, 12.46009308, 14.52405204, 16.8042646 , 18.20426532,\n",
       "         19.83905634, 21.83484651, 23.25359354, 23.36902606, 22.47787741,\n",
       "         21.94374492, 20.7094229 , 19.20673476, 17.92879124, 15.95541958,\n",
       "         16.33996912, 17.79843002, 19.7861753 ],\n",
       "        [14.5932807 , 12.47352539, 13.11538386, 14.84170266, 16.95582604,\n",
       "         18.45024835, 20.34205379, 22.3014497 , 22.93278226, 22.16399665,\n",
       "         21.77134515, 20.82485046, 19.62379363, 18.21857712, 17.16070502,\n",
       "         15.8786966 , 16.86953097, 18.83352507],\n",
       "        [16.91367572, 14.92653951, 12.89176519, 13.17699731, 14.92204999,\n",
       "         16.90146088, 18.67746528, 20.74241985, 21.90341126, 21.67134825,\n",
       "         21.3603304 , 20.50190373, 19.40530773, 18.35463053, 17.14589634,\n",
       "         16.71077765, 16.12961363, 17.58210503],\n",
       "        [19.07018426, 17.4510581 , 15.47112247, 13.21392153, 13.46418616,\n",
       "         14.87095453, 16.99225836, 19.00888642, 20.43198706, 20.75012255,\n",
       "         21.02330792, 20.3279391 , 19.63157139, 18.80028848, 18.03767536,\n",
       "         17.2454154 , 17.30255406, 16.85813319],\n",
       "        [21.55671661, 19.86723088, 18.35564746, 16.25616423, 14.04721233,\n",
       "         13.40555967, 14.73369347, 16.83358721, 18.15525422, 18.8141524 ,\n",
       "         19.873435  , 19.75903686, 19.19741609, 19.04825576, 18.50959413,\n",
       "         17.88270643, 17.23895932, 17.18918304],\n",
       "        [23.77510095, 22.50001681, 20.97732937, 19.31092072, 17.12764009,\n",
       "         14.0914449 , 13.0651799 , 14.42420063, 15.81540899, 16.30246689,\n",
       "         17.78411291, 18.5743071 , 18.90970881, 19.10839821, 19.2979435 ,\n",
       "         19.01177559, 18.3798958 , 17.47721593],\n",
       "        [25.41049476, 24.53477606, 23.40028964, 21.72368181, 20.01588454,\n",
       "         17.3651412 , 14.1722823 , 12.36708334, 12.58509124, 13.16994725,\n",
       "         14.46303688, 16.02757089, 17.51151434, 18.59361032, 19.088446  ,\n",
       "         19.45436322, 19.18299144, 18.46999272],\n",
       "        [26.19975478, 25.37677413, 24.54612925, 22.97324488, 21.24951651,\n",
       "         18.91120369, 15.87950418, 13.67354647, 11.80354375, 11.32082457,\n",
       "         12.1490111 , 13.34704359, 15.87858073, 18.01505758, 19.25161007,\n",
       "         20.14328183, 20.60944613, 20.00452021],\n",
       "        [26.25684057, 25.46364563, 24.64332686, 23.35104698, 21.82812594,\n",
       "         19.43564343, 16.68046981, 14.94751116, 13.05077215, 11.35717382,\n",
       "         10.92138353, 11.71353072, 14.00016664, 16.84166983, 18.87589486,\n",
       "         20.10731416, 20.73023073, 20.78003997],\n",
       "        [25.58037838, 25.30080513, 24.5365214 , 23.30216048, 22.0587669 ,\n",
       "         20.13790639, 17.42469257, 15.87690837, 14.32961117, 12.56575941,\n",
       "         10.97869798, 10.5372422 , 12.64452119, 15.18566559, 17.81484905,\n",
       "         19.63376871, 20.51477021, 20.97072037],\n",
       "        [24.40518968, 24.53779405, 24.29027913, 23.1262083 , 21.97288969,\n",
       "         20.34479709, 18.14968287, 16.63431089, 15.18844357, 13.87410069,\n",
       "         11.98978722, 10.47563904, 11.30891974, 13.61024837, 15.98762526,\n",
       "         18.36810974, 19.82330248, 20.6188129 ],\n",
       "        [22.87439761, 23.33268894, 23.50649768, 22.91979358, 21.9452591 ,\n",
       "         20.1657523 , 18.23519123, 17.35026479, 16.00705501, 14.7778012 ,\n",
       "         13.58524444, 11.62604829, 10.96180964, 12.29054435, 14.46311897,\n",
       "         16.40787108, 18.40044823, 19.56890044],\n",
       "        [21.01150307, 21.794324  , 22.29814053, 22.13599996, 21.80767173,\n",
       "         20.08206812, 18.12873543, 17.923544  , 17.73734162, 16.46800644,\n",
       "         15.88896702, 13.79158878, 11.37715896, 11.36203398, 12.71466214,\n",
       "         14.52177362, 15.91736603, 17.46563964],\n",
       "        [18.57992472, 19.7134188 , 20.53755601, 20.65002269, 20.71312507,\n",
       "         20.005337  , 18.48159677, 18.31614478, 18.49717975, 18.12464441,\n",
       "         17.3095597 , 15.91219893, 13.09522745, 10.85297587, 10.93459222,\n",
       "         12.36707851, 14.04330351, 15.55977567],\n",
       "        [16.5187498 , 17.2407809 , 18.36566433, 18.7091911 , 18.99662726,\n",
       "         18.75150578, 18.38718872, 18.76845804, 18.99142634, 18.80128207,\n",
       "         18.65686901, 17.08094739, 14.86050537, 11.83787603,  9.45723881,\n",
       "         10.57981747, 12.34050564, 14.20644416],\n",
       "        [16.46145125, 15.54245566, 16.23072669, 16.93564898, 17.40468447,\n",
       "         17.4160032 , 17.43529362, 18.70542963, 19.11740556, 18.7717427 ,\n",
       "         18.73420998, 17.96276622, 15.64388121, 13.33111892, 10.16841931,\n",
       "          8.68538241, 10.55860938, 12.9178216 ],\n",
       "        [18.65033454, 16.2569004 , 15.23008721, 15.48383681, 16.39339336,\n",
       "         16.5529218 , 16.91587231, 18.2491174 , 19.30451664, 19.13271063,\n",
       "         19.13605971, 18.4331686 , 16.79817588, 14.53342185, 12.30086727,\n",
       "          9.47661415,  8.47470346, 11.10892856],\n",
       "        [20.88838951, 18.97563554, 16.52468626, 15.09958925, 15.52875207,\n",
       "         15.83863565, 16.23626626, 17.77635426, 18.80791   , 19.20169989,\n",
       "         19.54903617, 18.85873457, 17.40015512, 15.99219052, 13.92450516,\n",
       "         11.97881398,  9.4423386 ,  8.84657724],\n",
       "        [22.77944439, 21.29606498, 19.37195945, 16.58254718, 15.26634091,\n",
       "         14.83023384, 15.2271994 , 16.59446046, 17.79128081, 18.32693242,\n",
       "         19.2247526 , 19.03815609, 17.9377474 , 16.85456158, 15.58586223,\n",
       "         13.89989458, 12.14892014,  9.70644109],\n",
       "        [24.80965197, 23.29272482, 21.77854793, 19.66643317, 17.04345577,\n",
       "         15.05334476, 14.55229114, 15.84277913, 16.81661147, 17.42869328,\n",
       "         18.47498559, 18.88743303, 18.3820946 , 17.57390229, 16.64767173,\n",
       "         15.55921862, 13.95064091, 12.29751202],\n",
       "        [26.60753277, 25.23495445, 23.71749602, 22.03849603, 20.04954192,\n",
       "         16.7220184 , 14.63676535, 14.93677051, 15.83216616, 16.25826131,\n",
       "         17.44915752, 17.99764343, 18.22754237, 18.10367657, 17.46414946,\n",
       "         16.69092335, 15.63915257, 13.85043369],\n",
       "        [28.0463123 , 26.89312267, 25.52654911, 23.75493169, 22.07530137,\n",
       "         19.34271746, 15.7075371 , 14.51927786, 14.69854148, 15.16729814,\n",
       "         16.22087008, 16.86772366, 17.38221006, 18.08473721, 18.08510364,\n",
       "         17.77967984, 16.9542276 , 15.52985771],\n",
       "        [28.42506013, 27.41577353, 26.16994727, 24.41455587, 22.62525598,\n",
       "         19.89884931, 16.57455527, 14.64127553, 14.52694708, 14.50992549,\n",
       "         15.27124615, 15.64032539, 16.39316469, 17.49751297, 18.26911327,\n",
       "         18.66566675, 18.08748963, 16.33542338],\n",
       "        [28.92165571, 27.99589739, 26.89783347, 25.37598736, 23.67232064,\n",
       "         20.84381248, 17.54115994, 15.59169092, 14.8659274 , 14.85580685,\n",
       "         15.28676951, 15.43565942, 16.22444741, 17.63394351, 18.69269852,\n",
       "         19.40247713, 19.19867207, 17.3936897 ],\n",
       "        [28.96640209, 28.13697105, 27.14397526, 25.78809628, 24.3542036 ,\n",
       "         21.7066268 , 18.32187699, 16.52334831, 15.69004666, 15.12894596,\n",
       "         15.59340426, 15.45390309, 15.88865801, 17.25969542, 18.59488862,\n",
       "         19.51341012, 19.54564061, 18.25191407]]))"
      ]
     },
     "execution_count": 145,
     "metadata": {},
     "output_type": "execute_result"
    }
   ],
   "source": [
    "a = cost_matrix_aw(xs, xt)\n",
    "a.shape, a"
   ]
  },
  {
   "cell_type": "code",
   "execution_count": null,
   "metadata": {},
   "outputs": [],
   "source": []
  }
 ],
 "metadata": {
  "kernelspec": {
   "display_name": "venv",
   "language": "python",
   "name": "python3"
  },
  "language_info": {
   "codemirror_mode": {
    "name": "ipython",
    "version": 3
   },
   "file_extension": ".py",
   "mimetype": "text/x-python",
   "name": "python",
   "nbconvert_exporter": "python",
   "pygments_lexer": "ipython3",
   "version": "3.11.5"
  }
 },
 "nbformat": 4,
 "nbformat_minor": 2
}
