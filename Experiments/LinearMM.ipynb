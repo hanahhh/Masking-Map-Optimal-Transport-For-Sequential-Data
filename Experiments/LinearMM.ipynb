{
 "cells": [
  {
   "cell_type": "code",
   "execution_count": 1,
   "metadata": {},
   "outputs": [
    {
     "data": {
      "text/plain": [
       "(30, 150, 6600, 2200)"
      ]
     },
     "execution_count": 1,
     "metadata": {},
     "output_type": "execute_result"
    }
   ],
   "source": [
    "from GetData.GetDataMultiDimensions import get_test_data, get_train_data\n",
    "from GetData.GetDataOneDimension import getData\n",
    "import os\n",
    "\n",
    "X_train, y_train, X_test, y_test = getData('BME', '../Data/OneDimension/')\n",
    "X_train_arabic, y_train_arabic = get_train_data(os.path.join('../Data/MultiDimensions/arabic/arabic/Train_Arabic_Digit.txt'))\n",
    "X_test_arabic, y_test_arabic = get_test_data(os.path.join('../Data/MultiDimensions/arabic/arabic/Test_Arabic_Digit.txt'))\n",
    "\n",
    "len(X_train), len(X_test), len(X_train_arabic), len(X_test_arabic)"
   ]
  },
  {
   "cell_type": "code",
   "execution_count": 2,
   "metadata": {},
   "outputs": [],
   "source": [
    "import numpy as np\n",
    "def subsequences(time_series, k):\n",
    "    time_series = np.asarray(time_series)\n",
    "    n = time_series.size\n",
    "    shape = (n - k + 1, k)\n",
    "    strides = time_series.strides * 2\n",
    "\n",
    "    return np.lib.stride_tricks.as_strided(time_series, shape=shape, strides=strides)"
   ]
  },
  {
   "cell_type": "code",
   "execution_count": 3,
   "metadata": {},
   "outputs": [],
   "source": [
    "from MaskingMap.Utilities.utils import cost_matrix_aw, create_mask\n",
    "from MaskingMap.Utilities.linearprog import lp\n",
    "from MaskingMap.Utilities.sinkhorn import sinkhorn_log_domain\n",
    "def masking_map(\n",
    "    xs,\n",
    "    xt,\n",
    "    ratio=0.1,\n",
    "    sub_ratio=0.1,\n",
    "    eps=1e-10,\n",
    "    reg=0.0001,\n",
    "    max_iterations=100000,\n",
    "    thres=1e-5,\n",
    "    algorithm=\"linear_programming\"\n",
    "):\n",
    "    sub_length = int(np.floor(min(len(xs), len(xt))*sub_ratio))\n",
    "    subs_xs = subsequences(xs, sub_length)\n",
    "    subs_xt = subsequences(xt, sub_length)\n",
    "    p = np.ones(len(subs_xs)) / len(subs_xs)\n",
    "    q = np.ones(len(subs_xt)) / len(subs_xt)\n",
    "    C = cost_matrix_aw(subs_xs, subs_xt)\n",
    "    C /= C.max() + eps\n",
    "    M = create_mask(C, ratio)\n",
    "    if algorithm == \"linear_programming\":\n",
    "        pi = lp(p, q, C, M)\n",
    "    elif algorithm == \"sinkhorn\":\n",
    "        pi = sinkhorn_log_domain(p, q, C, M, reg, max_iterations, thres)\n",
    "    else:\n",
    "        raise ValueError(\"algorithm must be 'linear_programming' or 'sinkhorn'!\")\n",
    "    cost = np.sum(pi * C)\n",
    "    return cost"
   ]
  },
  {
   "cell_type": "code",
   "execution_count": 4,
   "metadata": {},
   "outputs": [
    {
     "data": {
      "text/plain": [
       "0.48806576815445263"
      ]
     },
     "execution_count": 4,
     "metadata": {},
     "output_type": "execute_result"
    }
   ],
   "source": [
    "masking_map(X_train[0], X_test[70])"
   ]
  },
  {
   "cell_type": "code",
   "execution_count": 5,
   "metadata": {},
   "outputs": [],
   "source": [
    "from sklearn.neighbors import KNeighborsClassifier\n",
    "from sklearn.metrics import accuracy_score\n",
    "def knn_masking_map_linear_subsequence_short(\n",
    "    X_train, X_test, y_train, y_test, ratio=0.1, sub_ratio=0.1, k=1\n",
    "):\n",
    "    clf = KNeighborsClassifier(\n",
    "        n_neighbors=k,\n",
    "        metric=masking_map,\n",
    "        metric_params={\"ratio\": ratio, \"sub_ratio\": sub_ratio},\n",
    "        n_jobs=-1,\n",
    "    )\n",
    "    clf.fit(X_train, y_train)\n",
    "    y_pred = clf.predict(X_test)\n",
    "    accuracy = accuracy_score(y_test, y_pred)\n",
    "    return accuracy"
   ]
  },
  {
   "cell_type": "code",
   "execution_count": 6,
   "metadata": {},
   "outputs": [],
   "source": [
    "accuracy = knn_masking_map_linear_subsequence_short(X_train=X_train, X_test=X_test, y_train=y_train, y_test=y_test)"
   ]
  },
  {
   "cell_type": "code",
   "execution_count": 7,
   "metadata": {},
   "outputs": [
    {
     "data": {
      "text/plain": [
       "0.9"
      ]
     },
     "execution_count": 7,
     "metadata": {},
     "output_type": "execute_result"
    }
   ],
   "source": [
    "accuracy"
   ]
  },
  {
   "cell_type": "code",
   "execution_count": 2,
   "metadata": {},
   "outputs": [
    {
     "data": {
      "text/plain": [
       "0.9"
      ]
     },
     "execution_count": 2,
     "metadata": {},
     "output_type": "execute_result"
    }
   ],
   "source": [
    "from MaskingMap.knn import knn_masking_map_linear_subsequence_sklearn\n",
    "accuracy = knn_masking_map_linear_subsequence_sklearn(X_train=X_train, X_test=X_test, y_train=y_train, y_test=y_test)\n",
    "accuracy"
   ]
  },
  {
   "cell_type": "code",
   "execution_count": 1,
   "metadata": {},
   "outputs": [],
   "source": [
    "data = [\"MoteStrain\",\n",
    "      \"OliveOil\",\n",
    "      \"Plane\",\n",
    "      \"SmoothSubspace\",\n",
    "      \"SonyAIBORobotSurface1\",\n",
    "      \"SonyAIBORobotSurface2\",\n",
    "      \"ToeSegmentation2\"]"
   ]
  },
  {
   "cell_type": "code",
   "execution_count": null,
   "metadata": {},
   "outputs": [
    {
     "ename": "",
     "evalue": "",
     "output_type": "error",
     "traceback": [
      "\u001b[1;31mThe kernel failed to start as the Python Environment 'Python 3.12.2' is no longer available. Consider selecting another kernel or refreshing the list of Python Environments."
     ]
    }
   ],
   "source": [
    "import argparse\n",
    "import json\n",
    "import random\n",
    "import numpy as np\n",
    "from sklearn.metrics import accuracy_score\n",
    "from tqdm import tqdm\n",
    "# from MaskingMap.\n",
    "# from GetData.GetDataOneDimension import getData\n",
    "from MaskingMap.knn import (\n",
    "    knn_masking_map_linear,\n",
    "    knn_masking_map_linear_subsequence,\n",
    "    knn_masking_map_linear_partial,\n",
    "    knn_masking_map_non_linear,\n",
    "    knn_masking_map_linear_subsequence_sklearn,\n",
    ")\n",
    "\n",
    "np.random.seed(42)\n",
    "random.seed(42)\n",
    "sklearn_seed = 0"
   ]
  },
  {
   "cell_type": "code",
   "execution_count": null,
   "metadata": {},
   "outputs": [],
   "source": [
    "for data_set in data:\n",
    "    X_train, y_train, X_test, y_test = getData(\n",
    "        data_set, \"Data/OneDimension/\"\n",
    "    )\n",
    "    best_accuracy = -100\n",
    "    for k in algorithms[\"masking_map_linear_subsequence\"][\"k\"]:\n",
    "        with open(\n",
    "            \"Results/ExperimentMaskingMapLinearSubsequence.txt\", \"a\"\n",
    "        ) as file:\n",
    "            file.write(f\"{data_set}({k}) \")\n",
    "        for ratio in algorithms[\"masking_map_linear_subsequence\"][\"ratio\"]:\n",
    "            for sub_ratio in algorithms[\"masking_map_linear_subsequence\"][\n",
    "                \"sub_ratio\"\n",
    "            ]:\n",
    "                accuracy = knn_masking_map_linear_subsequence_sklearn(\n",
    "                    X_train=X_train,\n",
    "                    X_test=X_test,\n",
    "                    y_train=y_train,\n",
    "                    y_test=y_test,\n",
    "                    k=k,\n",
    "                    ratio=ratio,\n",
    "                    sub_ratio=sub_ratio,\n",
    "                )\n",
    "                if accuracy > best_accuracy:\n",
    "                    best_accuracy = accuracy\n",
    "                with open(\n",
    "                    \"Results/ExperimentMaskingMapLinearSubsequence.txt\",\n",
    "                    \"a\",\n",
    "                ) as file:\n",
    "                    if (\n",
    "                        ratio\n",
    "                        == algorithms[\"masking_map_linear_subsequence\"][\n",
    "                            \"ratio\"\n",
    "                        ][\n",
    "                            len(\n",
    "                                algorithms[\n",
    "                                    \"masking_map_linear_subsequence\"\n",
    "                                ][\"ratio\"]\n",
    "                            )\n",
    "                            - 1\n",
    "                        ]\n",
    "                        and sub_ratio\n",
    "                        == algorithms[\"masking_map_linear_subsequence\"][\n",
    "                            \"sub_ratio\"\n",
    "                        ][\n",
    "                            len(\n",
    "                                algorithms[\n",
    "                                    \"masking_map_linear_subsequence\"\n",
    "                                ][\"sub_ratio\"]\n",
    "                            )\n",
    "                            - 1\n",
    "                        ]\n",
    "                    ):\n",
    "                        file.write(\n",
    "                            f\"&({ratio};{sub_ratio}) {round(accuracy, 2)}\\\\\\ \\n\"\n",
    "                        )\n",
    "                    else:\n",
    "                        file.write(\n",
    "                            f\"&({ratio};{sub_ratio}) {round(accuracy, 2)} \"\n",
    "                        )\n",
    "    with open(\n",
    "        \"Results/ExperimentMaskingMapLinearSubsequence.txt\", \"a\"\n",
    "    ) as file:\n",
    "        file.write(f\"{data_set} best result: {best_accuracy} \\n\")"
   ]
  }
 ],
 "metadata": {
  "kernelspec": {
   "display_name": "venv",
   "language": "python",
   "name": "python3"
  },
  "language_info": {
   "codemirror_mode": {
    "name": "ipython",
    "version": 3
   },
   "file_extension": ".py",
   "mimetype": "text/x-python",
   "name": "python",
   "nbconvert_exporter": "python",
   "pygments_lexer": "ipython3",
   "version": "3.11.5"
  }
 },
 "nbformat": 4,
 "nbformat_minor": 2
}
