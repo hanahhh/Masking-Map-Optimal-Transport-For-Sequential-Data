{
 "cells": [
  {
   "cell_type": "markdown",
   "metadata": {},
   "source": [
    "## 1. Function"
   ]
  },
  {
   "cell_type": "code",
   "execution_count": 1,
   "metadata": {},
   "outputs": [],
   "source": [
    "import seaborn as sns\n",
    "import matplotlib.pyplot as plt\n",
    "def draw_matrix(M, type=\"seaborn\"):\n",
    "    if type == \"seaborn\":\n",
    "        plt.figure(figsize=(8, 6))\n",
    "        sns.heatmap(M, linewidth=0.5)\n",
    "        plt.show()\n",
    "    else:\n",
    "        plt.imshow(M, cmap='viridis')\n",
    "        plt.colorbar()\n",
    "        plt.show()\n",
    "def draw_multiple_matrices(list):\n",
    "    plt.figure(figsize=(15, 5))\n",
    "    for i in range(len(list)):\n",
    "        plt.subplot(1, len(list), i+1)\n",
    "        sns.heatmap(list[i], linewidth=0.5)\n",
    "    plt.tight_layout()\n",
    "    plt.show()"
   ]
  },
  {
   "cell_type": "code",
   "execution_count": 2,
   "metadata": {},
   "outputs": [],
   "source": [
    "import numpy as np\n",
    "import ot\n",
    "def cost_matrix(x, y):\n",
    "    x = np.array(x).reshape(np.array(x).shape[0], -1)\n",
    "    y = np.array(y).reshape(np.array(y).shape[0], -1)\n",
    "    C = ot.dist(x, y, metric='euclidean', p=2)\n",
    "    return C"
   ]
  },
  {
   "cell_type": "code",
   "execution_count": 3,
   "metadata": {},
   "outputs": [],
   "source": [
    "def D1(x, y):\n",
    "    n = len(x)\n",
    "    m = len(y)\n",
    "    M = np.zeros((n, m))\n",
    "    for i in range(n):\n",
    "        for j in range(m):\n",
    "            M[i][j] = 1/(np.square(i/n - j/m) + 1)\n",
    "    return M"
   ]
  },
  {
   "cell_type": "code",
   "execution_count": 4,
   "metadata": {},
   "outputs": [],
   "source": [
    "def create_mask_linear(xs, xt, ratio):\n",
    "    n = len(xs)\n",
    "    m = len(xt)\n",
    "    lamb = ratio * min(n, m)\n",
    "    M = np.zeros((n, m))\n",
    "    for i in range(n):\n",
    "        for j in range(m):\n",
    "            if (i > j*n/m - lamb) & (i < j*n/m + lamb):\n",
    "                M[i][j] = 1\n",
    "    return M"
   ]
  },
  {
   "cell_type": "code",
   "execution_count": 5,
   "metadata": {},
   "outputs": [],
   "source": [
    "import math\n",
    "import numpy as np\n",
    "def create_neighbor_relationship(x):\n",
    "    xs = np.array(x).reshape(np.array(x).shape[0], -1)\n",
    "    xt = np.concatenate((np.array([np.zeros_like(xs[0])]),xs ), axis=0)[:-1]\n",
    "    f = xs - xt\n",
    "    d = np.linalg.norm(f, axis=1)\n",
    "    f1 = np.cumsum(d)\n",
    "    sum_dist = f1[len(f1)-1]\n",
    "    return f1/sum_dist\n",
    "\n",
    "def create_mask_KL(xs, xt, sigma=1, type=1):\n",
    "    f1 = create_neighbor_relationship(xs)\n",
    "    f2 = create_neighbor_relationship(xt)\n",
    "    n = len(f1)\n",
    "    m = len(f2)\n",
    "    if (type == 1):\n",
    "        for i in range(n):\n",
    "            for j in range(m):\n",
    "                if (f1[i] == f2[j]):\n",
    "                    M[i][j] = 1\n",
    "                else:\n",
    "                    M[i][j] = min(f1[i], f2[j])/max(f1[i], f2[j])\n",
    "        return M\n",
    "    if (type == 2):\n",
    "        mid_para = np.sqrt((1/(n**2) + 1/(m**2)))\n",
    "        M = np.abs(np.subtract.outer(f1, f2)) / mid_para\n",
    "        return np.exp(-(np.power(M, 2)) / 2 * np.power(sigma, 2)) / (sigma * np.sqrt(2 * np.pi))\n",
    "\n",
    "def D2(xs, xt, sigma=1, type=1):\n",
    "    n = len(xs)\n",
    "    m = len(xt)\n",
    "    M = np.zeros((n, m))\n",
    "    f1 = create_neighbor_relationship(xs)\n",
    "    f2 = create_neighbor_relationship(xt)\n",
    "    if(type == 1):\n",
    "        for i in range(n):\n",
    "            for j in range(m):\n",
    "                if (f1[i] == f2[j]):\n",
    "                    M[i][j] = 1\n",
    "                else:\n",
    "                    M[i][j] = min(f1[i], f2[j])/max(f1[i], f2[j])\n",
    "        return M\n",
    "    elif (type == 2):\n",
    "        n = len(f1)\n",
    "        m = len(f2)\n",
    "        mid_para = np.sqrt((1/(n**2) + 1/(m**2)))\n",
    "        M = np.abs(np.subtract.outer(f1, f2)) / mid_para\n",
    "        return np.exp(-(np.power(M, 2)) / 2 * np.power(sigma, 2)) / (sigma * np.sqrt(2 * np.pi))\n",
    "\n",
    "def create_mask_non_linear(KL, ratio=0.1, sigma=1, type=1):\n",
    "    # f1 = create_neighbor_relationship(xs)\n",
    "    # f2 = create_neighbor_relationship(xt)\n",
    "    # n = len(f1)\n",
    "    # m = len(f2)\n",
    "    # mid_para = np.sqrt((1/(n**2) + 1/(m**2)))\n",
    "    # KL = np.abs(np.subtract.outer(f1, f2)) / mid_para\n",
    "    # KL = np.exp(-(np.power(KL, 2)) / 2 * np.power(sigma, 2)) / (sigma * np.sqrt(2 * np.pi))\n",
    "    n, m = KL.shape\n",
    "    flattened_list = KL.flatten()\n",
    "    sorted_list = sorted(flattened_list)\n",
    "    pivot = sorted_list[math.floor((1-ratio)*len(sorted_list))]\n",
    "    M = np.zeros((n, m))\n",
    "    for i in range(n):\n",
    "        for j in range(m):\n",
    "            if KL[i][j] > pivot:\n",
    "                M[i][j] = 1\n",
    "    return M"
   ]
  },
  {
   "cell_type": "code",
   "execution_count": 6,
   "metadata": {},
   "outputs": [],
   "source": [
    "import numpy as np\n",
    "import cvxpy as cvx\n",
    "import scipy.optimize._linprog as linprog\n",
    "import scipy.sparse as sps\n",
    "def lp(p, q, C, Mask=None,sparse=True):\n",
    "    c = np.reshape(C.T,(-1,1))\n",
    "    b = np.vstack((p.reshape(-1,1),q.reshape(-1,1)))\n",
    "    if not sparse:\n",
    "        A = np.vstack((np.kron(np.ones((1,len(q))),np.eye(len(p))),\n",
    "                       np.kron(np.eye(len(q)),np.ones((1,len(p))))\n",
    "                       ))\n",
    "    else:\n",
    "        A = sps.vstack((sps.kron(np.ones((1,len(q))),sps.eye(len(p))),\n",
    "                       sps.kron(sps.eye(len(q)),np.ones((1,len(p))))\n",
    "                       ))\n",
    "    if Mask is not None:\n",
    "        m = np.reshape(Mask.T,(-1,1))\n",
    "        if not sparse:\n",
    "            A = A*(m.T)\n",
    "        else:\n",
    "            A = A @ sps.diags(np.reshape(m, (-1,)))\n",
    "        c = c*m\n",
    "    x = cvx.Variable((len(c),1))\n",
    "    cons = [x>=0,\n",
    "            A@x==b]\n",
    "    obj = cvx.Minimize(c.T@x)\n",
    "    prob = cvx.Problem(obj,cons)\n",
    "    prob.solve()\n",
    "\n",
    "    # print(prob.status)\n",
    "    pi = x.value\n",
    "    pi = np.reshape(pi,(len(q),len(p)))\n",
    "    pi = pi.T\n",
    "    if Mask is not None:\n",
    "        pi = pi*Mask\n",
    "    return pi"
   ]
  },
  {
   "cell_type": "code",
   "execution_count": 9,
   "metadata": {},
   "outputs": [],
   "source": [
    "import numpy as np\n",
    "def sinkhorn_log_domain(p, q, C, Mask=None, reg=0.1, niter=10000, thresh = 1e-5):\n",
    "    C /= C.max()\n",
    "    def M(u, v):\n",
    "        \"Modified cost for logarithmic updates\"\n",
    "        \"$M_{ij} = (-c_{ij} + u_i + v_j) / \\epsilon$\"\n",
    "        M =  (-C + np.expand_dims(u,1) + np.expand_dims(v,0)) / reg\n",
    "        if Mask is not None:\n",
    "            M[Mask==0] = -1e6\n",
    "        return M\n",
    "\n",
    "    def lse(A):\n",
    "        \"log-sum-exp\"\n",
    "\n",
    "        # return np.log(np.exp(A).sum(1, keepdims=True) + 1e-10)\n",
    "        max_A = np.max(A, axis=1, keepdims=True)\n",
    "        return np.log(np.exp(A-max_A).sum(1, keepdims=True) + 1e-10) + max_A  # add 10^-6 to prevent NaN\n",
    "\n",
    "    # Actual Sinkhorn loop ......................................................................\n",
    "    u, v, err = 0. * p, 0. * q, 0.\n",
    "    actual_nits = 0  # to check if algorithm terminates because of threshold or max iterations reached\n",
    "\n",
    "    for i in range(niter):\n",
    "        u1 = u  # useful to check the update\n",
    "        u = reg * (np.log(p) - lse(M(u, v)).squeeze()) + u\n",
    "        v = reg * (np.log(q) - lse(M(u, v).T).squeeze()) + v\n",
    "        err = np.linalg.norm(u - u1)\n",
    "\n",
    "        actual_nits += 1\n",
    "        if err < thresh:\n",
    "            break\n",
    "    U, V = u, v\n",
    "    pi = np.exp(M(U, V))  # Transport plan pi = diag(a)*K*diag(b)\n",
    "    return pi"
   ]
  },
  {
   "cell_type": "code",
   "execution_count": 64,
   "metadata": {},
   "outputs": [],
   "source": [
    "import math\n",
    "def auto_weighted_masking_map_try(xs, xt, eps=1e-10, algorithm=\"sinkhorn\"):\n",
    "    D1_cost = D1(xs, xt)\n",
    "    D2_cost = D2(xs, xt, type=1)\n",
    "    C = D1_cost + D2_cost\n",
    "    old_w1 = -100\n",
    "    w1, w2 = 1/2, 1/2\n",
    "    T = np.zeros((len(xs), len(xt)))\n",
    "    iteration_num = 0\n",
    "    while w1 - old_w1 > eps:\n",
    "        M1 = create_mask_linear(xs=xs, xt=xt, ratio=w1/(w1+w2))\n",
    "        M2 = create_mask_non_linear(D2_cost, ratio=w2/(w1+w2))\n",
    "        iteration_num += 1\n",
    "        M_ = w1*M1 + w2*M2\n",
    "        M = (M_ >= 1).astype(int)\n",
    "        # draw_multiple_matrices([M1, M2, M])\n",
    "        p = np.ones(len(xs))/len(xs)\n",
    "        q = np.ones(len(xt))/len(xt)\n",
    "        if algorithm == \"linear_programming\":\n",
    "            T = lp(p=p, q=q, C=C, Mask=M)\n",
    "        elif algorithm == \"sinkhorn\":\n",
    "            T = sinkhorn_log_domain(p=p, q=q, C=C, Mask=M)\n",
    "        else:\n",
    "            raise ValueError(\"algorithm must be 'linear_programming' or 'sinkhorn'!\")\n",
    "        old_w1 = w1\n",
    "        w1 = 1/(2*math.sqrt(np.sum(T*D1_cost)))\n",
    "        w2 = 1/(2*math.sqrt(np.sum(T*D2_cost)))\n",
    "        # print(f\"Iter: {iteration_num}; w1: {w1}; w2: {w2};cost {w1*np.sum(T*D1_cost) + w2*np.sum(T*D2_cost)}\")\n",
    "        # w2 = 1 - w1\n",
    "    print(f\"Iter num: {iteration_num}\")\n",
    "    return w1*np.sum(T*D1_cost) + w2*np.sum(T*D2_cost) #, T, w1, w2, iteration_num"
   ]
  },
  {
   "cell_type": "markdown",
   "metadata": {},
   "source": [
    "## 2. Masking map"
   ]
  },
  {
   "cell_type": "code",
   "execution_count": 12,
   "metadata": {},
   "outputs": [
    {
     "data": {
      "text/plain": [
       "(30, 150, 6600, 2200)"
      ]
     },
     "execution_count": 12,
     "metadata": {},
     "output_type": "execute_result"
    }
   ],
   "source": [
    "from GetData.GetDataMultiDimensions import get_test_data, get_train_data\n",
    "from GetData.GetDataOneDimension import getData\n",
    "import os\n",
    "\n",
    "X_train, y_train, X_test, y_test = getData('BME', '../Data/OneDimension/')\n",
    "X_train_arabic, y_train_arabic = get_train_data(os.path.join('../Data/MultiDimensions/arabic/arabic/Train_Arabic_Digit.txt'))\n",
    "X_test_arabic, y_test_arabic = get_test_data(os.path.join('../Data/MultiDimensions/arabic/arabic/Test_Arabic_Digit.txt'))\n",
    "\n",
    "len(X_train), len(X_test), len(X_train_arabic), len(X_test_arabic)"
   ]
  },
  {
   "cell_type": "code",
   "execution_count": 13,
   "metadata": {},
   "outputs": [
    {
     "data": {
      "text/plain": [
       "('1', '2', 0, 1)"
      ]
     },
     "execution_count": 13,
     "metadata": {},
     "output_type": "execute_result"
    }
   ],
   "source": [
    "y_train[0], y_train[10], y_train_arabic[0], y_train_arabic[760]"
   ]
  },
  {
   "cell_type": "markdown",
   "metadata": {},
   "source": [
    "### 2.1 One dimensional data"
   ]
  },
  {
   "cell_type": "code",
   "execution_count": 23,
   "metadata": {},
   "outputs": [
    {
     "data": {
      "image/png": "[encoded data removed]",
      "text/plain": [
       "<Figure size 800x600 with 2 Axes>"
      ]
     },
     "metadata": {},
     "output_type": "display_data"
    },
    {
     "data": {
      "text/plain": [
       "numpy.ndarray"
      ]
     },
     "execution_count": 23,
     "metadata": {},
     "output_type": "execute_result"
    }
   ],
   "source": [
    "M_linear = create_mask_linear(X_train[0], X_train[10], 12)\n",
    "draw_matrix(M_linear)\n",
    "type(M_linear)"
   ]
  },
  {
   "cell_type": "code",
   "execution_count": 12,
   "metadata": {},
   "outputs": [
    {
     "ename": "ValueError",
     "evalue": "not enough values to unpack (expected 2, got 1)",
     "output_type": "error",
     "traceback": [
      "\u001b[1;31m---------------------------------------------------------------------------\u001b[0m",
      "\u001b[1;31mValueError\u001b[0m                                Traceback (most recent call last)",
      "Cell \u001b[1;32mIn[12], line 1\u001b[0m\n\u001b[1;32m----> 1\u001b[0m M_non_linear \u001b[38;5;241m=\u001b[39m \u001b[43mcreate_mask_non_linear\u001b[49m\u001b[43m(\u001b[49m\u001b[43mX_train\u001b[49m\u001b[43m[\u001b[49m\u001b[38;5;241;43m0\u001b[39;49m\u001b[43m]\u001b[49m\u001b[43m,\u001b[49m\u001b[43m \u001b[49m\u001b[43mX_train\u001b[49m\u001b[43m[\u001b[49m\u001b[38;5;241;43m10\u001b[39;49m\u001b[43m]\u001b[49m\u001b[43m)\u001b[49m\n\u001b[0;32m      2\u001b[0m draw_matrix(M_non_linear)\n",
      "Cell \u001b[1;32mIn[5], line 59\u001b[0m, in \u001b[0;36mcreate_mask_non_linear\u001b[1;34m(KL, ratio, sigma, type)\u001b[0m\n\u001b[0;32m     51\u001b[0m \u001b[38;5;28;01mdef\u001b[39;00m \u001b[38;5;21mcreate_mask_non_linear\u001b[39m(KL, ratio\u001b[38;5;241m=\u001b[39m\u001b[38;5;241m0.1\u001b[39m, sigma\u001b[38;5;241m=\u001b[39m\u001b[38;5;241m1\u001b[39m, \u001b[38;5;28mtype\u001b[39m\u001b[38;5;241m=\u001b[39m\u001b[38;5;241m1\u001b[39m):\n\u001b[0;32m     52\u001b[0m     \u001b[38;5;66;03m# f1 = create_neighbor_relationship(xs)\u001b[39;00m\n\u001b[0;32m     53\u001b[0m     \u001b[38;5;66;03m# f2 = create_neighbor_relationship(xt)\u001b[39;00m\n\u001b[1;32m   (...)\u001b[0m\n\u001b[0;32m     57\u001b[0m     \u001b[38;5;66;03m# KL = np.abs(np.subtract.outer(f1, f2)) / mid_para\u001b[39;00m\n\u001b[0;32m     58\u001b[0m     \u001b[38;5;66;03m# KL = np.exp(-(np.power(KL, 2)) / 2 * np.power(sigma, 2)) / (sigma * np.sqrt(2 * np.pi))\u001b[39;00m\n\u001b[1;32m---> 59\u001b[0m     n, m \u001b[38;5;241m=\u001b[39m KL\u001b[38;5;241m.\u001b[39mshape\n\u001b[0;32m     60\u001b[0m     flattened_list \u001b[38;5;241m=\u001b[39m KL\u001b[38;5;241m.\u001b[39mflatten()\n\u001b[0;32m     61\u001b[0m     sorted_list \u001b[38;5;241m=\u001b[39m \u001b[38;5;28msorted\u001b[39m(flattened_list)\n",
      "\u001b[1;31mValueError\u001b[0m: not enough values to unpack (expected 2, got 1)"
     ]
    }
   ],
   "source": [
    "M_non_linear = create_mask_non_linear(X_train[0], X_train[10])\n",
    "draw_matrix(M_non_linear)"
   ]
  },
  {
   "cell_type": "markdown",
   "metadata": {},
   "source": [
    "### 2.2. Two dimensional data"
   ]
  },
  {
   "cell_type": "code",
   "execution_count": 10,
   "metadata": {},
   "outputs": [
    {
     "data": {
      "image/png": "[encoded data removed]",
      "text/plain": [
       "<Figure size 640x480 with 2 Axes>"
      ]
     },
     "metadata": {},
     "output_type": "display_data"
    }
   ],
   "source": [
    "M_linear = create_mask_linear(X_train_arabic[0], X_train_arabic[760], 5)\n",
    "draw_matrix(M_linear)"
   ]
  },
  {
   "cell_type": "code",
   "execution_count": 25,
   "metadata": {},
   "outputs": [
    {
     "data": {
      "image/png": "[encoded data removed]",
      "text/plain": [
       "<Figure size 640x480 with 2 Axes>"
      ]
     },
     "metadata": {},
     "output_type": "display_data"
    }
   ],
   "source": [
    "M_non_linear = create_mask_non_linear(X_train_arabic[2], X_test_arabic[395])\n",
    "draw_matrix(M_non_linear)"
   ]
  },
  {
   "cell_type": "markdown",
   "metadata": {},
   "source": [
    "## 3. Optimal matrix"
   ]
  },
  {
   "cell_type": "code",
   "execution_count": 50,
   "metadata": {},
   "outputs": [
    {
     "data": {
      "text/plain": [
       "(30, 150, 6600, 2200)"
      ]
     },
     "execution_count": 50,
     "metadata": {},
     "output_type": "execute_result"
    }
   ],
   "source": [
    "from GetData.GetDataMultiDimensions import get_test_data, get_train_data\n",
    "from GetData.GetDataOneDimension import getData\n",
    "from MaskingMap.MaskingMapAutoWeighted import masking_map_auto_weighted\n",
    "from MaskingMap.Utilities.utils import draw_matrix_aw\n",
    "import os\n",
    "\n",
    "X_train, y_train, X_test, y_test = getData('BME', '../Data/OneDimension/')\n",
    "X_train_arabic, y_train_arabic = get_train_data(os.path.join('../Data/MultiDimensions/arabic/arabic/Train_Arabic_Digit.txt'))\n",
    "X_test_arabic, y_test_arabic = get_test_data(os.path.join('../Data/MultiDimensions/arabic/arabic/Test_Arabic_Digit.txt'))\n",
    "\n",
    "len(X_train), len(X_test), len(X_train_arabic), len(X_test_arabic)"
   ]
  },
  {
   "cell_type": "markdown",
   "metadata": {},
   "source": [
    "### 3.1. One dimensional data"
   ]
  },
  {
   "cell_type": "code",
   "execution_count": 15,
   "metadata": {},
   "outputs": [
    {
     "data": {
      "text/plain": [
       "('1', '2')"
      ]
     },
     "execution_count": 15,
     "metadata": {},
     "output_type": "execute_result"
    }
   ],
   "source": [
    "y_train[0], y_test[70]"
   ]
  },
  {
   "cell_type": "code",
   "execution_count": 16,
   "metadata": {},
   "outputs": [
    {
     "data": {
      "text/plain": [
       "(0, 3)"
      ]
     },
     "execution_count": 16,
     "metadata": {},
     "output_type": "execute_result"
    }
   ],
   "source": [
    "y_train_arabic[0], y_test_arabic[700]"
   ]
  },
  {
   "cell_type": "code",
   "execution_count": 13,
   "metadata": {},
   "outputs": [
    {
     "data": {
      "image/png": "[encoded data removed]",
      "text/plain": [
       "<Figure size 1500x500 with 4 Axes>"
      ]
     },
     "metadata": {},
     "output_type": "display_data"
    },
    {
     "data": {
      "text/plain": [
       "(None,\n",
       " array([[0.15560062, 0.80579002, 0.58424189, ..., 0.00789528, 0.00780666,\n",
       "         0.00778846],\n",
       "        [0.07806191, 0.62259548, 0.85868754, ..., 0.01573764, 0.015561  ,\n",
       "         0.01552472],\n",
       "        [0.07438217, 0.59324713, 0.81821011, ..., 0.01651619, 0.01633082,\n",
       "         0.01629274],\n",
       "        ...,\n",
       "        [0.00121877, 0.00972053, 0.01340662, ..., 0.99207547, 0.99667473,\n",
       "         0.99435101],\n",
       "        [0.00121669, 0.0097039 , 0.01338368, ..., 0.99037789, 0.9983831 ,\n",
       "         0.99605539],\n",
       "        [0.00121189, 0.00966562, 0.01333089, ..., 0.98647124, 0.99766853,\n",
       "         1.        ]]))"
      ]
     },
     "execution_count": 13,
     "metadata": {},
     "output_type": "execute_result"
    }
   ],
   "source": [
    "D1_cost = D1(X_train[0], X_test[70])\n",
    "D2_cost = D2(X_train[0], X_test[70], type=1)\n",
    "C = cost_matrix(X_train[0], X_test[70])\n",
    "draw_multiple_matrices([D1_cost, D2_cost]), D2_cost"
   ]
  },
  {
   "cell_type": "code",
   "execution_count": 4,
   "metadata": {},
   "outputs": [],
   "source": [
    "from MaskingMap.MaskingMapNonLinear import auto_weighted_masking_map"
   ]
  },
  {
   "cell_type": "code",
   "execution_count": 5,
   "metadata": {},
   "outputs": [
    {
     "data": {
      "text/plain": [
       "(array([[0.00000000e+00, 7.81250000e-03, 7.81250000e-03, ...,\n",
       "         0.00000000e+00, 0.00000000e+00, 0.00000000e+00],\n",
       "        [0.00000000e+00, 0.00000000e+00, 0.00000000e+00, ...,\n",
       "         0.00000000e+00, 0.00000000e+00, 0.00000000e+00],\n",
       "        [0.00000000e+00, 0.00000000e+00, 0.00000000e+00, ...,\n",
       "         0.00000000e+00, 0.00000000e+00, 0.00000000e+00],\n",
       "        ...,\n",
       "        [0.00000000e+00, 0.00000000e+00, 0.00000000e+00, ...,\n",
       "         6.56805079e-05, 6.27052936e-05, 6.39016626e-05],\n",
       "        [0.00000000e+00, 0.00000000e+00, 0.00000000e+00, ...,\n",
       "         6.92194209e-05, 6.49283989e-05, 6.61281443e-05],\n",
       "        [0.00000000e+00, 0.00000000e+00, 0.00000000e+00, ...,\n",
       "         9.06360409e-05, 8.36201955e-05, 8.31534939e-05]]),\n",
       " 0.8965566059466568,\n",
       " 7)"
      ]
     },
     "execution_count": 5,
     "metadata": {},
     "output_type": "execute_result"
    }
   ],
   "source": [
    "T, dis, iterations = auto_weighted_masking_map(X_train[0], X_test[70])\n",
    "T, dis, iterations\n",
    "# T, dis, w1, w2, iterations, draw_matrix(T)"
   ]
  },
  {
   "cell_type": "code",
   "execution_count": 7,
   "metadata": {},
   "outputs": [
    {
     "data": {
      "text/plain": [
       "(array([[0.01126168, 0.0157646 , 0.        , 0.        , 0.        ,\n",
       "         0.        , 0.        , 0.        , 0.        , 0.        ,\n",
       "         0.        , 0.        , 0.        , 0.        , 0.        ,\n",
       "         0.        , 0.        , 0.        , 0.        , 0.        ,\n",
       "         0.        , 0.        , 0.        , 0.        , 0.        ,\n",
       "         0.        , 0.        ],\n",
       "        [0.00289649, 0.00435799, 0.01063942, 0.00913251, 0.        ,\n",
       "         0.        , 0.        , 0.        , 0.        , 0.        ,\n",
       "         0.        , 0.        , 0.        , 0.        , 0.        ,\n",
       "         0.        , 0.        , 0.        , 0.        , 0.        ,\n",
       "         0.        , 0.        , 0.        , 0.        , 0.        ,\n",
       "         0.        , 0.        ],\n",
       "        [0.00130235, 0.0020985 , 0.0056921 , 0.00517297, 0.00582042,\n",
       "         0.00694021, 0.        , 0.        , 0.        , 0.        ,\n",
       "         0.        , 0.        , 0.        , 0.        , 0.        ,\n",
       "         0.        , 0.        , 0.        , 0.        , 0.        ,\n",
       "         0.        , 0.        , 0.        , 0.        , 0.        ,\n",
       "         0.        , 0.        ],\n",
       "        [0.00217437, 0.00173586, 0.00519286, 0.00497459, 0.00580338,\n",
       "         0.00714549, 0.        , 0.        , 0.        , 0.        ,\n",
       "         0.        , 0.        , 0.        , 0.        , 0.        ,\n",
       "         0.        , 0.        , 0.        , 0.        , 0.        ,\n",
       "         0.        , 0.        , 0.        , 0.        , 0.        ,\n",
       "         0.        , 0.        ],\n",
       "        [0.00313587, 0.00195567, 0.00290522, 0.00290224, 0.00348241,\n",
       "         0.00439498, 0.00825023, 0.        , 0.        , 0.        ,\n",
       "         0.        , 0.        , 0.        , 0.        , 0.        ,\n",
       "         0.        , 0.        , 0.        , 0.        , 0.        ,\n",
       "         0.        , 0.        , 0.        , 0.        , 0.        ,\n",
       "         0.        , 0.        ],\n",
       "        [0.00408282, 0.00266267, 0.00159176, 0.00132761, 0.00165755,\n",
       "         0.00216651, 0.00441258, 0.00912518, 0.        , 0.        ,\n",
       "         0.        , 0.        , 0.        , 0.        , 0.        ,\n",
       "         0.        , 0.        , 0.        , 0.        , 0.        ,\n",
       "         0.        , 0.        , 0.        , 0.        , 0.        ,\n",
       "         0.        , 0.        ],\n",
       "        [0.00446835, 0.00302041, 0.00195208, 0.00065714, 0.00070241,\n",
       "         0.00095307, 0.00211618, 0.00456993, 0.00858713, 0.        ,\n",
       "         0.        , 0.        , 0.        , 0.        , 0.        ,\n",
       "         0.        , 0.        , 0.        , 0.        , 0.        ,\n",
       "         0.        , 0.        , 0.        , 0.        , 0.        ,\n",
       "         0.        , 0.        ],\n",
       "        [0.00384731, 0.00266998, 0.00183037, 0.0006437 , 0.00032557,\n",
       "         0.0003665 , 0.00088426, 0.00199016, 0.00381572, 0.00521685,\n",
       "         0.00543639, 0.        , 0.        , 0.        , 0.        ,\n",
       "         0.        , 0.        , 0.        , 0.        , 0.        ,\n",
       "         0.        , 0.        , 0.        , 0.        , 0.        ,\n",
       "         0.        , 0.        ],\n",
       "        [0.00386779, 0.00277135, 0.0020364 , 0.00075429, 0.00039951,\n",
       "         0.00022167, 0.00035261, 0.00084601, 0.00167652, 0.00233036,\n",
       "         0.00243097, 0.00319146, 0.0029209 , 0.003227  , 0.        ,\n",
       "         0.        , 0.        , 0.        , 0.        , 0.        ,\n",
       "         0.        , 0.        , 0.        , 0.        , 0.        ,\n",
       "         0.        , 0.        ],\n",
       "        [0.        , 0.        , 0.00519681, 0.00209394, 0.00119608,\n",
       "         0.00072155, 0.00024092, 0.00038231, 0.00082395, 0.00120053,\n",
       "         0.00126793, 0.00170685, 0.00159732, 0.00180074, 0.00237634,\n",
       "         0.00298961, 0.00343204, 0.        , 0.        , 0.        ,\n",
       "         0.        , 0.        , 0.        , 0.        , 0.        ,\n",
       "         0.        , 0.        ],\n",
       "        [0.        , 0.        , 0.        , 0.00454041, 0.0026844 ,\n",
       "         0.00168264, 0.000637  , 0.00040864, 0.00058489, 0.00088065,\n",
       "         0.00093634, 0.0012812 , 0.00121624, 0.00138889, 0.00190237,\n",
       "         0.00245075, 0.00285572, 0.00357684, 0.        , 0.        ,\n",
       "         0.        , 0.        , 0.        , 0.        , 0.        ,\n",
       "         0.        , 0.        ],\n",
       "        [0.        , 0.        , 0.        , 0.00483761, 0.00286744,\n",
       "         0.001803  , 0.00070005, 0.00045746, 0.00043584, 0.00065843,\n",
       "         0.00069679, 0.00095202, 0.00090214, 0.00102834, 0.00141736,\n",
       "         0.00183065, 0.00213403, 0.00267314, 0.00363269, 0.        ,\n",
       "         0.        , 0.        , 0.        , 0.        , 0.        ,\n",
       "         0.        , 0.        ],\n",
       "        [0.        , 0.        , 0.        , 0.        , 0.00408691,\n",
       "         0.00256157, 0.00100112, 0.00065629, 0.0005399 , 0.00077336,\n",
       "         0.00081233, 0.00110345, 0.00103958, 0.0011784 , 0.00162195,\n",
       "         0.00208904, 0.00242687, 0.00303034, 0.00410594, 0.        ,\n",
       "         0.        , 0.        , 0.        , 0.        , 0.        ,\n",
       "         0.        , 0.        ],\n",
       "        [0.        , 0.        , 0.        , 0.        , 0.00399084,\n",
       "         0.00250146, 0.00099223, 0.00065693, 0.00054298, 0.00057553,\n",
       "         0.00060082, 0.00081301, 0.00076277, 0.00086099, 0.00118738,\n",
       "         0.00152816, 0.00177122, 0.0022064 , 0.00298193, 0.00505442,\n",
       "         0.        , 0.        , 0.        , 0.        , 0.        ,\n",
       "         0.        , 0.        ],\n",
       "        [0.        , 0.        , 0.        , 0.        , 0.00402013,\n",
       "         0.00252811, 0.00102615, 0.0006907 , 0.00057645, 0.00044086,\n",
       "         0.00042139, 0.00056941, 0.0005331 , 0.00060025, 0.00083276,\n",
       "         0.00107361, 0.00124334, 0.00154676, 0.00208633, 0.00354354,\n",
       "         0.00529418, 0.        , 0.        , 0.        , 0.        ,\n",
       "         0.        , 0.        ],\n",
       "        [0.        , 0.        , 0.        , 0.        , 0.        ,\n",
       "         0.00305026, 0.00127295, 0.00087448, 0.00073908, 0.00056864,\n",
       "         0.0004492 , 0.00044794, 0.00041921, 0.00047151, 0.00066022,\n",
       "         0.00085434, 0.0009897 , 0.00123052, 0.00165713, 0.00282346,\n",
       "         0.00423317, 0.00628533, 0.        , 0.        , 0.        ,\n",
       "         0.        , 0.        ],\n",
       "        [0.        , 0.        , 0.        , 0.        , 0.        ,\n",
       "         0.        , 0.00224045, 0.00158867, 0.00137129, 0.00106793,\n",
       "         0.00084295, 0.00073817, 0.00046   , 0.00043796, 0.00062506,\n",
       "         0.00081712, 0.00095082, 0.00118532, 0.00159721, 0.00274168,\n",
       "         0.0041415 , 0.00622101, 0.        , 0.        , 0.        ,\n",
       "         0.        , 0.        ],\n",
       "        [0.        , 0.        , 0.        , 0.        , 0.        ,\n",
       "         0.        , 0.00230385, 0.00167411, 0.00146795, 0.00115276,\n",
       "         0.00090786, 0.00079688, 0.00049752, 0.00038162, 0.00037121,\n",
       "         0.00048935, 0.00057114, 0.00071294, 0.00096013, 0.00165761,\n",
       "         0.00251863, 0.00382016, 0.00674345, 0.        , 0.        ,\n",
       "         0.        , 0.        ],\n",
       "        [0.        , 0.        , 0.        , 0.        , 0.        ,\n",
       "         0.        , 0.002335  , 0.0017258 , 0.00152878, 0.00120582,\n",
       "         0.00094611, 0.00083006, 0.00051773, 0.00039662, 0.00023966,\n",
       "         0.00031686, 0.00037009, 0.00046165, 0.00062031, 0.00107427,\n",
       "         0.00163766, 0.00250047, 0.0044192 , 0.00590108, 0.        ,\n",
       "         0.        , 0.        ],\n",
       "        [0.        , 0.        , 0.        , 0.        , 0.        ,\n",
       "         0.        , 0.00283812, 0.00211493, 0.00188045, 0.00148296,\n",
       "         0.00115725, 0.00101154, 0.00062826, 0.0004791 , 0.00029038,\n",
       "         0.00028106, 0.0003273 , 0.00040671, 0.00054389, 0.00094096,\n",
       "         0.00143346, 0.00219257, 0.00386903, 0.00514918, 0.        ,\n",
       "         0.        , 0.        ],\n",
       "        [0.        , 0.        , 0.        , 0.        , 0.        ,\n",
       "         0.        , 0.00273825, 0.00206577, 0.00184947, 0.00146181,\n",
       "         0.00113597, 0.00099094, 0.00061382, 0.00046661, 0.00028455,\n",
       "         0.00019799, 0.00021548, 0.00026713, 0.00035586, 0.00061617,\n",
       "         0.00093957, 0.00144277, 0.00254388, 0.00337383, 0.00546728,\n",
       "         0.        , 0.        ],\n",
       "        [0.        , 0.        , 0.        , 0.        , 0.        ,\n",
       "         0.        , 0.00269509, 0.00205509, 0.00185069, 0.00146515,\n",
       "         0.00113381, 0.00098666, 0.00060925, 0.00046142, 0.0002826 ,\n",
       "         0.00019686, 0.00014858, 0.00018365, 0.00024357, 0.00042169,\n",
       "         0.00064301, 0.00099013, 0.00174284, 0.00230174, 0.00372341,\n",
       "         0.00489194, 0.        ],\n",
       "        [0.        , 0.        , 0.        , 0.        , 0.        ,\n",
       "         0.        , 0.        , 0.00228855, 0.00206937, 0.00163911,\n",
       "         0.00126293, 0.0010956 , 0.00067388, 0.00050806, 0.00031171,\n",
       "         0.00021693, 0.00015817, 0.00014848, 0.00019586, 0.00033851,\n",
       "         0.00051533, 0.00079413, 0.00139363, 0.00183121, 0.00295374,\n",
       "         0.00387525, 0.00475674],\n",
       "        [0.        , 0.        , 0.        , 0.        , 0.        ,\n",
       "         0.        , 0.        , 0.00286603, 0.00261056, 0.00207395,\n",
       "         0.00159323, 0.00138037, 0.00084721, 0.00063689, 0.00039273,\n",
       "         0.00027376, 0.00019934, 0.00016551, 0.00016487, 0.00028517,\n",
       "         0.00043437, 0.00067176, 0.00117662, 0.00153822, 0.00247516,\n",
       "         0.00324498, 0.00399644],\n",
       "        [0.        , 0.        , 0.        , 0.        , 0.        ,\n",
       "         0.        , 0.        , 0.        , 0.00408601, 0.00328733,\n",
       "         0.00252887, 0.00220333, 0.00135843, 0.00102488, 0.00064487,\n",
       "         0.00045563, 0.00033428, 0.00027903, 0.00027271, 0.00027555,\n",
       "         0.00032015, 0.00050462, 0.00088875, 0.00115871, 0.00186876,\n",
       "         0.0024623 , 0.00307296],\n",
       "        [0.        , 0.        , 0.        , 0.        , 0.        ,\n",
       "         0.        , 0.        , 0.        , 0.        , 0.00455946,\n",
       "         0.0034997 , 0.00304639, 0.00187471, 0.00141055, 0.00089107,\n",
       "         0.00063003, 0.00046125, 0.00038376, 0.00037326, 0.00037714,\n",
       "         0.0003364 , 0.00046978, 0.00082562, 0.00107009, 0.00172048,\n",
       "         0.00226377, 0.00283372],\n",
       "        [0.        , 0.        , 0.        , 0.        , 0.        ,\n",
       "         0.        , 0.        , 0.        , 0.        , 0.00499555,\n",
       "         0.00382228, 0.00331739, 0.00203362, 0.00152292, 0.00096036,\n",
       "         0.00067649, 0.00049255, 0.00040721, 0.00039319, 0.0003953 ,\n",
       "         0.00035096, 0.00039939, 0.00069794, 0.00089785, 0.00143527,\n",
       "         0.00187995, 0.00234898],\n",
       "        [0.        , 0.        , 0.        , 0.        , 0.        ,\n",
       "         0.        , 0.        , 0.        , 0.        , 0.        ,\n",
       "         0.00515392, 0.00446361, 0.00272791, 0.0020348 , 0.00128216,\n",
       "         0.00090052, 0.00065249, 0.0005363 , 0.00051425, 0.00051465,\n",
       "         0.00045494, 0.00041426, 0.00071991, 0.00091899, 0.00146035,\n",
       "         0.00190378, 0.00237436],\n",
       "        [0.        , 0.        , 0.        , 0.        , 0.        ,\n",
       "         0.        , 0.        , 0.        , 0.        , 0.        ,\n",
       "         0.        , 0.00611076, 0.00372731, 0.00277232, 0.00174858,\n",
       "         0.00122627, 0.00088523, 0.00072408, 0.00069001, 0.00068814,\n",
       "         0.00060627, 0.00045999, 0.00073138, 0.00092647, 0.00146384,\n",
       "         0.00189984, 0.00236673],\n",
       "        [0.        , 0.        , 0.        , 0.        , 0.        ,\n",
       "         0.        , 0.        , 0.        , 0.        , 0.        ,\n",
       "         0.        , 0.        , 0.00532292, 0.00394933, 0.00249341,\n",
       "         0.0017462 , 0.00125608, 0.00102257, 0.00096852, 0.00096228,\n",
       "         0.00084465, 0.00064004, 0.00078626, 0.00098807, 0.0015516 ,\n",
       "         0.0020037 , 0.00249159],\n",
       "        [0.        , 0.        , 0.        , 0.        , 0.        ,\n",
       "         0.        , 0.        , 0.        , 0.        , 0.        ,\n",
       "         0.        , 0.        , 0.00575322, 0.00426266, 0.00269853,\n",
       "         0.00188999, 0.00135632, 0.00110013, 0.00103651, 0.00102721,\n",
       "         0.0008993 , 0.00068154, 0.00079336, 0.00085617, 0.00120334,\n",
       "         0.00154697, 0.00192198],\n",
       "        [0.        , 0.        , 0.        , 0.        , 0.        ,\n",
       "         0.        , 0.        , 0.        , 0.        , 0.        ,\n",
       "         0.        , 0.        , 0.        , 0.00573519, 0.00363302,\n",
       "         0.00254081, 0.00181723, 0.00146726, 0.00137427, 0.00135603,\n",
       "         0.00118174, 0.00089295, 0.00103309, 0.00110541, 0.00130787,\n",
       "         0.00160066, 0.00198169],\n",
       "        [0.        , 0.        , 0.        , 0.        , 0.        ,\n",
       "         0.        , 0.        , 0.        , 0.        , 0.        ,\n",
       "         0.        , 0.        , 0.        , 0.        , 0.00484909,\n",
       "         0.00338638, 0.00241414, 0.00194063, 0.00180725, 0.0017752 ,\n",
       "         0.00153944, 0.001159  , 0.00133214, 0.00141302, 0.00165919,\n",
       "         0.00168048, 0.00207127],\n",
       "        [0.        , 0.        , 0.        , 0.        , 0.        ,\n",
       "         0.        , 0.        , 0.        , 0.        , 0.        ,\n",
       "         0.        , 0.        , 0.        , 0.        , 0.00503966,\n",
       "         0.00351463, 0.00249795, 0.00199961, 0.00185201, 0.00181081,\n",
       "         0.00156234, 0.00117134, 0.00133719, 0.00140594, 0.00163782,\n",
       "         0.00147532, 0.00172263],\n",
       "        [0.        , 0.        , 0.        , 0.        , 0.        ,\n",
       "         0.        , 0.        , 0.        , 0.        , 0.        ,\n",
       "         0.        , 0.        , 0.        , 0.        , 0.        ,\n",
       "         0.00446397, 0.00316464, 0.00252401, 0.00232614, 0.0022648 ,\n",
       "         0.00194471, 0.00145217, 0.00164682, 0.00171654, 0.00198378,\n",
       "         0.0017736 , 0.00176605],\n",
       "        [0.        , 0.        , 0.        , 0.        , 0.        ,\n",
       "         0.        , 0.        , 0.        , 0.        , 0.        ,\n",
       "         0.        , 0.        , 0.        , 0.        , 0.        ,\n",
       "         0.        , 0.00391102, 0.00311213, 0.00285738, 0.00277504,\n",
       "         0.00237552, 0.00177055, 0.00199721, 0.0020651 , 0.00236966,\n",
       "         0.00210472, 0.00168891],\n",
       "        [0.        , 0.        , 0.        , 0.        , 0.        ,\n",
       "         0.        , 0.        , 0.        , 0.        , 0.        ,\n",
       "         0.        , 0.        , 0.        , 0.        , 0.        ,\n",
       "         0.        , 0.        , 0.0037449 , 0.0034258 , 0.00331741,\n",
       "         0.00282972, 0.00210305, 0.00235871, 0.00241942, 0.0027555 ,\n",
       "         0.00242977, 0.00164298]]),\n",
       " 0.9174968027514335,\n",
       " 4)"
      ]
     },
     "execution_count": 7,
     "metadata": {},
     "output_type": "execute_result"
    }
   ],
   "source": [
    "T, dis, iterations = auto_weighted_masking_map(X_train_arabic[0], X_test_arabic[0])\n",
    "T, dis, iterations"
   ]
  },
  {
   "cell_type": "code",
   "execution_count": 21,
   "metadata": {},
   "outputs": [
    {
     "data": {
      "text/plain": [
       "(0.8965566059466568, 7)"
      ]
     },
     "execution_count": 21,
     "metadata": {},
     "output_type": "execute_result"
    }
   ],
   "source": [
    "T, dis, w1, w2, iterations = auto_weighted_masking_map(X_train[0], X_test[70])\n",
    "dis, iterations\n",
    "# T, dis, w1, w2, iterations, draw_matrix(T)"
   ]
  },
  {
   "cell_type": "code",
   "execution_count": 24,
   "metadata": {},
   "outputs": [
    {
     "data": {
      "text/plain": [
       "(0.9174968027514335, 4)"
      ]
     },
     "execution_count": 24,
     "metadata": {},
     "output_type": "execute_result"
    }
   ],
   "source": [
    "T, dis, w1, w2, iterations = auto_weighted_masking_map(X_train_arabic[0], X_test_arabic[0])\n",
    "dis, iterations"
   ]
  },
  {
   "cell_type": "code",
   "execution_count": 55,
   "metadata": {},
   "outputs": [
    {
     "name": "stdout",
     "output_type": "stream",
     "text": [
      "Iter: 1; w1: 0.512045686787493; w2: 0.579762365836655;cost 0.9194488396101199\n",
      "Iter: 2; w1: 0.513304625759313; w2: 0.5870863796560569;cost 0.9128719393420233\n",
      "Iter: 3; w1: 0.5133153525331081; w2: 0.5868913930241587;cost 0.913003238399289\n",
      "Iter: 4; w1: 0.5132933501137072; w2: 0.5868663227577198;cost 0.913042312130685\n"
     ]
    },
    {
     "ename": "TypeError",
     "evalue": "cannot unpack non-iterable numpy.float64 object",
     "output_type": "error",
     "traceback": [
      "\u001b[1;31m---------------------------------------------------------------------------\u001b[0m",
      "\u001b[1;31mTypeError\u001b[0m                                 Traceback (most recent call last)",
      "Cell \u001b[1;32mIn[55], line 1\u001b[0m\n\u001b[1;32m----> 1\u001b[0m T, dis, w1, w2, iterations \u001b[38;5;241m=\u001b[39m auto_weighted_masking_map_try(X_train[\u001b[38;5;241m0\u001b[39m], X_test[\u001b[38;5;241m70\u001b[39m])\n\u001b[0;32m      2\u001b[0m \u001b[38;5;66;03m# T, dis, w1, w2, iterations, draw_matrix(T)\u001b[39;00m\n",
      "\u001b[1;31mTypeError\u001b[0m: cannot unpack non-iterable numpy.float64 object"
     ]
    }
   ],
   "source": [
    "T, dis, w1, w2, iterations = auto_weighted_masking_map_try(X_train[0], X_test[70])\n",
    "# T, dis, w1, w2, iterations, draw_matrix(T)"
   ]
  },
  {
   "cell_type": "code",
   "execution_count": 58,
   "metadata": {},
   "outputs": [
    {
     "name": "stdout",
     "output_type": "stream",
     "text": [
      "Iter: 1; w1: 0.5118070482092043; w2: 0.5550402600609701;cost 0.93888310939231\n"
     ]
    }
   ],
   "source": [
    "T = auto_weighted_masking_map_try(X_train_arabic[0], X_test_arabic[200])"
   ]
  },
  {
   "cell_type": "code",
   "execution_count": 36,
   "metadata": {},
   "outputs": [
    {
     "name": "stdout",
     "output_type": "stream",
     "text": [
      "Iter: 1; w1: 0.5207028217938223; w2: 0.6000623120415622;cost 0.8967437084913334\n",
      "Iter: 2; w1: 0.522674165201396; w2: 0.6103528684176209;cost 0.8879085879901462\n",
      "Iter: 3; w1: 0.522744326206712; w2: 0.6106103148859446;cost 0.8876716950662462\n",
      "Iter: 4; w1: 0.522744326206712; w2: 0.6106103148859446;cost 0.8876716950662462\n"
     ]
    }
   ],
   "source": [
    "T, dis, w1, w2, iterations = auto_weighted_masking_map(X_train_arabic[0], X_test_arabic[200])"
   ]
  },
  {
   "cell_type": "code",
   "execution_count": 34,
   "metadata": {},
   "outputs": [
    {
     "data": {
      "text/plain": [
       "(0, 5)"
      ]
     },
     "execution_count": 34,
     "metadata": {},
     "output_type": "execute_result"
    }
   ],
   "source": [
    "y_train_arabic[0], y_test_arabic[1200]"
   ]
  },
  {
   "cell_type": "code",
   "execution_count": null,
   "metadata": {},
   "outputs": [],
   "source": [
    "T, dis, w1, w2, iterations = auto_weighted_masking_map(X_train_arabic[0], X_test_arabic[200])\n"
   ]
  },
  {
   "cell_type": "code",
   "execution_count": 20,
   "metadata": {},
   "outputs": [
    {
     "data": {
      "text/plain": [
       "(0.8965566059466568, 7, 0.5221952801062646, 0.6163138853551963)"
      ]
     },
     "execution_count": 20,
     "metadata": {},
     "output_type": "execute_result"
    }
   ],
   "source": [
    "dis, iterations, w1, w2"
   ]
  },
  {
   "cell_type": "code",
   "execution_count": 54,
   "metadata": {},
   "outputs": [
    {
     "data": {
      "image/png": "[encoded data removed]",
      "text/plain": [
       "<Figure size 1500x500 with 6 Axes>"
      ]
     },
     "metadata": {},
     "output_type": "display_data"
    },
    {
     "name": "stdout",
     "output_type": "stream",
     "text": [
      "Iter: 1; w1: 0.5; w2: 0.5; M: [[1 1 1 ... 0 0 0]\n",
      " [1 1 1 ... 0 0 0]\n",
      " [1 1 1 ... 0 0 0]\n",
      " ...\n",
      " [0 0 0 ... 1 1 1]\n",
      " [0 0 0 ... 1 1 1]\n",
      " [0 0 0 ... 1 1 1]]; isTrue: (array([], dtype=int64), array([], dtype=int64)) \n"
     ]
    },
    {
     "data": {
      "image/png": "[encoded data removed]",
      "text/plain": [
       "<Figure size 1500x500 with 6 Axes>"
      ]
     },
     "metadata": {},
     "output_type": "display_data"
    },
    {
     "name": "stdout",
     "output_type": "stream",
     "text": [
      "Iter: 2; w1: 0.7610025098901394; w2: 0.7610025098901394; M: [[1 1 1 ... 0 0 0]\n",
      " [1 1 1 ... 0 0 0]\n",
      " [1 1 1 ... 0 0 0]\n",
      " ...\n",
      " [0 0 0 ... 1 1 1]\n",
      " [0 0 0 ... 1 1 1]\n",
      " [0 0 0 ... 1 1 1]]; isTrue: (array([], dtype=int64), array([], dtype=int64)) \n"
     ]
    },
    {
     "data": {
      "image/png": "[encoded data removed]",
      "text/plain": [
       "<Figure size 1500x500 with 6 Axes>"
      ]
     },
     "metadata": {},
     "output_type": "display_data"
    },
    {
     "name": "stdout",
     "output_type": "stream",
     "text": [
      "Iter: 3; w1: 0.9448430240118934; w2: 0.9448430240118934; M: [[1 1 1 ... 0 0 0]\n",
      " [1 1 1 ... 0 0 0]\n",
      " [1 1 1 ... 0 0 0]\n",
      " ...\n",
      " [0 0 0 ... 1 1 1]\n",
      " [0 0 0 ... 1 1 1]\n",
      " [0 0 0 ... 1 1 1]]; isTrue: (array([], dtype=int64), array([], dtype=int64)) \n"
     ]
    },
    {
     "ename": "IndexError",
     "evalue": "list index out of range",
     "output_type": "error",
     "traceback": [
      "\u001b[1;31m---------------------------------------------------------------------------\u001b[0m",
      "\u001b[1;31mIndexError\u001b[0m                                Traceback (most recent call last)",
      "Cell \u001b[1;32mIn[54], line 1\u001b[0m\n\u001b[1;32m----> 1\u001b[0m T, dis, w1, w2, iterations \u001b[38;5;241m=\u001b[39m \u001b[43mauto_weighted_masking_map\u001b[49m\u001b[43m(\u001b[49m\u001b[43mX_train\u001b[49m\u001b[43m[\u001b[49m\u001b[38;5;241;43m0\u001b[39;49m\u001b[43m]\u001b[49m\u001b[43m,\u001b[49m\u001b[43m \u001b[49m\u001b[43mX_test\u001b[49m\u001b[43m[\u001b[49m\u001b[38;5;241;43m70\u001b[39;49m\u001b[43m]\u001b[49m\u001b[43m)\u001b[49m\n\u001b[0;32m      2\u001b[0m \u001b[38;5;66;03m# T, dis, w1, w2, iterations, draw_matrix(T)\u001b[39;00m\n",
      "Cell \u001b[1;32mIn[49], line 10\u001b[0m, in \u001b[0;36mauto_weighted_masking_map\u001b[1;34m(xs, xt, r1, r2, eps, algorithm)\u001b[0m\n\u001b[0;32m      8\u001b[0m \u001b[38;5;28;01mwhile\u001b[39;00m w1 \u001b[38;5;241m-\u001b[39m old_w1 \u001b[38;5;241m>\u001b[39m eps:\n\u001b[0;32m      9\u001b[0m     M1 \u001b[38;5;241m=\u001b[39m create_mask_linear(xs\u001b[38;5;241m=\u001b[39mxs, xt\u001b[38;5;241m=\u001b[39mxt, ratio\u001b[38;5;241m=\u001b[39mr1 \u001b[38;5;241m*\u001b[39m (\u001b[38;5;241m1\u001b[39m\u001b[38;5;241m-\u001b[39mw1))\n\u001b[1;32m---> 10\u001b[0m     M2 \u001b[38;5;241m=\u001b[39m \u001b[43mcreate_mask_non_linear\u001b[49m\u001b[43m(\u001b[49m\u001b[43mxs\u001b[49m\u001b[38;5;241;43m=\u001b[39;49m\u001b[43mxs\u001b[49m\u001b[43m,\u001b[49m\u001b[43m \u001b[49m\u001b[43mxt\u001b[49m\u001b[38;5;241;43m=\u001b[39;49m\u001b[43mxt\u001b[49m\u001b[43m,\u001b[49m\u001b[43m \u001b[49m\u001b[43mratio\u001b[49m\u001b[38;5;241;43m=\u001b[39;49m\u001b[43mr2\u001b[49m\u001b[43m \u001b[49m\u001b[38;5;241;43m*\u001b[39;49m\u001b[43m \u001b[49m\u001b[43m(\u001b[49m\u001b[38;5;241;43m1\u001b[39;49m\u001b[38;5;241;43m-\u001b[39;49m\u001b[43mw2\u001b[49m\u001b[43m)\u001b[49m\u001b[43m)\u001b[49m\n\u001b[0;32m     11\u001b[0m     iteration_num \u001b[38;5;241m+\u001b[39m\u001b[38;5;241m=\u001b[39m \u001b[38;5;241m1\u001b[39m\n\u001b[0;32m     12\u001b[0m     M_ \u001b[38;5;241m=\u001b[39m w1\u001b[38;5;241m*\u001b[39mM1 \u001b[38;5;241m+\u001b[39m w2\u001b[38;5;241m*\u001b[39mM2\n",
      "Cell \u001b[1;32mIn[11], line 31\u001b[0m, in \u001b[0;36mcreate_mask_non_linear\u001b[1;34m(xs, xt, ratio, sigma, type)\u001b[0m\n\u001b[0;32m     29\u001b[0m flattened_list \u001b[38;5;241m=\u001b[39m KL\u001b[38;5;241m.\u001b[39mflatten()\n\u001b[0;32m     30\u001b[0m sorted_list \u001b[38;5;241m=\u001b[39m \u001b[38;5;28msorted\u001b[39m(flattened_list)\n\u001b[1;32m---> 31\u001b[0m pivot \u001b[38;5;241m=\u001b[39m \u001b[43msorted_list\u001b[49m\u001b[43m[\u001b[49m\u001b[43mmath\u001b[49m\u001b[38;5;241;43m.\u001b[39;49m\u001b[43mfloor\u001b[49m\u001b[43m(\u001b[49m\u001b[43m(\u001b[49m\u001b[38;5;241;43m1\u001b[39;49m\u001b[38;5;241;43m-\u001b[39;49m\u001b[43mratio\u001b[49m\u001b[43m)\u001b[49m\u001b[38;5;241;43m*\u001b[39;49m\u001b[38;5;28;43mlen\u001b[39;49m\u001b[43m(\u001b[49m\u001b[43msorted_list\u001b[49m\u001b[43m)\u001b[49m\u001b[43m)\u001b[49m\u001b[43m]\u001b[49m\n\u001b[0;32m     32\u001b[0m M \u001b[38;5;241m=\u001b[39m np\u001b[38;5;241m.\u001b[39mzeros((n, m))\n\u001b[0;32m     33\u001b[0m \u001b[38;5;28;01mfor\u001b[39;00m i \u001b[38;5;129;01min\u001b[39;00m \u001b[38;5;28mrange\u001b[39m(n):\n",
      "\u001b[1;31mIndexError\u001b[0m: list index out of range"
     ]
    }
   ],
   "source": [
    "T, dis, w1, w2, iterations = auto_weighted_masking_map(X_train[0], X_test[70])\n",
    "# T, dis, w1, w2, iterations, draw_matrix(T)"
   ]
  },
  {
   "cell_type": "code",
   "execution_count": 45,
   "metadata": {},
   "outputs": [
    {
     "name": "stdout",
     "output_type": "stream",
     "text": [
      "Iter 1: 1.3243780551015292; w1: 0.7550714058934919; w2: 3.667530439831481\n",
      "Iter 2: 1.3243780551015292; w1: 0.7550714058934919; w2: 3.667530439831481\n"
     ]
    },
    {
     "data": {
      "text/plain": [
       "(array([[0.00147627, 0.00145794, 0.0010694 , ..., 0.        , 0.        ,\n",
       "         0.        ],\n",
       "        [0.00121341, 0.00122174, 0.00111575, ..., 0.        , 0.        ,\n",
       "         0.        ],\n",
       "        [0.00122104, 0.00122943, 0.00112277, ..., 0.        , 0.        ,\n",
       "         0.        ],\n",
       "        ...,\n",
       "        [0.        , 0.        , 0.        , ..., 0.00044453, 0.00043068,\n",
       "         0.00043   ],\n",
       "        [0.        , 0.        , 0.        , ..., 0.00045978, 0.00044546,\n",
       "         0.00044475],\n",
       "        [0.        , 0.        , 0.        , ..., 0.00053841, 0.0005596 ,\n",
       "         0.00055872]]),\n",
       " 0.39926027384239005,\n",
       " 0.7550714058934919,\n",
       " 3.667530439831481,\n",
       " 2,\n",
       " None)"
      ]
     },
     "execution_count": 45,
     "metadata": {},
     "output_type": "execute_result"
    },
    {
     "data": {
      "image/png": "[encoded data removed]",
      "text/plain": [
       "<Figure size 640x480 with 2 Axes>"
      ]
     },
     "metadata": {},
     "output_type": "display_data"
    }
   ],
   "source": [
    "T, dis, w1, w2, iterations = auto_weighted_masking_map(X_train[0], X_train[10], lamb=5, ratio=0.1)\n",
    "T, dis, w1, w2, iterations, draw_matrix(T)"
   ]
  },
  {
   "cell_type": "code",
   "execution_count": 46,
   "metadata": {},
   "outputs": [
    {
     "name": "stdout",
     "output_type": "stream",
     "text": [
      "Iter 1: 1.4504667313767983; w1: 0.6894332550811348; w2: 1.2224822481714437\n",
      "Iter 2: 1.4504667313767983; w1: 0.6894332550811348; w2: 1.2224822481714437\n"
     ]
    },
    {
     "data": {
      "text/plain": [
       "(array([[0.00634521, 0.00458465, 0.00407504, ..., 0.        , 0.        ,\n",
       "         0.        ],\n",
       "        [0.00639523, 0.0046128 , 0.00392863, ..., 0.        , 0.        ,\n",
       "         0.        ],\n",
       "        [0.00657856, 0.00387275, 0.00343213, ..., 0.        , 0.        ,\n",
       "         0.        ],\n",
       "        ...,\n",
       "        [0.        , 0.        , 0.        , ..., 0.00364515, 0.00454722,\n",
       "         0.00510758],\n",
       "        [0.        , 0.        , 0.        , ..., 0.00458668, 0.00568256,\n",
       "         0.0071507 ],\n",
       "        [0.        , 0.        , 0.        , ..., 0.00437389, 0.00602259,\n",
       "         0.00922007]]),\n",
       " 0.5671186299063703,\n",
       " 0.6894332550811348,\n",
       " 1.2224822481714437,\n",
       " 2,\n",
       " None)"
      ]
     },
     "execution_count": 46,
     "metadata": {},
     "output_type": "execute_result"
    },
    {
     "data": {
      "image/png": "[encoded data removed]",
      "text/plain": [
       "<Figure size 640x480 with 2 Axes>"
      ]
     },
     "metadata": {},
     "output_type": "display_data"
    }
   ],
   "source": [
    "T, dis, w1, w2, iterations = auto_weighted_masking_map(X_train_arabic[2], X_test_arabic[395], lamb=5, ratio=0.1)\n",
    "T, dis, w1, w2, iterations, draw_matrix(T)"
   ]
  },
  {
   "cell_type": "markdown",
   "metadata": {},
   "source": [
    "### 3.2. Two dimensional data"
   ]
  },
  {
   "cell_type": "code",
   "execution_count": 49,
   "metadata": {},
   "outputs": [
    {
     "name": "stdout",
     "output_type": "stream",
     "text": [
      "Iter 1: 1.4504667313767983; w1: 0.6894332550811348; w2: 1.2224822481714437\n",
      "Iter 2: 1.4504667313767983; w1: 0.6894332550811348; w2: 1.2224822481714437\n"
     ]
    },
    {
     "data": {
      "image/png": "[encoded data removed]",
      "text/plain": [
       "<Figure size 640x480 with 2 Axes>"
      ]
     },
     "metadata": {},
     "output_type": "display_data"
    },
    {
     "data": {
      "text/plain": [
       "(array([[0.00634521, 0.00458465, 0.00407504, ..., 0.        , 0.        ,\n",
       "         0.        ],\n",
       "        [0.00639523, 0.0046128 , 0.00392863, ..., 0.        , 0.        ,\n",
       "         0.        ],\n",
       "        [0.00657856, 0.00387275, 0.00343213, ..., 0.        , 0.        ,\n",
       "         0.        ],\n",
       "        ...,\n",
       "        [0.        , 0.        , 0.        , ..., 0.00364515, 0.00454722,\n",
       "         0.00510758],\n",
       "        [0.        , 0.        , 0.        , ..., 0.00458668, 0.00568256,\n",
       "         0.0071507 ],\n",
       "        [0.        , 0.        , 0.        , ..., 0.00437389, 0.00602259,\n",
       "         0.00922007]]),\n",
       " 0.5671186299063703,\n",
       " 0.6894332550811348,\n",
       " 1.2224822481714437,\n",
       " 2,\n",
       " None)"
      ]
     },
     "execution_count": 49,
     "metadata": {},
     "output_type": "execute_result"
    }
   ],
   "source": [
    "T, dis, w1, w2, iterations = auto_weighted_masking_map(X_train_arabic[2], X_test_arabic[395], lamb=5, ratio=0.1, algorithm=\"sinkhorn\")\n",
    "T, dis, w1, w2, iterations, draw_matrix_aw(T, type=\"matplotlib\")"
   ]
  },
  {
   "cell_type": "code",
   "execution_count": 42,
   "metadata": {},
   "outputs": [
    {
     "data": {
      "text/plain": [
       "(array([[0.00634521, 0.00458465, 0.00407504, ..., 0.        , 0.        ,\n",
       "         0.        ],\n",
       "        [0.00639523, 0.0046128 , 0.00392863, ..., 0.        , 0.        ,\n",
       "         0.        ],\n",
       "        [0.00657856, 0.00387275, 0.00343213, ..., 0.        , 0.        ,\n",
       "         0.        ],\n",
       "        ...,\n",
       "        [0.        , 0.        , 0.        , ..., 0.00364515, 0.00454722,\n",
       "         0.00510758],\n",
       "        [0.        , 0.        , 0.        , ..., 0.00458668, 0.00568256,\n",
       "         0.0071507 ],\n",
       "        [0.        , 0.        , 0.        , ..., 0.00437389, 0.00602259,\n",
       "         0.00922007]]),\n",
       " 0.5671186299063703,\n",
       " 0.6894332550811348,\n",
       " 1.2224822481714437,\n",
       " 2)"
      ]
     },
     "execution_count": 42,
     "metadata": {},
     "output_type": "execute_result"
    }
   ],
   "source": [
    "T, dis, w1, w2, iterations = auto_weighted_masking_map(X_train_arabic[2], X_test_arabic[395], lamb=5, ratio=0.1)\n",
    "T, dis, w1, w2, iterations"
   ]
  },
  {
   "cell_type": "code",
   "execution_count": 43,
   "metadata": {},
   "outputs": [
    {
     "data": {
      "image/png": "[encoded data removed]",
      "text/plain": [
       "<Figure size 640x480 with 2 Axes>"
      ]
     },
     "metadata": {},
     "output_type": "display_data"
    }
   ],
   "source": [
    "draw_matrix(T, type=\"matplotlib\")"
   ]
  },
  {
   "cell_type": "code",
   "execution_count": 56,
   "metadata": {},
   "outputs": [
    {
     "data": {
      "text/plain": [
       "0.5"
      ]
     },
     "execution_count": 56,
     "metadata": {},
     "output_type": "execute_result"
    }
   ],
   "source": [
    "1/2"
   ]
  },
  {
   "cell_type": "markdown",
   "metadata": {},
   "source": [
    "# 4. Test"
   ]
  },
  {
   "cell_type": "code",
   "execution_count": 11,
   "metadata": {},
   "outputs": [],
   "source": [
    "from GetData.GetDataMultiDimensions import getDataMultiVariate\n",
    "from GetData.GetDataOneDimension import getData\n",
    "from tqdm import tqdm\n",
    "import numpy as np\n",
    "from sklearn.neighbors import KNeighborsClassifier\n",
    "from sklearn.metrics import accuracy_score"
   ]
  },
  {
   "cell_type": "code",
   "execution_count": 2,
   "metadata": {},
   "outputs": [
    {
     "data": {
      "text/plain": [
       "(330, 110, 0, 3)"
      ]
     },
     "execution_count": 2,
     "metadata": {},
     "output_type": "execute_result"
    }
   ],
   "source": [
    "X_train, X_test, y_train, y_test = getDataMultiVariate(\"ArabicCut\", data_path=\"../Data/MultiDimensions/\")\n",
    "len(X_train), len(X_test), y_train[0], y_train[100]"
   ]
  },
  {
   "cell_type": "code",
   "execution_count": 75,
   "metadata": {},
   "outputs": [],
   "source": [
    "def knn_classifier_from_distance_matrix(distance_matrix, k, labels):\n",
    "    knn_clf = KNeighborsClassifier(\n",
    "        n_neighbors=k, algorithm=\"brute\", metric=\"precomputed\"\n",
    "    )\n",
    "    n_train_samples = distance_matrix.shape[1]\n",
    "    knn_clf.fit(np.random.rand(n_train_samples, n_train_samples), labels)\n",
    "    predicted_labels = knn_clf.predict(distance_matrix)\n",
    "    return predicted_labels"
   ]
  },
  {
   "cell_type": "code",
   "execution_count": 76,
   "metadata": {},
   "outputs": [
    {
     "name": "stderr",
     "output_type": "stream",
     "text": [
      "  0%|          | 0/33 [00:00<?, ?it/s]"
     ]
    },
    {
     "name": "stdout",
     "output_type": "stream",
     "text": [
      "Iter num: 2\n",
      "Iter num: 2\n"
     ]
    },
    {
     "name": "stderr",
     "output_type": "stream",
     "text": []
    },
    {
     "name": "stdout",
     "output_type": "stream",
     "text": [
      "Iter num: 4\n",
      "Iter num: 3\n",
      "Iter num: 3\n"
     ]
    },
    {
     "name": "stderr",
     "output_type": "stream",
     "text": []
    },
    {
     "name": "stdout",
     "output_type": "stream",
     "text": [
      "Iter num: 3\n",
      "Iter num: 3\n"
     ]
    },
    {
     "name": "stderr",
     "output_type": "stream",
     "text": []
    },
    {
     "name": "stdout",
     "output_type": "stream",
     "text": [
      "Iter num: 3\n"
     ]
    },
    {
     "name": "stderr",
     "output_type": "stream",
     "text": []
    },
    {
     "name": "stdout",
     "output_type": "stream",
     "text": [
      "Iter num: 4\n",
      "Iter num: 4\n"
     ]
    },
    {
     "name": "stderr",
     "output_type": "stream",
     "text": [
      "  3%|▎         | 1/33 [00:01<00:47,  1.49s/it]"
     ]
    },
    {
     "name": "stdout",
     "output_type": "stream",
     "text": [
      "Iter num: 2\n"
     ]
    },
    {
     "name": "stderr",
     "output_type": "stream",
     "text": []
    },
    {
     "name": "stdout",
     "output_type": "stream",
     "text": [
      "Iter num: 2\n"
     ]
    },
    {
     "name": "stderr",
     "output_type": "stream",
     "text": []
    },
    {
     "name": "stdout",
     "output_type": "stream",
     "text": [
      "Iter num: 2\n"
     ]
    },
    {
     "name": "stderr",
     "output_type": "stream",
     "text": []
    },
    {
     "name": "stdout",
     "output_type": "stream",
     "text": [
      "Iter num: 3\n"
     ]
    },
    {
     "name": "stderr",
     "output_type": "stream",
     "text": []
    },
    {
     "name": "stdout",
     "output_type": "stream",
     "text": [
      "Iter num: 4\n"
     ]
    },
    {
     "name": "stderr",
     "output_type": "stream",
     "text": []
    },
    {
     "name": "stdout",
     "output_type": "stream",
     "text": [
      "Iter num: 4\n"
     ]
    },
    {
     "name": "stderr",
     "output_type": "stream",
     "text": []
    },
    {
     "name": "stdout",
     "output_type": "stream",
     "text": [
      "Iter num: 4\n"
     ]
    },
    {
     "name": "stderr",
     "output_type": "stream",
     "text": []
    },
    {
     "name": "stdout",
     "output_type": "stream",
     "text": [
      "Iter num: 4\n"
     ]
    },
    {
     "name": "stderr",
     "output_type": "stream",
     "text": []
    },
    {
     "name": "stdout",
     "output_type": "stream",
     "text": [
      "Iter num: 4\n"
     ]
    },
    {
     "name": "stderr",
     "output_type": "stream",
     "text": []
    },
    {
     "name": "stdout",
     "output_type": "stream",
     "text": [
      "Iter num: 3\n"
     ]
    },
    {
     "name": "stderr",
     "output_type": "stream",
     "text": []
    },
    {
     "name": "stdout",
     "output_type": "stream",
     "text": [
      "Iter num: 4\n"
     ]
    },
    {
     "name": "stderr",
     "output_type": "stream",
     "text": [
      "  6%|▌         | 2/33 [02:43<49:32, 95.89s/it]"
     ]
    },
    {
     "name": "stdout",
     "output_type": "stream",
     "text": [
      "Iter num: 2\n"
     ]
    },
    {
     "name": "stderr",
     "output_type": "stream",
     "text": []
    },
    {
     "name": "stdout",
     "output_type": "stream",
     "text": [
      "Iter num: 2\n",
      "Iter num: 2\n"
     ]
    },
    {
     "name": "stderr",
     "output_type": "stream",
     "text": [
      "\n"
     ]
    },
    {
     "name": "stdout",
     "output_type": "stream",
     "text": [
      "Iter num: 3\n",
      "Iter num: 2\n"
     ]
    },
    {
     "name": "stderr",
     "output_type": "stream",
     "text": [
      " 36%|███▋      | 4/11 [00:00<00:00, 14.33it/s]\u001b[A\n"
     ]
    },
    {
     "name": "stdout",
     "output_type": "stream",
     "text": [
      "Iter num: 2\n",
      "Iter num: 2\n"
     ]
    },
    {
     "name": "stderr",
     "output_type": "stream",
     "text": [
      " 55%|█████▍    | 6/11 [00:00<00:00, 15.23it/s]\u001b[A"
     ]
    },
    {
     "name": "stdout",
     "output_type": "stream",
     "text": [
      "Iter num: 2\n",
      "Iter num: 2\n"
     ]
    },
    {
     "name": "stderr",
     "output_type": "stream",
     "text": []
    },
    {
     "name": "stdout",
     "output_type": "stream",
     "text": [
      "Iter num: 2\n",
      "Iter num: 2\n"
     ]
    },
    {
     "name": "stderr",
     "output_type": "stream",
     "text": [
      "  9%|▉         | 3/33 [02:44<26:13, 52.45s/it]"
     ]
    },
    {
     "name": "stdout",
     "output_type": "stream",
     "text": [
      "Iter num: 2\n"
     ]
    },
    {
     "name": "stderr",
     "output_type": "stream",
     "text": []
    },
    {
     "name": "stdout",
     "output_type": "stream",
     "text": [
      "Iter num: 2\n"
     ]
    },
    {
     "name": "stderr",
     "output_type": "stream",
     "text": []
    },
    {
     "name": "stdout",
     "output_type": "stream",
     "text": [
      "Iter num: 2\n"
     ]
    },
    {
     "name": "stderr",
     "output_type": "stream",
     "text": []
    },
    {
     "name": "stdout",
     "output_type": "stream",
     "text": [
      "Iter num: 4\n"
     ]
    },
    {
     "name": "stderr",
     "output_type": "stream",
     "text": []
    },
    {
     "name": "stdout",
     "output_type": "stream",
     "text": [
      "Iter num: 3\n"
     ]
    },
    {
     "name": "stderr",
     "output_type": "stream",
     "text": []
    },
    {
     "name": "stdout",
     "output_type": "stream",
     "text": [
      "Iter num: 3\n",
      "Iter num: 4\n"
     ]
    },
    {
     "name": "stderr",
     "output_type": "stream",
     "text": []
    },
    {
     "name": "stdout",
     "output_type": "stream",
     "text": [
      "Iter num: 4\n",
      "Iter num: 4\n"
     ]
    },
    {
     "name": "stderr",
     "output_type": "stream",
     "text": []
    },
    {
     "name": "stdout",
     "output_type": "stream",
     "text": [
      "Iter num: 4\n",
      "Iter num: 4\n"
     ]
    },
    {
     "name": "stderr",
     "output_type": "stream",
     "text": [
      " 12%|█▏        | 4/33 [02:59<18:16, 37.80s/it]"
     ]
    },
    {
     "name": "stdout",
     "output_type": "stream",
     "text": [
      "Iter num: 2\n"
     ]
    },
    {
     "name": "stderr",
     "output_type": "stream",
     "text": []
    },
    {
     "name": "stdout",
     "output_type": "stream",
     "text": [
      "Iter num: 2\n",
      "Iter num: 2\n"
     ]
    },
    {
     "name": "stderr",
     "output_type": "stream",
     "text": []
    },
    {
     "name": "stdout",
     "output_type": "stream",
     "text": [
      "Iter num: 4\n"
     ]
    },
    {
     "name": "stderr",
     "output_type": "stream",
     "text": []
    },
    {
     "name": "stdout",
     "output_type": "stream",
     "text": [
      "Iter num: 4\n",
      "Iter num: 3\n",
      "Iter num: 3\n"
     ]
    },
    {
     "name": "stderr",
     "output_type": "stream",
     "text": [
      "\n"
     ]
    },
    {
     "name": "stdout",
     "output_type": "stream",
     "text": [
      "Iter num: 3\n",
      "Iter num: 3\n",
      "Iter num: 3\n"
     ]
    },
    {
     "name": "stderr",
     "output_type": "stream",
     "text": [
      " 15%|█▌        | 5/33 [03:00<11:24, 24.44s/it]\u001b[A"
     ]
    },
    {
     "name": "stdout",
     "output_type": "stream",
     "text": [
      "Iter num: 4\n",
      "Iter num: 2\n"
     ]
    },
    {
     "name": "stderr",
     "output_type": "stream",
     "text": []
    },
    {
     "name": "stdout",
     "output_type": "stream",
     "text": [
      "Iter num: 2\n",
      "Iter num: 2\n"
     ]
    },
    {
     "name": "stderr",
     "output_type": "stream",
     "text": []
    },
    {
     "name": "stdout",
     "output_type": "stream",
     "text": [
      "Iter num: 4\n",
      "Iter num: 4\n"
     ]
    },
    {
     "name": "stderr",
     "output_type": "stream",
     "text": []
    },
    {
     "name": "stdout",
     "output_type": "stream",
     "text": [
      "Iter num: 4\n"
     ]
    },
    {
     "name": "stderr",
     "output_type": "stream",
     "text": []
    },
    {
     "name": "stdout",
     "output_type": "stream",
     "text": [
      "Iter num: 4\n",
      "Iter num: 4\n",
      "Iter num: 4\n"
     ]
    },
    {
     "name": "stderr",
     "output_type": "stream",
     "text": []
    },
    {
     "name": "stdout",
     "output_type": "stream",
     "text": [
      "Iter num: 4\n",
      "Iter num: 4\n"
     ]
    },
    {
     "name": "stderr",
     "output_type": "stream",
     "text": [
      " 18%|█▊        | 6/33 [03:01<07:24, 16.46s/it]"
     ]
    },
    {
     "name": "stdout",
     "output_type": "stream",
     "text": [
      "Iter num: 2\n"
     ]
    },
    {
     "name": "stderr",
     "output_type": "stream",
     "text": []
    },
    {
     "name": "stdout",
     "output_type": "stream",
     "text": [
      "Iter num: 2\n"
     ]
    },
    {
     "name": "stderr",
     "output_type": "stream",
     "text": []
    },
    {
     "name": "stdout",
     "output_type": "stream",
     "text": [
      "Iter num: 2\n"
     ]
    },
    {
     "name": "stderr",
     "output_type": "stream",
     "text": []
    },
    {
     "name": "stdout",
     "output_type": "stream",
     "text": [
      "Iter num: 2\n"
     ]
    },
    {
     "name": "stderr",
     "output_type": "stream",
     "text": []
    },
    {
     "name": "stdout",
     "output_type": "stream",
     "text": [
      "Iter num: 2\n"
     ]
    },
    {
     "name": "stderr",
     "output_type": "stream",
     "text": []
    },
    {
     "name": "stdout",
     "output_type": "stream",
     "text": [
      "Iter num: 2\n"
     ]
    },
    {
     "name": "stderr",
     "output_type": "stream",
     "text": []
    },
    {
     "name": "stdout",
     "output_type": "stream",
     "text": [
      "Iter num: 2\n"
     ]
    },
    {
     "name": "stderr",
     "output_type": "stream",
     "text": []
    },
    {
     "name": "stdout",
     "output_type": "stream",
     "text": [
      "Iter num: 2\n"
     ]
    },
    {
     "name": "stderr",
     "output_type": "stream",
     "text": []
    },
    {
     "name": "stdout",
     "output_type": "stream",
     "text": [
      "Iter num: 2\n"
     ]
    },
    {
     "name": "stderr",
     "output_type": "stream",
     "text": []
    },
    {
     "name": "stdout",
     "output_type": "stream",
     "text": [
      "Iter num: 3\n"
     ]
    },
    {
     "name": "stderr",
     "output_type": "stream",
     "text": []
    },
    {
     "name": "stdout",
     "output_type": "stream",
     "text": [
      "Iter num: 3\n"
     ]
    },
    {
     "name": "stderr",
     "output_type": "stream",
     "text": [
      " 21%|██        | 7/33 [05:16<23:58, 55.35s/it]"
     ]
    },
    {
     "name": "stdout",
     "output_type": "stream",
     "text": [
      "Iter num: 2\n"
     ]
    },
    {
     "name": "stderr",
     "output_type": "stream",
     "text": []
    },
    {
     "name": "stdout",
     "output_type": "stream",
     "text": [
      "Iter num: 3\n"
     ]
    },
    {
     "name": "stderr",
     "output_type": "stream",
     "text": []
    },
    {
     "name": "stdout",
     "output_type": "stream",
     "text": [
      "Iter num: 3\n"
     ]
    },
    {
     "name": "stderr",
     "output_type": "stream",
     "text": []
    },
    {
     "name": "stdout",
     "output_type": "stream",
     "text": [
      "Iter num: 4\n"
     ]
    },
    {
     "name": "stderr",
     "output_type": "stream",
     "text": []
    },
    {
     "name": "stdout",
     "output_type": "stream",
     "text": [
      "Iter num: 3\n"
     ]
    },
    {
     "name": "stderr",
     "output_type": "stream",
     "text": []
    },
    {
     "name": "stdout",
     "output_type": "stream",
     "text": [
      "Iter num: 4\n"
     ]
    },
    {
     "name": "stderr",
     "output_type": "stream",
     "text": []
    },
    {
     "name": "stdout",
     "output_type": "stream",
     "text": [
      "Iter num: 4\n"
     ]
    },
    {
     "name": "stderr",
     "output_type": "stream",
     "text": []
    },
    {
     "name": "stdout",
     "output_type": "stream",
     "text": [
      "Iter num: 3\n"
     ]
    },
    {
     "name": "stderr",
     "output_type": "stream",
     "text": []
    },
    {
     "name": "stdout",
     "output_type": "stream",
     "text": [
      "Iter num: 4\n"
     ]
    },
    {
     "name": "stderr",
     "output_type": "stream",
     "text": []
    },
    {
     "name": "stdout",
     "output_type": "stream",
     "text": [
      "Iter num: 3\n"
     ]
    },
    {
     "name": "stderr",
     "output_type": "stream",
     "text": []
    },
    {
     "name": "stdout",
     "output_type": "stream",
     "text": [
      "Iter num: 3\n"
     ]
    },
    {
     "name": "stderr",
     "output_type": "stream",
     "text": [
      " 24%|██▍       | 8/33 [08:11<38:50, 93.22s/it]"
     ]
    },
    {
     "name": "stdout",
     "output_type": "stream",
     "text": [
      "Iter num: 2\n"
     ]
    },
    {
     "name": "stderr",
     "output_type": "stream",
     "text": []
    },
    {
     "name": "stdout",
     "output_type": "stream",
     "text": [
      "Iter num: 3\n"
     ]
    },
    {
     "name": "stderr",
     "output_type": "stream",
     "text": []
    },
    {
     "name": "stdout",
     "output_type": "stream",
     "text": [
      "Iter num: 3\n",
      "Iter num: 4\n"
     ]
    },
    {
     "name": "stderr",
     "output_type": "stream",
     "text": []
    },
    {
     "name": "stdout",
     "output_type": "stream",
     "text": [
      "Iter num: 5\n"
     ]
    },
    {
     "name": "stderr",
     "output_type": "stream",
     "text": []
    },
    {
     "name": "stdout",
     "output_type": "stream",
     "text": [
      "Iter num: 4\n"
     ]
    },
    {
     "name": "stderr",
     "output_type": "stream",
     "text": []
    },
    {
     "name": "stdout",
     "output_type": "stream",
     "text": [
      "Iter num: 3\n"
     ]
    },
    {
     "name": "stderr",
     "output_type": "stream",
     "text": []
    },
    {
     "name": "stdout",
     "output_type": "stream",
     "text": [
      "Iter num: 4\n",
      "Iter num: 3\n",
      "Iter num: 4\n"
     ]
    },
    {
     "name": "stderr",
     "output_type": "stream",
     "text": []
    },
    {
     "name": "stdout",
     "output_type": "stream",
     "text": [
      "Iter num: 4\n"
     ]
    },
    {
     "name": "stderr",
     "output_type": "stream",
     "text": [
      " 27%|██▋       | 9/33 [08:58<31:34, 78.94s/it]"
     ]
    },
    {
     "name": "stdout",
     "output_type": "stream",
     "text": [
      "Iter num: 3\n"
     ]
    },
    {
     "name": "stderr",
     "output_type": "stream",
     "text": []
    },
    {
     "name": "stdout",
     "output_type": "stream",
     "text": [
      "Iter num: 2\n",
      "Iter num: 2\n",
      "Iter num: 4\n"
     ]
    },
    {
     "name": "stderr",
     "output_type": "stream",
     "text": []
    },
    {
     "name": "stdout",
     "output_type": "stream",
     "text": [
      "Iter num: 4\n",
      "Iter num: 4\n"
     ]
    },
    {
     "name": "stderr",
     "output_type": "stream",
     "text": []
    },
    {
     "name": "stdout",
     "output_type": "stream",
     "text": [
      "Iter num: 3\n",
      "Iter num: 4\n"
     ]
    },
    {
     "name": "stderr",
     "output_type": "stream",
     "text": []
    },
    {
     "name": "stdout",
     "output_type": "stream",
     "text": [
      "Iter num: 4\n"
     ]
    },
    {
     "name": "stderr",
     "output_type": "stream",
     "text": [
      "\n",
      " 91%|█████████ | 10/11 [00:01<00:00,  6.49it/s]"
     ]
    },
    {
     "name": "stdout",
     "output_type": "stream",
     "text": [
      "Iter num: 4\n",
      "Iter num: 3\n"
     ]
    },
    {
     "name": "stderr",
     "output_type": "stream",
     "text": [
      " 30%|███       | 10/33 [09:00<21:06, 55.05s/it]"
     ]
    },
    {
     "name": "stdout",
     "output_type": "stream",
     "text": [
      "Iter num: 2\n"
     ]
    },
    {
     "name": "stderr",
     "output_type": "stream",
     "text": []
    },
    {
     "name": "stdout",
     "output_type": "stream",
     "text": [
      "Iter num: 3\n"
     ]
    },
    {
     "name": "stderr",
     "output_type": "stream",
     "text": []
    },
    {
     "name": "stdout",
     "output_type": "stream",
     "text": [
      "Iter num: 3\n"
     ]
    },
    {
     "name": "stderr",
     "output_type": "stream",
     "text": []
    },
    {
     "name": "stdout",
     "output_type": "stream",
     "text": [
      "Iter num: 5\n",
      "Iter num: 4\n"
     ]
    },
    {
     "name": "stderr",
     "output_type": "stream",
     "text": []
    },
    {
     "name": "stdout",
     "output_type": "stream",
     "text": [
      "Iter num: 4\n",
      "Iter num: 4\n"
     ]
    },
    {
     "name": "stderr",
     "output_type": "stream",
     "text": []
    },
    {
     "name": "stdout",
     "output_type": "stream",
     "text": [
      "Iter num: 4\n",
      "Iter num: 4\n"
     ]
    },
    {
     "name": "stderr",
     "output_type": "stream",
     "text": [
      " 33%|███▎      | 11/33 [09:07<14:53, 40.61s/it]"
     ]
    },
    {
     "name": "stdout",
     "output_type": "stream",
     "text": [
      "Iter num: 4\n",
      "Iter num: 3\n",
      "Iter num: 4\n"
     ]
    },
    {
     "name": "stderr",
     "output_type": "stream",
     "text": []
    },
    {
     "name": "stdout",
     "output_type": "stream",
     "text": [
      "Iter num: 3\n",
      "Iter num: 3\n"
     ]
    },
    {
     "name": "stderr",
     "output_type": "stream",
     "text": []
    },
    {
     "name": "stdout",
     "output_type": "stream",
     "text": [
      "Iter num: 3\n",
      "Iter num: 4\n",
      "Iter num: 4\n"
     ]
    },
    {
     "name": "stderr",
     "output_type": "stream",
     "text": []
    },
    {
     "name": "stdout",
     "output_type": "stream",
     "text": [
      "Iter num: 4\n",
      "Iter num: 4\n"
     ]
    },
    {
     "name": "stderr",
     "output_type": "stream",
     "text": []
    },
    {
     "name": "stdout",
     "output_type": "stream",
     "text": [
      "Iter num: 4\n"
     ]
    },
    {
     "name": "stderr",
     "output_type": "stream",
     "text": [
      "\n"
     ]
    },
    {
     "name": "stdout",
     "output_type": "stream",
     "text": [
      "Iter num: 4\n",
      "Iter num: 4\n",
      "Iter num: 3\n"
     ]
    },
    {
     "name": "stderr",
     "output_type": "stream",
     "text": [
      " 36%|███▋      | 12/33 [09:08<09:57, 28.47s/it]\u001b[A"
     ]
    },
    {
     "name": "stdout",
     "output_type": "stream",
     "text": [
      "Iter num: 4\n",
      "Iter num: 4\n"
     ]
    },
    {
     "name": "stderr",
     "output_type": "stream",
     "text": []
    },
    {
     "name": "stdout",
     "output_type": "stream",
     "text": [
      "Iter num: 4\n",
      "Iter num: 4\n"
     ]
    },
    {
     "name": "stderr",
     "output_type": "stream",
     "text": []
    },
    {
     "name": "stdout",
     "output_type": "stream",
     "text": [
      "Iter num: 4\n"
     ]
    },
    {
     "name": "stderr",
     "output_type": "stream",
     "text": []
    },
    {
     "name": "stdout",
     "output_type": "stream",
     "text": [
      "Iter num: 4\n",
      "Iter num: 4\n"
     ]
    },
    {
     "name": "stderr",
     "output_type": "stream",
     "text": [
      "\n"
     ]
    },
    {
     "name": "stdout",
     "output_type": "stream",
     "text": [
      "Iter num: 4\n",
      "Iter num: 4\n"
     ]
    },
    {
     "name": "stderr",
     "output_type": "stream",
     "text": [
      " 39%|███▉      | 13/33 [09:09<06:41, 20.06s/it][A"
     ]
    },
    {
     "name": "stdout",
     "output_type": "stream",
     "text": [
      "Iter num: 4\n",
      "Iter num: 3\n"
     ]
    },
    {
     "name": "stderr",
     "output_type": "stream",
     "text": []
    },
    {
     "name": "stdout",
     "output_type": "stream",
     "text": [
      "Iter num: 4\n",
      "Iter num: 4\n",
      "Iter num: 4\n"
     ]
    },
    {
     "name": "stderr",
     "output_type": "stream",
     "text": []
    },
    {
     "name": "stdout",
     "output_type": "stream",
     "text": [
      "Iter num: 4\n",
      "Iter num: 5\n"
     ]
    },
    {
     "name": "stderr",
     "output_type": "stream",
     "text": []
    },
    {
     "name": "stdout",
     "output_type": "stream",
     "text": [
      "Iter num: 4\n",
      "Iter num: 3\n"
     ]
    },
    {
     "name": "stderr",
     "output_type": "stream",
     "text": []
    },
    {
     "name": "stdout",
     "output_type": "stream",
     "text": [
      "Iter num: 4\n",
      "Iter num: 5\n"
     ]
    },
    {
     "name": "stderr",
     "output_type": "stream",
     "text": [
      "\n"
     ]
    },
    {
     "name": "stdout",
     "output_type": "stream",
     "text": [
      "Iter num: 4\n",
      "Iter num: 4\n"
     ]
    },
    {
     "name": "stderr",
     "output_type": "stream",
     "text": [
      " 42%|████▏     | 14/33 [09:10<04:31, 14.27s/it]\u001b[A"
     ]
    },
    {
     "name": "stdout",
     "output_type": "stream",
     "text": [
      "Iter num: 4\n",
      "Iter num: 4\n"
     ]
    },
    {
     "name": "stderr",
     "output_type": "stream",
     "text": [
      "\n"
     ]
    },
    {
     "name": "stdout",
     "output_type": "stream",
     "text": [
      "Iter num: 4\n"
     ]
    },
    {
     "name": "stderr",
     "output_type": "stream",
     "text": [
      " 27%|██▋       | 3/11 [00:00<00:00, 12.52it/s]\u001b[A"
     ]
    },
    {
     "name": "stdout",
     "output_type": "stream",
     "text": [
      "Iter num: 4\n"
     ]
    },
    {
     "name": "stderr",
     "output_type": "stream",
     "text": []
    },
    {
     "name": "stdout",
     "output_type": "stream",
     "text": [
      "Iter num: 4\n"
     ]
    },
    {
     "name": "stderr",
     "output_type": "stream",
     "text": []
    },
    {
     "name": "stdout",
     "output_type": "stream",
     "text": [
      "Iter num: 5\n",
      "Iter num: 4\n",
      "Iter num: 5\n"
     ]
    },
    {
     "name": "stderr",
     "output_type": "stream",
     "text": []
    },
    {
     "name": "stdout",
     "output_type": "stream",
     "text": [
      "Iter num: 4\n",
      "Iter num: 4\n"
     ]
    },
    {
     "name": "stderr",
     "output_type": "stream",
     "text": [
      " 45%|████▌     | 15/33 [09:11<03:05, 10.29s/it]"
     ]
    },
    {
     "name": "stdout",
     "output_type": "stream",
     "text": [
      "Iter num: 4\n"
     ]
    },
    {
     "name": "stderr",
     "output_type": "stream",
     "text": []
    },
    {
     "name": "stdout",
     "output_type": "stream",
     "text": [
      "Iter num: 5\n"
     ]
    },
    {
     "name": "stderr",
     "output_type": "stream",
     "text": []
    },
    {
     "name": "stdout",
     "output_type": "stream",
     "text": [
      "Iter num: 5\n",
      "Iter num: 4\n"
     ]
    },
    {
     "name": "stderr",
     "output_type": "stream",
     "text": []
    },
    {
     "name": "stdout",
     "output_type": "stream",
     "text": [
      "Iter num: 4\n",
      "Iter num: 4\n"
     ]
    },
    {
     "name": "stderr",
     "output_type": "stream",
     "text": []
    },
    {
     "name": "stdout",
     "output_type": "stream",
     "text": [
      "Iter num: 4\n",
      "Iter num: 4\n"
     ]
    },
    {
     "name": "stderr",
     "output_type": "stream",
     "text": []
    },
    {
     "name": "stdout",
     "output_type": "stream",
     "text": [
      "Iter num: 4\n",
      "Iter num: 5\n"
     ]
    },
    {
     "name": "stderr",
     "output_type": "stream",
     "text": [
      " 48%|████▊     | 16/33 [09:12<02:08,  7.59s/it]"
     ]
    },
    {
     "name": "stdout",
     "output_type": "stream",
     "text": [
      "Iter num: 5\n",
      "Iter num: 3\n"
     ]
    },
    {
     "name": "stderr",
     "output_type": "stream",
     "text": []
    },
    {
     "name": "stdout",
     "output_type": "stream",
     "text": [
      "Iter num: 4\n"
     ]
    },
    {
     "name": "stderr",
     "output_type": "stream",
     "text": []
    },
    {
     "name": "stdout",
     "output_type": "stream",
     "text": [
      "Iter num: 4\n",
      "Iter num: 4\n"
     ]
    },
    {
     "name": "stderr",
     "output_type": "stream",
     "text": []
    },
    {
     "name": "stdout",
     "output_type": "stream",
     "text": [
      "Iter num: 4\n",
      "Iter num: 4\n"
     ]
    },
    {
     "name": "stderr",
     "output_type": "stream",
     "text": []
    },
    {
     "name": "stdout",
     "output_type": "stream",
     "text": [
      "Iter num: 5\n"
     ]
    },
    {
     "name": "stderr",
     "output_type": "stream",
     "text": []
    },
    {
     "name": "stdout",
     "output_type": "stream",
     "text": [
      "Iter num: 4\n",
      "Iter num: 4\n",
      "Iter num: 3\n"
     ]
    },
    {
     "name": "stderr",
     "output_type": "stream",
     "text": []
    },
    {
     "name": "stdout",
     "output_type": "stream",
     "text": [
      "Iter num: 4\n"
     ]
    },
    {
     "name": "stderr",
     "output_type": "stream",
     "text": [
      " 52%|█████▏    | 17/33 [09:42<03:49, 14.34s/it]"
     ]
    },
    {
     "name": "stdout",
     "output_type": "stream",
     "text": [
      "Iter num: 4\n"
     ]
    },
    {
     "name": "stderr",
     "output_type": "stream",
     "text": []
    },
    {
     "name": "stdout",
     "output_type": "stream",
     "text": [
      "Iter num: 4\n",
      "Iter num: 4\n"
     ]
    },
    {
     "name": "stderr",
     "output_type": "stream",
     "text": []
    },
    {
     "name": "stdout",
     "output_type": "stream",
     "text": [
      "Iter num: 5\n",
      "Iter num: 4\n"
     ]
    },
    {
     "name": "stderr",
     "output_type": "stream",
     "text": []
    },
    {
     "name": "stdout",
     "output_type": "stream",
     "text": [
      "Iter num: 4\n",
      "Iter num: 4\n"
     ]
    },
    {
     "name": "stderr",
     "output_type": "stream",
     "text": []
    },
    {
     "name": "stdout",
     "output_type": "stream",
     "text": [
      "Iter num: 4\n",
      "Iter num: 4\n",
      "Iter num: 4\n"
     ]
    },
    {
     "name": "stderr",
     "output_type": "stream",
     "text": [
      " 55%|█████▍    | 18/33 [09:43<02:36, 10.42s/it]"
     ]
    },
    {
     "name": "stdout",
     "output_type": "stream",
     "text": [
      "Iter num: 4\n",
      "Iter num: 4\n"
     ]
    },
    {
     "name": "stderr",
     "output_type": "stream",
     "text": []
    },
    {
     "name": "stdout",
     "output_type": "stream",
     "text": [
      "Iter num: 3\n"
     ]
    },
    {
     "name": "stderr",
     "output_type": "stream",
     "text": []
    },
    {
     "name": "stdout",
     "output_type": "stream",
     "text": [
      "Iter num: 3\n"
     ]
    },
    {
     "name": "stderr",
     "output_type": "stream",
     "text": []
    },
    {
     "name": "stdout",
     "output_type": "stream",
     "text": [
      "Iter num: 5\n",
      "Iter num: 4\n"
     ]
    },
    {
     "name": "stderr",
     "output_type": "stream",
     "text": []
    },
    {
     "name": "stdout",
     "output_type": "stream",
     "text": [
      "Iter num: 4\n",
      "Iter num: 3\n"
     ]
    },
    {
     "name": "stderr",
     "output_type": "stream",
     "text": []
    },
    {
     "name": "stdout",
     "output_type": "stream",
     "text": [
      "Iter num: 5\n",
      "Iter num: 5\n"
     ]
    },
    {
     "name": "stderr",
     "output_type": "stream",
     "text": [
      "\n",
      "                                               "
     ]
    },
    {
     "name": "stdout",
     "output_type": "stream",
     "text": [
      "Iter num: 5\n",
      "Iter num: 4\n",
      "Iter num: 3\n"
     ]
    },
    {
     "name": "stderr",
     "output_type": "stream",
     "text": [
      " 58%|█████▊    | 19/33 [09:45<01:48,  7.78s/it]"
     ]
    },
    {
     "name": "stdout",
     "output_type": "stream",
     "text": [
      "Iter num: 4\n",
      "Iter num: 4\n",
      "Iter num: 4\n"
     ]
    },
    {
     "name": "stderr",
     "output_type": "stream",
     "text": []
    },
    {
     "name": "stdout",
     "output_type": "stream",
     "text": [
      "Iter num: 4\n",
      "Iter num: 4\n",
      "Iter num: 4\n"
     ]
    },
    {
     "name": "stderr",
     "output_type": "stream",
     "text": []
    },
    {
     "name": "stdout",
     "output_type": "stream",
     "text": [
      "Iter num: 5\n",
      "Iter num: 3\n",
      "Iter num: 4\n"
     ]
    },
    {
     "name": "stderr",
     "output_type": "stream",
     "text": [
      " 61%|██████    | 20/33 [09:46<01:15,  5.78s/it]"
     ]
    },
    {
     "name": "stdout",
     "output_type": "stream",
     "text": [
      "Iter num: 4\n",
      "Iter num: 5\n"
     ]
    },
    {
     "name": "stderr",
     "output_type": "stream",
     "text": []
    },
    {
     "name": "stdout",
     "output_type": "stream",
     "text": [
      "Iter num: 2\n"
     ]
    },
    {
     "name": "stderr",
     "output_type": "stream",
     "text": []
    },
    {
     "name": "stdout",
     "output_type": "stream",
     "text": [
      "Iter num: 2\n"
     ]
    },
    {
     "name": "stderr",
     "output_type": "stream",
     "text": []
    },
    {
     "name": "stdout",
     "output_type": "stream",
     "text": [
      "Iter num: 3\n",
      "Iter num: 3\n"
     ]
    },
    {
     "name": "stderr",
     "output_type": "stream",
     "text": [
      "\n"
     ]
    },
    {
     "name": "stdout",
     "output_type": "stream",
     "text": [
      "Iter num: 3\n",
      "Iter num: 3\n"
     ]
    },
    {
     "name": "stderr",
     "output_type": "stream",
     "text": [
      " 55%|█████▍    | 6/11 [00:00<00:00,  5.89it/s]\u001b[A"
     ]
    },
    {
     "name": "stdout",
     "output_type": "stream",
     "text": [
      "Iter num: 5\n",
      "Iter num: 3\n"
     ]
    },
    {
     "name": "stderr",
     "output_type": "stream",
     "text": [
      "\n"
     ]
    },
    {
     "name": "stdout",
     "output_type": "stream",
     "text": [
      "Iter num: 3\n",
      "Iter num: 4\n"
     ]
    },
    {
     "name": "stderr",
     "output_type": "stream",
     "text": [
      " 64%|██████▎   | 21/33 [09:48<00:55,  4.63s/it]\u001b[A"
     ]
    },
    {
     "name": "stdout",
     "output_type": "stream",
     "text": [
      "Iter num: 2\n"
     ]
    },
    {
     "name": "stderr",
     "output_type": "stream",
     "text": []
    },
    {
     "name": "stdout",
     "output_type": "stream",
     "text": [
      "Iter num: 2\n"
     ]
    },
    {
     "name": "stderr",
     "output_type": "stream",
     "text": []
    },
    {
     "name": "stdout",
     "output_type": "stream",
     "text": [
      "Iter num: 2\n"
     ]
    },
    {
     "name": "stderr",
     "output_type": "stream",
     "text": []
    },
    {
     "name": "stdout",
     "output_type": "stream",
     "text": [
      "Iter num: 3\n",
      "Iter num: 2\n",
      "Iter num: 2\n"
     ]
    },
    {
     "name": "stderr",
     "output_type": "stream",
     "text": []
    },
    {
     "name": "stdout",
     "output_type": "stream",
     "text": [
      "Iter num: 2\n",
      "Iter num: 3\n",
      "Iter num: 2\n"
     ]
    },
    {
     "name": "stderr",
     "output_type": "stream",
     "text": [
      " 67%|██████▋   | 22/33 [09:49<00:39,  3.59s/it]"
     ]
    },
    {
     "name": "stdout",
     "output_type": "stream",
     "text": [
      "Iter num: 3\n",
      "Iter num: 3\n",
      "Iter num: 2\n"
     ]
    },
    {
     "name": "stderr",
     "output_type": "stream",
     "text": []
    },
    {
     "name": "stdout",
     "output_type": "stream",
     "text": [
      "Iter num: 2\n",
      "Iter num: 2\n"
     ]
    },
    {
     "name": "stderr",
     "output_type": "stream",
     "text": []
    },
    {
     "name": "stdout",
     "output_type": "stream",
     "text": [
      "Iter num: 4\n",
      "Iter num: 3\n"
     ]
    },
    {
     "name": "stderr",
     "output_type": "stream",
     "text": []
    },
    {
     "name": "stdout",
     "output_type": "stream",
     "text": [
      "Iter num: 4\n",
      "Iter num: 3\n",
      "Iter num: 3\n"
     ]
    },
    {
     "name": "stderr",
     "output_type": "stream",
     "text": []
    },
    {
     "name": "stdout",
     "output_type": "stream",
     "text": [
      "Iter num: 2\n",
      "Iter num: 4\n"
     ]
    },
    {
     "name": "stderr",
     "output_type": "stream",
     "text": [
      " 70%|██████▉   | 23/33 [09:50<00:28,  2.82s/it]"
     ]
    },
    {
     "name": "stdout",
     "output_type": "stream",
     "text": [
      "Iter num: 4\n",
      "Iter num: 2\n"
     ]
    },
    {
     "name": "stderr",
     "output_type": "stream",
     "text": [
      "\n"
     ]
    },
    {
     "name": "stdout",
     "output_type": "stream",
     "text": [
      "Iter num: 2\n",
      "Iter num: 2\n",
      "Iter num: 4\n",
      "Iter num: 5\n"
     ]
    },
    {
     "name": "stderr",
     "output_type": "stream",
     "text": [
      " 36%|███▋      | 4/11 [00:00<00:00, 31.19it/s]\u001b[A"
     ]
    },
    {
     "name": "stdout",
     "output_type": "stream",
     "text": [
      "Iter num: 4\n"
     ]
    },
    {
     "name": "stderr",
     "output_type": "stream",
     "text": []
    },
    {
     "name": "stdout",
     "output_type": "stream",
     "text": [
      "Iter num: 4\n",
      "Iter num: 5\n",
      "Iter num: 4\n",
      "Iter num: 4\n"
     ]
    },
    {
     "name": "stderr",
     "output_type": "stream",
     "text": [
      " 73%|███████▎  | 24/33 [09:51<00:19,  2.13s/it]"
     ]
    },
    {
     "name": "stdout",
     "output_type": "stream",
     "text": [
      "Iter num: 4\n",
      "Iter num: 2\n"
     ]
    },
    {
     "name": "stderr",
     "output_type": "stream",
     "text": []
    },
    {
     "name": "stdout",
     "output_type": "stream",
     "text": [
      "Iter num: 2\n",
      "Iter num: 2\n"
     ]
    },
    {
     "name": "stderr",
     "output_type": "stream",
     "text": [
      "\n"
     ]
    },
    {
     "name": "stdout",
     "output_type": "stream",
     "text": [
      "Iter num: 3\n"
     ]
    },
    {
     "name": "stderr",
     "output_type": "stream",
     "text": [
      " 27%|██▋       | 3/11 [00:00<00:00, 13.26it/s]\u001b[A"
     ]
    },
    {
     "name": "stdout",
     "output_type": "stream",
     "text": [
      "Iter num: 3\n",
      "Iter num: 3\n",
      "Iter num: 4\n"
     ]
    },
    {
     "name": "stderr",
     "output_type": "stream",
     "text": []
    },
    {
     "name": "stdout",
     "output_type": "stream",
     "text": [
      "Iter num: 4\n",
      "Iter num: 4\n"
     ]
    },
    {
     "name": "stderr",
     "output_type": "stream",
     "text": []
    },
    {
     "name": "stdout",
     "output_type": "stream",
     "text": [
      "Iter num: 4\n",
      "Iter num: 4\n"
     ]
    },
    {
     "name": "stderr",
     "output_type": "stream",
     "text": [
      " 76%|███████▌  | 25/33 [09:52<00:14,  1.83s/it]"
     ]
    },
    {
     "name": "stdout",
     "output_type": "stream",
     "text": [
      "Iter num: 3\n"
     ]
    },
    {
     "name": "stderr",
     "output_type": "stream",
     "text": []
    },
    {
     "name": "stdout",
     "output_type": "stream",
     "text": [
      "Iter num: 2\n",
      "Iter num: 2\n"
     ]
    },
    {
     "name": "stderr",
     "output_type": "stream",
     "text": []
    },
    {
     "name": "stdout",
     "output_type": "stream",
     "text": [
      "Iter num: 3\n",
      "Iter num: 4\n"
     ]
    },
    {
     "name": "stderr",
     "output_type": "stream",
     "text": []
    },
    {
     "name": "stdout",
     "output_type": "stream",
     "text": [
      "Iter num: 4\n",
      "Iter num: 3\n"
     ]
    },
    {
     "name": "stderr",
     "output_type": "stream",
     "text": []
    },
    {
     "name": "stdout",
     "output_type": "stream",
     "text": [
      "Iter num: 3\n",
      "Iter num: 3\n"
     ]
    },
    {
     "name": "stderr",
     "output_type": "stream",
     "text": [
      " 79%|███████▉  | 26/33 [09:53<00:11,  1.69s/it]"
     ]
    },
    {
     "name": "stdout",
     "output_type": "stream",
     "text": [
      "Iter num: 4\n",
      "Iter num: 4\n",
      "Iter num: 2\n"
     ]
    },
    {
     "name": "stderr",
     "output_type": "stream",
     "text": []
    },
    {
     "name": "stdout",
     "output_type": "stream",
     "text": [
      "Iter num: 2\n",
      "Iter num: 2\n",
      "Iter num: 4\n"
     ]
    },
    {
     "name": "stderr",
     "output_type": "stream",
     "text": []
    },
    {
     "name": "stdout",
     "output_type": "stream",
     "text": [
      "Iter num: 3\n",
      "Iter num: 4\n"
     ]
    },
    {
     "name": "stderr",
     "output_type": "stream",
     "text": []
    },
    {
     "name": "stdout",
     "output_type": "stream",
     "text": [
      "Iter num: 3\n",
      "Iter num: 3\n",
      "Iter num: 5\n"
     ]
    },
    {
     "name": "stderr",
     "output_type": "stream",
     "text": [
      " 82%|████████▏ | 27/33 [09:54<00:08,  1.44s/it]"
     ]
    },
    {
     "name": "stdout",
     "output_type": "stream",
     "text": [
      "Iter num: 3\n",
      "Iter num: 3\n",
      "Iter num: 2\n"
     ]
    },
    {
     "name": "stderr",
     "output_type": "stream",
     "text": []
    },
    {
     "name": "stdout",
     "output_type": "stream",
     "text": [
      "Iter num: 2\n"
     ]
    },
    {
     "name": "stderr",
     "output_type": "stream",
     "text": []
    },
    {
     "name": "stdout",
     "output_type": "stream",
     "text": [
      "Iter num: 2\n",
      "Iter num: 3\n"
     ]
    },
    {
     "name": "stderr",
     "output_type": "stream",
     "text": []
    },
    {
     "name": "stdout",
     "output_type": "stream",
     "text": [
      "Iter num: 3\n"
     ]
    },
    {
     "name": "stderr",
     "output_type": "stream",
     "text": []
    },
    {
     "name": "stdout",
     "output_type": "stream",
     "text": [
      "Iter num: 4\n",
      "Iter num: 3\n"
     ]
    },
    {
     "name": "stderr",
     "output_type": "stream",
     "text": []
    },
    {
     "name": "stdout",
     "output_type": "stream",
     "text": [
      "Iter num: 3\n",
      "Iter num: 3\n"
     ]
    },
    {
     "name": "stderr",
     "output_type": "stream",
     "text": []
    },
    {
     "name": "stdout",
     "output_type": "stream",
     "text": [
      "Iter num: 3\n",
      "Iter num: 3\n"
     ]
    },
    {
     "name": "stderr",
     "output_type": "stream",
     "text": [
      " 85%|████████▍ | 28/33 [09:56<00:07,  1.50s/it]"
     ]
    },
    {
     "name": "stdout",
     "output_type": "stream",
     "text": [
      "Iter num: 2\n"
     ]
    },
    {
     "name": "stderr",
     "output_type": "stream",
     "text": []
    },
    {
     "name": "stdout",
     "output_type": "stream",
     "text": [
      "Iter num: 2\n"
     ]
    },
    {
     "name": "stderr",
     "output_type": "stream",
     "text": []
    },
    {
     "name": "stdout",
     "output_type": "stream",
     "text": [
      "Iter num: 2\n"
     ]
    },
    {
     "name": "stderr",
     "output_type": "stream",
     "text": []
    },
    {
     "name": "stdout",
     "output_type": "stream",
     "text": [
      "Iter num: 3\n",
      "Iter num: 4\n"
     ]
    },
    {
     "name": "stderr",
     "output_type": "stream",
     "text": []
    },
    {
     "name": "stdout",
     "output_type": "stream",
     "text": [
      "Iter num: 4\n"
     ]
    },
    {
     "name": "stderr",
     "output_type": "stream",
     "text": []
    },
    {
     "name": "stdout",
     "output_type": "stream",
     "text": [
      "Iter num: 4\n",
      "Iter num: 4\n",
      "Iter num: 4\n"
     ]
    },
    {
     "name": "stderr",
     "output_type": "stream",
     "text": [
      "\n"
     ]
    },
    {
     "name": "stdout",
     "output_type": "stream",
     "text": [
      "Iter num: 3\n",
      "Iter num: 4\n"
     ]
    },
    {
     "name": "stderr",
     "output_type": "stream",
     "text": [
      " 88%|████████▊ | 29/33 [10:33<00:49, 12.31s/it]\u001b[A"
     ]
    },
    {
     "name": "stdout",
     "output_type": "stream",
     "text": [
      "Iter num: 2\n"
     ]
    },
    {
     "name": "stderr",
     "output_type": "stream",
     "text": []
    },
    {
     "name": "stdout",
     "output_type": "stream",
     "text": [
      "Iter num: 2\n"
     ]
    },
    {
     "name": "stderr",
     "output_type": "stream",
     "text": []
    },
    {
     "name": "stdout",
     "output_type": "stream",
     "text": [
      "Iter num: 2\n"
     ]
    },
    {
     "name": "stderr",
     "output_type": "stream",
     "text": [
      "\n"
     ]
    },
    {
     "name": "stdout",
     "output_type": "stream",
     "text": [
      "Iter num: 4\n",
      "Iter num: 3\n",
      "Iter num: 3\n"
     ]
    },
    {
     "name": "stderr",
     "output_type": "stream",
     "text": [
      " 45%|████▌     | 5/11 [00:25<00:24,  4.10s/it]\u001b[A"
     ]
    },
    {
     "name": "stdout",
     "output_type": "stream",
     "text": [
      "Iter num: 3\n"
     ]
    },
    {
     "name": "stderr",
     "output_type": "stream",
     "text": []
    },
    {
     "name": "stdout",
     "output_type": "stream",
     "text": [
      "Iter num: 3\n"
     ]
    },
    {
     "name": "stderr",
     "output_type": "stream",
     "text": []
    },
    {
     "name": "stdout",
     "output_type": "stream",
     "text": [
      "Iter num: 2\n"
     ]
    },
    {
     "name": "stderr",
     "output_type": "stream",
     "text": []
    },
    {
     "name": "stdout",
     "output_type": "stream",
     "text": [
      "Iter num: 3\n"
     ]
    },
    {
     "name": "stderr",
     "output_type": "stream",
     "text": []
    },
    {
     "name": "stdout",
     "output_type": "stream",
     "text": [
      "Iter num: 5\n"
     ]
    },
    {
     "name": "stderr",
     "output_type": "stream",
     "text": [
      " 91%|█████████ | 30/33 [11:44<01:29, 29.88s/it]"
     ]
    },
    {
     "name": "stdout",
     "output_type": "stream",
     "text": [
      "Iter num: 2\n"
     ]
    },
    {
     "name": "stderr",
     "output_type": "stream",
     "text": []
    },
    {
     "name": "stdout",
     "output_type": "stream",
     "text": [
      "Iter num: 4\n",
      "Iter num: 4\n",
      "Iter num: 4\n",
      "Iter num: 4\n"
     ]
    },
    {
     "name": "stderr",
     "output_type": "stream",
     "text": []
    },
    {
     "name": "stdout",
     "output_type": "stream",
     "text": [
      "Iter num: 2\n",
      "Iter num: 4\n"
     ]
    },
    {
     "name": "stderr",
     "output_type": "stream",
     "text": []
    },
    {
     "name": "stdout",
     "output_type": "stream",
     "text": [
      "Iter num: 4\n",
      "Iter num: 4\n",
      "Iter num: 4\n",
      "Iter num: 4\n"
     ]
    },
    {
     "name": "stderr",
     "output_type": "stream",
     "text": [
      " 94%|█████████▍| 31/33 [12:06<00:54, 27.39s/it]"
     ]
    },
    {
     "name": "stdout",
     "output_type": "stream",
     "text": [
      "Iter num: 5\n"
     ]
    },
    {
     "name": "stderr",
     "output_type": "stream",
     "text": []
    },
    {
     "name": "stdout",
     "output_type": "stream",
     "text": [
      "Iter num: 3\n",
      "Iter num: 3\n",
      "Iter num: 4\n"
     ]
    },
    {
     "name": "stderr",
     "output_type": "stream",
     "text": []
    },
    {
     "name": "stdout",
     "output_type": "stream",
     "text": [
      "Iter num: 4\n",
      "Iter num: 5\n"
     ]
    },
    {
     "name": "stderr",
     "output_type": "stream",
     "text": [
      "\n"
     ]
    },
    {
     "name": "stdout",
     "output_type": "stream",
     "text": [
      "Iter num: 4\n",
      "Iter num: 4\n",
      "Iter num: 4\n"
     ]
    },
    {
     "name": "stderr",
     "output_type": "stream",
     "text": [
      " 73%|███████▎  | 8/11 [00:00<00:00, 12.57it/s]\u001b[A"
     ]
    },
    {
     "name": "stdout",
     "output_type": "stream",
     "text": [
      "Iter num: 4\n"
     ]
    },
    {
     "name": "stderr",
     "output_type": "stream",
     "text": [
      " 97%|█████████▋| 32/33 [12:07<00:19, 19.42s/it]"
     ]
    },
    {
     "name": "stdout",
     "output_type": "stream",
     "text": [
      "Iter num: 4\n",
      "Iter num: 3\n"
     ]
    },
    {
     "name": "stderr",
     "output_type": "stream",
     "text": []
    },
    {
     "name": "stdout",
     "output_type": "stream",
     "text": [
      "Iter num: 4\n",
      "Iter num: 4\n",
      "Iter num: 4\n"
     ]
    },
    {
     "name": "stderr",
     "output_type": "stream",
     "text": [
      "\n"
     ]
    },
    {
     "name": "stdout",
     "output_type": "stream",
     "text": [
      "Iter num: 4\n"
     ]
    },
    {
     "name": "stderr",
     "output_type": "stream",
     "text": [
      " 36%|███▋      | 4/11 [00:00<00:00, 29.37it/s]\u001b[A"
     ]
    },
    {
     "name": "stdout",
     "output_type": "stream",
     "text": [
      "Iter num: 4\n"
     ]
    },
    {
     "name": "stderr",
     "output_type": "stream",
     "text": []
    },
    {
     "name": "stdout",
     "output_type": "stream",
     "text": [
      "Iter num: 5\n",
      "Iter num: 4\n",
      "Iter num: 4\n",
      "Iter num: 3\n"
     ]
    },
    {
     "name": "stderr",
     "output_type": "stream",
     "text": [
      "\n"
     ]
    },
    {
     "name": "stdout",
     "output_type": "stream",
     "text": [
      "Iter num: 5\n"
     ]
    },
    {
     "name": "stderr",
     "output_type": "stream",
     "text": [
      "100%|██████████| 33/33 [12:07<00:00, 22.05s/it]\u001b[A"
     ]
    },
    {
     "name": "stdout",
     "output_type": "stream",
     "text": [
      "Iter num: 4\n"
     ]
    },
    {
     "name": "stderr",
     "output_type": "stream",
     "text": [
      "\n"
     ]
    }
   ],
   "source": [
    "train_size = len(X_train)\n",
    "test_size = len(X_test)\n",
    "result = np.zeros((test_size, train_size))\n",
    "for train_idx in tqdm(range(train_size)):\n",
    "    for test_idx in tqdm(range(test_size), leave=False):\n",
    "        distance = auto_weighted_masking_map_try(\n",
    "            np.array(X_train[train_idx]), np.array(X_test[test_idx])\n",
    "        )\n",
    "        result[test_idx, train_idx] = distance\n",
    "\n",
    "y_pred = knn_classifier_from_distance_matrix(\n",
    "    distance_matrix=result,\n",
    "    k=1,\n",
    "    labels=y_train,\n",
    ")\n",
    "accuracy = accuracy_score(y_test, y_pred)"
   ]
  },
  {
   "cell_type": "code",
   "execution_count": 77,
   "metadata": {},
   "outputs": [
    {
     "data": {
      "text/plain": [
       "1.0"
      ]
     },
     "execution_count": 77,
     "metadata": {},
     "output_type": "execute_result"
    }
   ],
   "source": [
    "accuracy"
   ]
  },
  {
   "cell_type": "code",
   "execution_count": 3,
   "metadata": {},
   "outputs": [],
   "source": [
    "from MaskingMap.MaskingMapLinear import masking_map_linear_partial"
   ]
  },
  {
   "cell_type": "code",
   "execution_count": 4,
   "metadata": {},
   "outputs": [
    {
     "data": {
      "text/plain": [
       "((38, 13), (39, 13))"
      ]
     },
     "execution_count": 4,
     "metadata": {},
     "output_type": "execute_result"
    }
   ],
   "source": [
    "X_train[0].shape, X_train[100].shape"
   ]
  },
  {
   "cell_type": "code",
   "execution_count": 9,
   "metadata": {},
   "outputs": [],
   "source": [
    "cost = masking_map_linear_partial(X_train[0], X_train[1])"
   ]
  },
  {
   "cell_type": "code",
   "execution_count": 10,
   "metadata": {},
   "outputs": [
    {
     "data": {
      "text/plain": [
       "100.74487238161979"
      ]
     },
     "execution_count": 10,
     "metadata": {},
     "output_type": "execute_result"
    }
   ],
   "source": [
    "cost"
   ]
  },
  {
   "cell_type": "code",
   "execution_count": 14,
   "metadata": {},
   "outputs": [
    {
     "data": {
      "text/plain": [
       "('1', '2')"
      ]
     },
     "execution_count": 14,
     "metadata": {},
     "output_type": "execute_result"
    }
   ],
   "source": [
    "X_train, y_train, X_test, y_test = getData(\"BME\", \"../Data/OneDimension/\")\n",
    "y_train[0], y_test[90]"
   ]
  },
  {
   "cell_type": "code",
   "execution_count": 16,
   "metadata": {},
   "outputs": [
    {
     "data": {
      "text/plain": [
       "100.53872944531581"
      ]
     },
     "execution_count": 16,
     "metadata": {},
     "output_type": "execute_result"
    }
   ],
   "source": [
    "cost = masking_map_linear_partial(X_train[0], X_test[0])\n",
    "cost"
   ]
  },
  {
   "cell_type": "code",
   "execution_count": 1,
   "metadata": {},
   "outputs": [],
   "source": [
    "from MaskingMap.MaskingMapNonLinear import masking_map_non_linear_subsequence"
   ]
  },
  {
   "cell_type": "code",
   "execution_count": 3,
   "metadata": {},
   "outputs": [],
   "source": [
    "from GetData.GetDataMultiDimensions import getDataMultiVariate\n",
    "from GetData.GetDataOneDimension import getData\n",
    "X_train, y_train, X_test, y_test = getData(\"BME\", \"../Data/OneDimension/\")\n",
    "X_train_arabic, X_test_arabic, y_train_arabic, y_test_arabic = getDataMultiVariate(\"ArabicCut\", \"../Data/MultiDimensions/\")"
   ]
  },
  {
   "cell_type": "code",
   "execution_count": 5,
   "metadata": {},
   "outputs": [
    {
     "data": {
      "text/plain": [
       "('1', '1', '2')"
      ]
     },
     "execution_count": 5,
     "metadata": {},
     "output_type": "execute_result"
    }
   ],
   "source": [
    "y_train[0], y_train[1], y_test[60]"
   ]
  },
  {
   "cell_type": "code",
   "execution_count": 14,
   "metadata": {},
   "outputs": [
    {
     "data": {
      "text/plain": [
       "(0, 0, 1)"
      ]
     },
     "execution_count": 14,
     "metadata": {},
     "output_type": "execute_result"
    }
   ],
   "source": [
    "y_train_arabic[0], y_train_arabic[1], y_train_arabic[40]"
   ]
  },
  {
   "cell_type": "code",
   "execution_count": 12,
   "metadata": {},
   "outputs": [
    {
     "data": {
      "text/plain": [
       "(0.16980363692690328, 61478662620651.08)"
      ]
     },
     "execution_count": 12,
     "metadata": {},
     "output_type": "execute_result"
    }
   ],
   "source": [
    "cost = masking_map_non_linear_subsequence(X_train[0], X_train[1])\n",
    "cost1 = masking_map_non_linear_subsequence(X_train[0], X_test[60])\n",
    "cost, cost1"
   ]
  },
  {
   "cell_type": "code",
   "execution_count": 23,
   "metadata": {},
   "outputs": [
    {
     "data": {
      "text/plain": [
       "(38, 31)"
      ]
     },
     "execution_count": 23,
     "metadata": {},
     "output_type": "execute_result"
    }
   ],
   "source": [
    "len(X_train_arabic[0]), len(X_train_arabic[50])"
   ]
  },
  {
   "cell_type": "code",
   "execution_count": 24,
   "metadata": {},
   "outputs": [
    {
     "data": {
      "text/plain": [
       "(716730197590.8354, 0.8559495286988537)"
      ]
     },
     "execution_count": 24,
     "metadata": {},
     "output_type": "execute_result"
    }
   ],
   "source": [
    "cost = masking_map_non_linear_subsequence(X_train_arabic[0], X_train_arabic[50], sub_ratio=0.81)\n",
    "cost1 = masking_map_non_linear_subsequence(X_train_arabic[0], X_train_arabic[50], sub_ratio=0.6)\n",
    "cost, cost1"
   ]
  },
  {
   "cell_type": "code",
   "execution_count": null,
   "metadata": {},
   "outputs": [],
   "source": []
  }
 ],
 "metadata": {
  "kernelspec": {
   "display_name": "venv",
   "language": "python",
   "name": "python3"
  },
  "language_info": {
   "codemirror_mode": {
    "name": "ipython",
    "version": 3
   },
   "file_extension": ".py",
   "mimetype": "text/x-python",
   "name": "python",
   "nbconvert_exporter": "python",
   "pygments_lexer": "ipython3",
   "version": "3.11.5"
  }
 },
 "nbformat": 4,
 "nbformat_minor": 2
}
