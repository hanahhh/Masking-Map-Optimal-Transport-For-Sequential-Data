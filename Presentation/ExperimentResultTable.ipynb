{
 "cells": [
  {
   "cell_type": "markdown",
   "metadata": {},
   "source": [
    "# 1. Setup"
   ]
  },
  {
   "cell_type": "code",
   "execution_count": 50,
   "metadata": {},
   "outputs": [],
   "source": [
    "multivariate = [\n",
    "    \"BasicMotions\",\n",
    "    \"ERing\",\n",
    "    \"EyesOpenShut\",\n",
    "    \"FingerMovements\",\n",
    "    \"Epilepsy\",\n",
    "    # \"Libras\",\n",
    "    \"NATOPS\",\n",
    "    \"RacketSports\",\n",
    "    \"MSR Sports Action 3D\",\n",
    "    \"MSR Daily Activity 3D\",\n",
    "    # \"Weizmann\",\n",
    "    \"SpokenArabicDigit\",\n",
    "    # \"ArabicCut\"\n",
    "]\n",
    "univariate = [\n",
    "    \"BME\",\n",
    "    \"BeetleFly\",\n",
    "    \"BirdChicken\",\n",
    "    \"Chinatown\",\n",
    "    \"Coffee\",\n",
    "    \"DistalPhalanxOutlineCorrect\",\n",
    "    \"DistalPhalanxTW\",\n",
    "    \"ECG200\",\n",
    "    \"FaceFour\",\n",
    "    \"Fungi\",\n",
    "    \"GunPoint\",\n",
    "    \"Herring\",\n",
    "    \"ItalyPowerDemand\",\n",
    "    \"MoteStrain\",\n",
    "    \"OliveOil\",\n",
    "    \"Plane\",\n",
    "    \"SmoothSubspace\",\n",
    "    \"SonyAIBORobotSurface1\",\n",
    "    \"SonyAIBORobotSurface2\",\n",
    "    \"ToeSegmentation2\",\n",
    "    \"Colposcopy\",\n",
    "    \"DistalPhalanxOutlineAgeGroup\",\n",
    "    \"PowerCons\",\n",
    "    \"UMD\",\n",
    "    \"Wine\",\n",
    "    \"SyntheticControl\",\n",
    "    \"ProximalPhalanxTW\",\n",
    "    \"TwoLeadECG\",\n",
    "]\n",
    "all = [\n",
    "    \"BasicMotions\",\n",
    "    \"ERing\",\n",
    "    \"EyesOpenShut\",\n",
    "    \"FingerMovements\",\n",
    "    \"Epilepsy\",\n",
    "    \"NATOPS\",\n",
    "    \"RacketSports\",\n",
    "    \"BME\",\n",
    "    \"BeetleFly\",\n",
    "    \"BirdChicken\",\n",
    "    \"Chinatown\",\n",
    "    \"Coffee\",\n",
    "    \"DistalPhalanxOutlineCorrect\",\n",
    "    \"DistalPhalanxTW\",\n",
    "    \"ECG200\",\n",
    "    \"FaceFour\",\n",
    "    \"Fungi\",\n",
    "    \"GunPoint\",\n",
    "    \"Herring\",\n",
    "    \"ItalyPowerDemand\",\n",
    "    \"MoteStrain\",\n",
    "    \"OliveOil\",\n",
    "    \"Plane\",\n",
    "    \"SmoothSubspace\",\n",
    "    \"SonyAIBORobotSurface1\",\n",
    "    \"SonyAIBORobotSurface2\",\n",
    "    \"ToeSegmentation2\",\n",
    "    \"Colposcopy\",\n",
    "    \"DistalPhalanxOutlineAgeGroup\",\n",
    "    \"PowerCons\",\n",
    "    \"UMD\",\n",
    "    \"Wine\",\n",
    "    \"SyntheticControl\",\n",
    "    \"ProximalPhalanxTW\",\n",
    "    \"TwoLeadECG\",\n",
    "    \"MSR Sports Action 3D\",\n",
    "    \"MSR Daily Activity 3D\",\n",
    "    \"SpokenArabicDigit\",\n",
    "]\n",
    "alter_all = [\n",
    "    \"BM\",\n",
    "    \"ERing\",\n",
    "    \"EOS\",\n",
    "    \"FM\",\n",
    "    \"Epilepsy\",\n",
    "    \"NATOPS\",\n",
    "    \"RS\",\n",
    "    \"BME\",\n",
    "    \"BeetleFly\",\n",
    "    \"BChicken\",\n",
    "    \"Chinatown\",\n",
    "    \"Coffee\",\n",
    "    \"DPOC\",\n",
    "    \"DPTW\",\n",
    "    \"ECG200\",\n",
    "    \"FaceFour\",\n",
    "    \"Fungi\",\n",
    "    \"GunPoint\",\n",
    "    \"Herring\",\n",
    "    \"ItalyPower\",\n",
    "    \"MoteStrain\",\n",
    "    \"OliveOil\",\n",
    "    \"Plane\",\n",
    "    \"SS\",\n",
    "    \"SAIBORS1\",\n",
    "    \"SAIBORS2\",\n",
    "    \"ToeSegment\",\n",
    "    \"Colposcopy\",\n",
    "    \"DPOA\",\n",
    "    \"PowerCons\",\n",
    "    \"UMD\",\n",
    "    \"Wine\",\n",
    "    \"SControl\",\n",
    "    \"PPTW\",\n",
    "    \"2LeadECG\",\n",
    "    \"MSRA\",\n",
    "    \"MSRD\",\n",
    "    \"Arabic\",\n",
    "]"
   ]
  },
  {
   "cell_type": "code",
   "execution_count": 51,
   "metadata": {},
   "outputs": [],
   "source": [
    "import pandas as pd\n",
    "def create_table_latex(\n",
    "    is_long=True,\n",
    "    type=\"all\",\n",
    "    data_column_length=1.8,\n",
    "    table_link=\"../Results/finals/result_table_latex.txt\", \n",
    "    result_link=\"../Results/finals/result2.csv\",\n",
    "    methods=[\"DTW\", \"OPW\", \"TAOT\", \"TCOT\", \"OTW\", \"WTK\", \"AWSWD\", \"MLOT\", \"MLSOT\", \"MNOT\", \"MNSOT\"]\n",
    "  ):\n",
    "  df = pd.read_csv(result_link)\n",
    "  with open(table_link, \"w\") as file:\n",
    "    if is_long:\n",
    "      header = \"{|p{\"+f\"{data_column_length}\"+\"cm}|\"\n",
    "    else:\n",
    "      header = \"{|l|\"\n",
    "    columns = \"\"\n",
    "    for method in methods:\n",
    "      columns += f\"&{method} \"\n",
    "      header += \"c|\"\n",
    "    header += \"}\\hline\" + \"\\n\"\n",
    "    columns += \"\\\\\\\\\\\\hline\"+ \"\\n\"\n",
    "    file.write(header)\n",
    "    file.write(columns)\n",
    "  def round_3(number):\n",
    "    return \"{:.3f}\".format(number)\n",
    "  for index, row in df.iterrows():\n",
    "    max = -1000\n",
    "    second_max = -1000\n",
    "    if type==\"all\":\n",
    "      if row['Unnamed: 0'] in all:\n",
    "        index = all.index(row['Unnamed: 0'])\n",
    "        dataset = alter_all[index-1]\n",
    "      else:\n",
    "        continue\n",
    "    elif type == \"univariate\":\n",
    "      if row['Unnamed: 0'] in univariate:\n",
    "        dataset = row['Unnamed: 0']\n",
    "      else:\n",
    "        continue\n",
    "    elif type == \"multivariate\":\n",
    "      if row['Unnamed: 0'] in multivariate:\n",
    "        dataset = row['Unnamed: 0']\n",
    "      else:\n",
    "        continue\n",
    "\n",
    "    string = \"\"\n",
    "    # if dataset == \"DistalPhalanxOutlineCorrect\":\n",
    "    #   string += \"DistalPhalanx OutlineCorrect \"\n",
    "    # elif dataset == \"DistalPhalanxTW\":\n",
    "    #   string += \"DistalPhalanx TW \"\n",
    "    # elif dataset == \"ItalyPowerDemand\":\n",
    "    #   string += \"ItalyPower Demand \"\n",
    "    # elif dataset == \"SonyAIBORobotSurface1\":\n",
    "    #   string += \"SonyAIBORobot Surface1 \"\n",
    "    # elif dataset == \"SonyAIBORobotSurface2\":\n",
    "    #   string += \"SonyAIBORobot Surface2 \"\n",
    "    # elif dataset == \"DistalPhalanxOutlineAgeGroup\":\n",
    "    #   string += \"DistalPhalanx OutlineAgeGroup \"\n",
    "    # elif dataset == \"SpokenArabicDigit\":\n",
    "    #   string += \"SpokenArabic \"\n",
    "    # else:\n",
    "    string += f\"{dataset} \"\n",
    "    for method in methods:\n",
    "      if row[method] > max:\n",
    "        max = row[method]\n",
    "      elif row[method] < max and row[method] > second_max:\n",
    "        second_max = row[method]\n",
    "    \n",
    "    for method in methods:\n",
    "      if row[method] == max:\n",
    "        string += '& \\\\'\n",
    "        string += \"textbf{\" + f\"{round_3(row[method])}\" +\"}\"\n",
    "      elif row[method] == second_max:\n",
    "        string += '& \\\\'\n",
    "        string += \"underline{\\\\textit{\" + f\"{round_3(row[method])}\" +\"}}\"\n",
    "        # string += \"underline{\" + f\"{round_3(row[method])}\" +\"}\"\n",
    "        # string += \"textcolor{blue}{\" + f\"{round_3(row[method])}\" +\"}\"\n",
    "      else:\n",
    "        string += \"& \" + f\"{round_3(row[method])}\"\n",
    "    string += \"\\\\\\\\\\\\hline\"\n",
    "    with open(table_link, \"a\") as file:\n",
    "      file.write(f\"{string}\\n\")"
   ]
  },
  {
   "cell_type": "markdown",
   "metadata": {},
   "source": [
    "# 2. Result"
   ]
  },
  {
   "cell_type": "markdown",
   "metadata": {},
   "source": [
    "## 2.1. MOT"
   ]
  },
  {
   "cell_type": "markdown",
   "metadata": {},
   "source": [
    "### 2.1.1. Linear Mask"
   ]
  },
  {
   "cell_type": "code",
   "execution_count": 20,
   "metadata": {},
   "outputs": [],
   "source": [
    "create_table_latex(\n",
    "    is_long=False,\n",
    "    type=\"univariate\",\n",
    "    table_link=\"../Results/Table/MLOT_uni.txt\",\n",
    "    methods=[\"DTW\", \"OPW\", \"TCOT\", \"WTK\", \"AWSWD\", \"MLOT\"]\n",
    ")"
   ]
  },
  {
   "cell_type": "code",
   "execution_count": 21,
   "metadata": {},
   "outputs": [],
   "source": [
    "create_table_latex(\n",
    "    is_long=False,\n",
    "    type=\"multivariate\",\n",
    "    table_link=\"../Results/Table/MLOT_multi.txt\",\n",
    "    methods=[\"DTW\", \"OPW\", \"TCOT\", \"WTK\", \"AWSWD\", \"MLOT\"]\n",
    ")"
   ]
  },
  {
   "cell_type": "markdown",
   "metadata": {},
   "source": [
    "### 2.1.2. Nonlinear Mask"
   ]
  },
  {
   "cell_type": "code",
   "execution_count": 22,
   "metadata": {},
   "outputs": [],
   "source": [
    "create_table_latex(\n",
    "    type=\"univariate\",\n",
    "    is_long=False,\n",
    "    table_link=\"../Results/Table/MNOT_uni.txt\",\n",
    "    methods=[\"DTW\", \"OPW\", \"TCOT\", \"WTK\", \"AWSWD\", \"MNOT\"]\n",
    ")"
   ]
  },
  {
   "cell_type": "code",
   "execution_count": 23,
   "metadata": {},
   "outputs": [],
   "source": [
    "create_table_latex(\n",
    "    type=\"multivariate\",\n",
    "    is_long=False,\n",
    "    table_link=\"../Results/Table/MNOT_multi.txt\",\n",
    "    methods=[\"DTW\", \"OPW\", \"TCOT\", \"WTK\", \"AWSWD\", \"MNOT\"]\n",
    ")"
   ]
  },
  {
   "cell_type": "markdown",
   "metadata": {},
   "source": [
    "## 2.2. MSOT"
   ]
  },
  {
   "cell_type": "markdown",
   "metadata": {},
   "source": [
    "### 2.2.1. Linear Mask"
   ]
  },
  {
   "cell_type": "code",
   "execution_count": 24,
   "metadata": {},
   "outputs": [],
   "source": [
    "create_table_latex(\n",
    "    is_long=False,\n",
    "    type=\"univariate\",\n",
    "    table_link=\"../Results/Table/MLSOT_uni.txt\",\n",
    "    methods=[\"DTW\", \"OPW\", \"TCOT\", \"WTK\", \"AWSWD\", \"MLSOT\"]\n",
    ")"
   ]
  },
  {
   "cell_type": "code",
   "execution_count": 25,
   "metadata": {},
   "outputs": [],
   "source": [
    "create_table_latex(\n",
    "    is_long=False,\n",
    "    type=\"multivariate\",\n",
    "    table_link=\"../Results/Table/MLSOT_multi.txt\",\n",
    "    methods=[\"DTW\", \"OPW\", \"TCOT\", \"WTK\", \"AWSWD\", \"MLSOT\"]\n",
    ")"
   ]
  },
  {
   "cell_type": "markdown",
   "metadata": {},
   "source": [
    "### 2.2.2. Nonlinear Mask"
   ]
  },
  {
   "cell_type": "code",
   "execution_count": 26,
   "metadata": {},
   "outputs": [],
   "source": [
    "create_table_latex(\n",
    "    is_long=False,\n",
    "    type=\"univariate\",\n",
    "    table_link=\"../Results/Table/MNSOT_uni.txt\",\n",
    "    methods=[\"DTW\", \"OPW\", \"TCOT\", \"WTK\", \"AWSWD\", \"MNSOT\"]\n",
    ")"
   ]
  },
  {
   "cell_type": "code",
   "execution_count": 27,
   "metadata": {},
   "outputs": [],
   "source": [
    "create_table_latex(\n",
    "    is_long=False,\n",
    "    type=\"multivariate\",\n",
    "    table_link=\"../Results/Table/MNSOT_multi.txt\",\n",
    "    methods=[\"DTW\", \"OPW\", \"TCOT\", \"WTK\", \"AWSWD\", \"MNSOT\"]\n",
    ")"
   ]
  },
  {
   "cell_type": "markdown",
   "metadata": {},
   "source": [
    "# All methods"
   ]
  },
  {
   "cell_type": "code",
   "execution_count": 52,
   "metadata": {},
   "outputs": [],
   "source": [
    "create_table_latex(\n",
    "    is_long=False,\n",
    "    type=\"all\",\n",
    "    table_link=\"../Results/Table/MOT_MSOT.txt\",\n",
    "    methods=[\"DTW\", \"OPW\", \"TCOT\", \"WTK\", \"AWSWD\", \"MLOT\", \"MLSOT\", \"MNOT\", \"MNSOT\"]\n",
    ")"
   ]
  },
  {
   "cell_type": "markdown",
   "metadata": {},
   "source": [
    "# Data table"
   ]
  },
  {
   "cell_type": "code",
   "execution_count": 9,
   "metadata": {},
   "outputs": [],
   "source": [
    "multivariate = [\n",
    "    \"BasicMotions\",\n",
    "    \"ERing\",\n",
    "    \"EyesOpenShut\",\n",
    "    \"FingerMovements\",\n",
    "    \"Epilepsy\",\n",
    "    \"NATOPS\",\n",
    "    \"RacketSports\",\n",
    "]\n",
    "multivariate_altername = [\n",
    "    \"BM\",\n",
    "    \"ERing\",\n",
    "    \"EOS\",\n",
    "    \"FM\",\n",
    "    \"Epilepsy\",\n",
    "    \"NATOPS\",\n",
    "    \"RS\",\n",
    "]\n",
    "univariate = [\n",
    "    \"BME\",\n",
    "    \"BeetleFly\",\n",
    "    \"BirdChicken\",\n",
    "    \"Chinatown\",\n",
    "    \"Coffee\",\n",
    "    \"DistalPhalanxOutlineCorrect\",\n",
    "    \"DistalPhalanxTW\",\n",
    "    \"ECG200\",\n",
    "    \"FaceFour\",\n",
    "    \"Fungi\",\n",
    "    \"GunPoint\",\n",
    "    \"Herring\",\n",
    "    \"ItalyPowerDemand\",\n",
    "    \"MoteStrain\",\n",
    "    \"OliveOil\",\n",
    "    \"Plane\",\n",
    "    \"SmoothSubspace\",\n",
    "    \"SonyAIBORobotSurface1\",\n",
    "    \"SonyAIBORobotSurface2\",\n",
    "    \"ToeSegmentation2\",\n",
    "    \"Colposcopy\",\n",
    "    \"DistalPhalanxOutlineAgeGroup\",\n",
    "    \"PowerCons\",\n",
    "    \"UMD\",\n",
    "    \"Wine\",\n",
    "    \"SyntheticControl\",\n",
    "    \"ProximalPhalanxTW\",\n",
    "    \"TwoLeadECG\",\n",
    "]\n",
    "univariate_altername = [\n",
    "    \"BME\",\n",
    "    \"BeetleFly\",\n",
    "    \"BChicken\",\n",
    "    \"Chinatown\",\n",
    "    \"Coffee\",\n",
    "    \"DPOC\",\n",
    "    \"DPTW\",\n",
    "    \"ECG200\",\n",
    "    \"FaceFour\",\n",
    "    \"Fungi\",\n",
    "    \"GunPoint\",\n",
    "    \"Herring\",\n",
    "    \"ItalyPower\",\n",
    "    \"MoteStrain\",\n",
    "    \"OliveOil\",\n",
    "    \"Plane\",\n",
    "    \"SS\",\n",
    "    \"SAIBORS1\",\n",
    "    \"SAIBORS2\",\n",
    "    \"ToeSegment\",\n",
    "    \"Colposcopy\",\n",
    "    \"DPOA\",\n",
    "    \"PowerCons\",\n",
    "    \"UMD\",\n",
    "    \"Wine\",\n",
    "    \"SControl\",\n",
    "    \"PPTW\",\n",
    "    \"2LeadECG\",\n",
    "]"
   ]
  },
  {
   "cell_type": "code",
   "execution_count": 17,
   "metadata": {},
   "outputs": [
    {
     "name": "stdout",
     "output_type": "stream",
     "text": [
      "28\n"
     ]
    }
   ],
   "source": [
    "from GetData.GetDataOneDimension import getData\n",
    "with open(\"../Results/Table/UniData.txt\", \"w\") as file:\n",
    "    header = \"{|l|c|c|c|c|}\" + \"\\hline\" + \"\\n\"\n",
    "    header_column = \"\\multicolumn{1}{|c|}{Dataset} & Alter Name & Shape & Train & Test\" + \"\\\\\\\\\\\\hline\"+ \"\\n\"\n",
    "    file.write(header)\n",
    "    file.write(header_column)\n",
    "count = 0\n",
    "for index, data in enumerate(univariate):\n",
    "    count += 1\n",
    "    X_train, y_train, X_test, y_test = getData(data, \"../Data/OneDimension/\")\n",
    "    string = f\"{data} &{univariate_altername[index]} &{X_train[0].shape} &{len(X_train)} &{len(X_test)}\" + \"\\\\\\\\\\\\hline\"+ \"\\n\"\n",
    "    with open(\"../Results/Table/UniData.txt\", \"a\") as file:\n",
    "        file.write(string)\n",
    "print(count)"
   ]
  },
  {
   "cell_type": "code",
   "execution_count": 18,
   "metadata": {},
   "outputs": [
    {
     "name": "stdout",
     "output_type": "stream",
     "text": [
      "7\n"
     ]
    }
   ],
   "source": [
    "from GetData.GetDataOneDimension import getData\n",
    "with open(\"../Results/Table/MulData.txt\", \"w\") as file:\n",
    "    header = \"{|l|c|c|c|c|}\" + \"\\hline\" + \"\\n\"\n",
    "    header_column = \"\\multicolumn{1}{|c|}{Dataset} & Alter Name & Shape & Train & Test\" + \"\\\\\\\\\\\\hline\"+ \"\\n\"\n",
    "    file.write(header)\n",
    "    file.write(header_column)\n",
    "count = 0\n",
    "for index, data in enumerate(multivariate):\n",
    "    count += 1\n",
    "    X_train, y_train, X_test, y_test = getData(data, \"../Data/OneDimension/\")\n",
    "    string = f\"{data} &{multivariate_altername[index]} &{X_train[0].shape} &{len(X_train)} &{len(X_test)}\" + \"\\\\\\\\\\\\hline\"+ \"\\n\"\n",
    "    with open(\"../Results/Table/MulData.txt\", \"a\") as file:\n",
    "        file.write(string)\n",
    "print(count)"
   ]
  },
  {
   "cell_type": "code",
   "execution_count": null,
   "metadata": {},
   "outputs": [],
   "source": []
  }
 ],
 "metadata": {
  "kernelspec": {
   "display_name": "venv",
   "language": "python",
   "name": "python3"
  },
  "language_info": {
   "codemirror_mode": {
    "name": "ipython",
    "version": 3
   },
   "file_extension": ".py",
   "mimetype": "text/x-python",
   "name": "python",
   "nbconvert_exporter": "python",
   "pygments_lexer": "ipython3",
   "version": "3.11.5"
  }
 },
 "nbformat": 4,
 "nbformat_minor": 2
}
