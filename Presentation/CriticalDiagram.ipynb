{
 "cells": [
  {
   "cell_type": "markdown",
   "metadata": {},
   "source": [
    "# 1. Setup"
   ]
  },
  {
   "cell_type": "code",
   "execution_count": 1,
   "metadata": {},
   "outputs": [],
   "source": [
    "methods = [\n",
    "    {\"label\": \"DTW\", \"value\": \"DTW\"}, \n",
    "    {\"label\": \"OPW\", \"value\": \"OPW\"}, \n",
    "    {\"label\": \"TAOT\", \"value\": \"TAOT\"}, \n",
    "    {\"label\": \"TCOT\", \"value\": \"TCOT\"}, \n",
    "    {\"label\": \"OTW\", \"value\": \"OTW\"}, \n",
    "    {\"label\": \"AWSWD\", \"value\": \"AWSWD\"}, \n",
    "    {\"label\": \"WTK\", \"value\": \"WTK\"}, \n",
    "    {\"label\": \"MLOT\", \"value\": \"MLOT\"}, \n",
    "    {\"label\": \"MNOT\", \"value\": \"MNOT\"}, \n",
    "    {\"label\": \"MLSOT\", \"value\": \"MLSOT\"}, \n",
    "    {\"label\": \"MNSOT\", \"value\": \"MNSOT\"}\n",
    "]"
   ]
  },
  {
   "cell_type": "code",
   "execution_count": 2,
   "metadata": {},
   "outputs": [],
   "source": [
    "multivariate = [\n",
    "    \"BasicMotions\",\n",
    "    \"ERing\",\n",
    "    \"EyesOpenShut\",\n",
    "    \"FingerMovements\",\n",
    "    \"Epilepsy\",\n",
    "    \"Libras\",\n",
    "    \"NATOPS\",\n",
    "    \"RacketSports\",\n",
    "    \"MSR Sports Action 3D\",\n",
    "    \"MSR Daily Activity 3D\",\n",
    "    # \"Weizmann\",\n",
    "    \"SpokenArabicDigit\",\n",
    "    # \"ArabicCut\"\n",
    "]\n",
    "univariate = [\n",
    "    \"BME\",\n",
    "    \"BeetleFly\",\n",
    "    \"BirdChicken\",\n",
    "    \"Chinatown\",\n",
    "    \"Coffee\",\n",
    "    \"DistalPhalanxOutlineCorrect\",\n",
    "    \"DistalPhalanxTW\",\n",
    "    \"ECG200\",\n",
    "    \"FaceFour\",\n",
    "    \"Fungi\",\n",
    "    \"GunPoint\",\n",
    "    \"Herring\",\n",
    "    \"ItalyPowerDemand\",\n",
    "    \"MoteStrain\",\n",
    "    \"OliveOil\",\n",
    "    \"Plane\",\n",
    "    \"SmoothSubspace\",\n",
    "    \"SonyAIBORobotSurface1\",\n",
    "    \"SonyAIBORobotSurface2\",\n",
    "    \"ToeSegmentation2\",\n",
    "    \"Colposcopy\",\n",
    "    \"DistalPhalanxOutlineAgeGroup\",\n",
    "    \"PowerCons\",\n",
    "    \"UMD\",\n",
    "    \"Wine\",\n",
    "    \"SyntheticControl\",\n",
    "    \"ProximalPhalanxTW\",\n",
    "    \"TwoLeadECG\",\n",
    "]"
   ]
  },
  {
   "cell_type": "code",
   "execution_count": 5,
   "metadata": {},
   "outputs": [],
   "source": [
    "import json\n",
    "from critdd import Diagram\n",
    "import pandas as pd\n",
    "def export_crid_diagram(\n",
    "    methods = [\"DTW\", \"OPW\", \"TAOT\", \"TCOT\", \"OTW\", \"WTK\", \"AWSWD\", \"MLOT\", \"MLSOT\", \"MNOT\", \"MNSOT\"], \n",
    "    input_path = \"../Results/finals/result2.csv\", \n",
    "    result_path = \"../Results/Cridd/MLOT.tex\", \n",
    "    title = \"MLOT\", \n",
    "    type=\"all\"\n",
    "):\n",
    "    df_original = pd.read_csv(input_path)\n",
    "    df = df_original.dropna().reset_index(drop=True)\n",
    "    print(df)\n",
    "    # with open(\"../Config/ComparisionMethodsFilter.json\", \"r\") as file:\n",
    "    #     methods = json.load(file)\n",
    "    with open(\"../Data/ListMultiDimensional.txt\", 'r', encoding='utf-8') as file:\n",
    "        multivariate_datasets = file.readlines()\n",
    "    multivariate_datasets = [dataset.strip() for dataset in multivariate_datasets]\n",
    "    with open(\"../Data/ListOneDimensional.txt\", 'r', encoding='utf-8') as file:\n",
    "        univariate_datasets = file.readlines()\n",
    "    univariate_datasets = [dataset.strip() for dataset in univariate_datasets]\n",
    "    columns = {\"classifier_name\": [], \"dataset_name\": [], \"accuracy\": []}\n",
    "    cd_diagram_df = pd.DataFrame(columns)\n",
    "    for method in methods:\n",
    "        i=0\n",
    "        for index, row in enumerate(df[method]):\n",
    "            if type == \"all\":\n",
    "                cd_diagram_df.loc[len(cd_diagram_df)] = {\"classifier_name\": method, \"dataset_name\": df['Unnamed: 0'][i], \"accuracy\": row}\n",
    "                i += 1\n",
    "            elif type == \"multivariate\":\n",
    "                if df['Unnamed: 0'][index] in multivariate_datasets:\n",
    "                    cd_diagram_df.loc[len(cd_diagram_df)] = {\"classifier_name\": method, \"dataset_name\": df['Unnamed: 0'][index], \"accuracy\": row}\n",
    "                    i += 1\n",
    "            elif type == \"univariate\":\n",
    "                if df['Unnamed: 0'][index] in univariate_datasets:\n",
    "                    cd_diagram_df.loc[len(cd_diagram_df)] = {\"classifier_name\": method, \"dataset_name\": df['Unnamed: 0'][index], \"accuracy\": row}\n",
    "                    i += 1 \n",
    "    cd_diagram_df = cd_diagram_df.pivot(\n",
    "        index = \"dataset_name\",\n",
    "        columns = \"classifier_name\",\n",
    "        values = \"accuracy\"\n",
    "    )\n",
    "    diagram = Diagram(\n",
    "        cd_diagram_df.to_numpy(),\n",
    "        treatment_names = cd_diagram_df.columns,\n",
    "        maximize_outcome = True\n",
    "    )\n",
    "    diagram.average_ranks \n",
    "    diagram.get_groups(adjustment=\"holm\")\n",
    "    diagram.to_file(\n",
    "        result_path,\n",
    "        alpha = .05,\n",
    "        adjustment = \"holm\",\n",
    "        reverse_x = True,\n",
    "        axis_options = {\"title\": title},\n",
    "    )"
   ]
  },
  {
   "cell_type": "markdown",
   "metadata": {},
   "source": [
    "# 2. Result"
   ]
  },
  {
   "cell_type": "markdown",
   "metadata": {},
   "source": [
    "## 2.1. MOT"
   ]
  },
  {
   "cell_type": "markdown",
   "metadata": {},
   "source": [
    "### 2.1.1. Linear Mask"
   ]
  },
  {
   "cell_type": "code",
   "execution_count": 8,
   "metadata": {},
   "outputs": [
    {
     "name": "stderr",
     "output_type": "stream",
     "text": [
      "c:\\Users\\hoang\\OneDrive\\Documents\\lab\\Masking-Map-Optimal-Transport-For-Sequential-Data\\venv\\Lib\\site-packages\\scipy\\stats\\_morestats.py:4088: UserWarning: Exact p-value calculation does not work if there are zeros. Switching to normal approximation.\n",
      "  warnings.warn(\"Exact p-value calculation does not work if there are \"\n"
     ]
    }
   ],
   "source": [
    "export_crid_diagram(\n",
    "    methods=[\"DTW\", \"OPW\", \"TCOT\", \"WTK\", \"AWSWD\", \"MLOT\"],\n",
    "    input_path = \"../Results/finals/result2.csv\", \n",
    "    result_path = \"../Results/Cridd/MLOT.tex\", \n",
    "    title = \"MOT\", \n",
    "    type=\"all\"\n",
    ")"
   ]
  },
  {
   "cell_type": "markdown",
   "metadata": {},
   "source": [
    "### 2.1.2. Nonlinear Mask"
   ]
  },
  {
   "cell_type": "code",
   "execution_count": 14,
   "metadata": {},
   "outputs": [
    {
     "name": "stderr",
     "output_type": "stream",
     "text": [
      "c:\\Users\\hoang\\OneDrive\\Documents\\lab\\Masking-Map-Optimal-Transport-For-Sequential-Data\\venv\\Lib\\site-packages\\scipy\\stats\\_morestats.py:4088: UserWarning: Exact p-value calculation does not work if there are zeros. Switching to normal approximation.\n",
      "  warnings.warn(\"Exact p-value calculation does not work if there are \"\n"
     ]
    }
   ],
   "source": [
    "export_crid_diagram(\n",
    "    methods=[\"DTW\", \"OPW\", \"TCOT\", \"WTK\", \"AWSWD\", \"MNOT\"],\n",
    "    input_path = \"../Results/finals/result2.csv\", \n",
    "    result_path = \"../Results/Cridd/MNOT.tex\", \n",
    "    title = \"MOT\", \n",
    "    type=\"all\"\n",
    ")"
   ]
  },
  {
   "cell_type": "markdown",
   "metadata": {},
   "source": [
    "## 2.2. MSOT"
   ]
  },
  {
   "cell_type": "markdown",
   "metadata": {},
   "source": [
    "### 2.2.1. Linear Mask"
   ]
  },
  {
   "cell_type": "code",
   "execution_count": 4,
   "metadata": {},
   "outputs": [
    {
     "name": "stderr",
     "output_type": "stream",
     "text": [
      "c:\\Users\\hoang\\OneDrive\\Documents\\lab\\Masking-Map-Optimal-Transport-For-Sequential-Data\\venv\\Lib\\site-packages\\scipy\\stats\\_morestats.py:4088: UserWarning: Exact p-value calculation does not work if there are zeros. Switching to normal approximation.\n",
      "  warnings.warn(\"Exact p-value calculation does not work if there are \"\n"
     ]
    }
   ],
   "source": [
    "export_crid_diagram(\n",
    "    methods=[\"DTW\", \"OPW\", \"TCOT\", \"WTK\", \"AWSWD\", \"MLSOT\"],\n",
    "    input_path = \"../Results/finals/result2.csv\", \n",
    "    result_path = \"../Results/Cridd/MLSOT.tex\", \n",
    "    type=\"all\"\n",
    ")"
   ]
  },
  {
   "cell_type": "markdown",
   "metadata": {},
   "source": [
    "### 2.2.2. Nonlinear Mask"
   ]
  },
  {
   "cell_type": "code",
   "execution_count": 5,
   "metadata": {},
   "outputs": [
    {
     "name": "stderr",
     "output_type": "stream",
     "text": [
      "c:\\Users\\hoang\\OneDrive\\Documents\\lab\\Masking-Map-Optimal-Transport-For-Sequential-Data\\venv\\Lib\\site-packages\\scipy\\stats\\_morestats.py:4088: UserWarning: Exact p-value calculation does not work if there are zeros. Switching to normal approximation.\n",
      "  warnings.warn(\"Exact p-value calculation does not work if there are \"\n"
     ]
    }
   ],
   "source": [
    "export_crid_diagram(\n",
    "    methods=[\"DTW\", \"OPW\", \"TCOT\", \"WTK\", \"AWSWD\", \"MNSOT\"],\n",
    "    input_path = \"../Results/finals/result2.csv\", \n",
    "    result_path = \"../Results/Cridd/MNSOT.tex\", \n",
    "    type=\"all\"\n",
    ")"
   ]
  },
  {
   "cell_type": "markdown",
   "metadata": {},
   "source": [
    "## 2.3. All"
   ]
  },
  {
   "cell_type": "code",
   "execution_count": 6,
   "metadata": {},
   "outputs": [
    {
     "name": "stdout",
     "output_type": "stream",
     "text": [
      "                      Unnamed: 0     GOW     DTW     OPW    TAOT    TCOT  \\\n",
      "0                            BME  0.8933  0.8933  0.8533  0.7000  0.5867   \n",
      "1                      BeetleFly  0.6500  0.7000  1.0000  1.0000  1.0000   \n",
      "2                    BirdChicken  0.8500  0.7500  0.6000  0.5500  0.8500   \n",
      "3                      Chinatown  0.9679  0.9738  0.9417  0.8950  0.3236   \n",
      "4                         Coffee  0.9286  1.0000  1.0000  0.5714  0.8571   \n",
      "5    DistalPhalanxOutlineCorrect  0.7143  0.7571  0.6857  0.4286  0.6714   \n",
      "6                DistalPhalanxTW  0.7111  0.7444  0.7333  0.5000  0.7444   \n",
      "7                         ECG200  0.8700  0.8000  0.9000  0.9000  0.8400   \n",
      "8                       FaceFour  0.8000  0.7667  0.8000  0.5333  0.6333   \n",
      "9                          Fungi  0.9355  0.7957  0.8333  0.8925  0.0000   \n",
      "10                      GunPoint  0.9933  0.9067  0.9133  0.8600  0.8333   \n",
      "11                       Herring  0.7000  0.5500  0.6500  0.7500  0.5500   \n",
      "12              ItalyPowerDemand  0.9456  0.9504  0.9563  0.9572  0.8358   \n",
      "13                    MoteStrain  0.8906  0.8347  0.7843  0.8562  0.7971   \n",
      "14                      OliveOil  0.9000  0.8667  0.9000  0.1667  0.6000   \n",
      "15                         Plane  1.0000  1.0000  0.9619  0.8476  1.0000   \n",
      "16                SmoothSubspace  0.9933  0.8600  0.9867  0.9800  0.9400   \n",
      "17         SonyAIBORobotSurface1  0.8785  0.7255  0.7720  0.5591  0.7504   \n",
      "18         SonyAIBORobotSurface2  0.7440  0.8311  0.8583  0.8153  0.7660   \n",
      "19              ToeSegmentation2  0.7778  0.8519  0.8148  0.8519  0.7407   \n",
      "20                  BasicMotions  1.0000  0.9750  0.7500  1.0000  0.0750   \n",
      "21                    Colposcopy  0.3366  0.4059  0.3663  0.3465  0.1881   \n",
      "22  DistalPhalanxOutlineAgeGroup  0.7500  0.7500  0.7300  0.4000  0.7300   \n",
      "23                         ERing  0.9148  0.9333  0.9222  0.9407  0.9074   \n",
      "24                  EyesOpenShut  0.5476  0.4762  0.5476  0.5238  0.5000   \n",
      "25               FingerMovements  0.5600  0.5700  0.5700  0.5400  0.4900   \n",
      "26                      Epilepsy  0.8261  0.7826  0.7609  0.3478  0.8043   \n",
      "27                        NATOPS  0.7722  0.8833  0.8500  0.8611  0.8222   \n",
      "28                     PowerCons  0.8833  0.8333  0.9667  0.9833  0.8667   \n",
      "29                  RacketSports  0.8355  0.8289  0.7434  0.8224  0.1579   \n",
      "30                           UMD  0.8889  0.8819  0.6111  0.7153  0.8056   \n",
      "31                          Wine  0.5370  0.5741  0.6111  0.5000  0.5741   \n",
      "32              SyntheticControl  0.8800  0.9900  0.9100  0.9200  0.5600   \n",
      "33             ProximalPhalanxTW  0.7900  0.7800  0.7800  0.4000  0.7700   \n",
      "34                    TwoLeadECG  0.8841  0.9043  0.7594  0.7006  0.9298   \n",
      "35          MSR Sports Action 3D  0.6195  0.7037  0.6330  0.3906  0.5320   \n",
      "36         MSR Daily Activity 3D  0.4500  0.4562  0.4625  0.2312  0.3187   \n",
      "37             SpokenArabicDigit  0.8455  0.9723  0.9273  0.9273  0.4818   \n",
      "\n",
      "       OTW     WSK   AWSWD     MLSOT      MNOT       WTK      MLOT     MNSOT  \n",
      "0   0.5200  0.3267  0.9467  0.950000  0.906667  0.720000  0.953333  1.000000  \n",
      "1   1.0000  0.4500  1.0000  1.000000  0.850000  0.800000  1.000000  0.850000  \n",
      "2   0.6000  0.2500  0.8500  0.950000  0.750000  0.950000  0.800000  0.900000  \n",
      "3   0.7784  0.1224  0.7259  0.950000  0.935860  0.950437  0.967930  0.970845  \n",
      "4   0.9643  0.2500  1.0000  1.000000  1.000000  1.000000  0.928571  1.000000  \n",
      "5   0.7143  0.3857  0.7429  0.770000  0.764493  0.760870  0.771739  0.768116  \n",
      "6   0.7333  0.0111  0.7444  0.650000  0.661871  0.661871  0.669065  0.654676  \n",
      "7   0.9100  0.6100  0.9100  0.940000  0.810000  0.910000  0.830000  0.910000  \n",
      "8   0.7333  0.3333  0.8000  0.910000  0.727273  0.931818  0.897727  0.920455  \n",
      "9   0.8925  0.0000  0.0000  0.980000  0.596774  0.989247  0.860215  0.973118  \n",
      "10  0.9533  0.4933  0.9867  0.970000  0.873333  0.980000  0.926667  0.986667  \n",
      "11  0.7000  0.6500  0.5000  0.703125  0.609375  0.687500  0.671875  0.718750  \n",
      "12  0.9621  0.4402  0.9552  0.970000  0.943635  0.958212  0.945578  0.965015  \n",
      "13  0.8850  0.5495  0.9026  0.870000  0.859425  0.875399  0.888978  0.859425  \n",
      "14  0.8667  0.1000  0.9000  0.900000  0.833333  0.900000  0.866667  0.900000  \n",
      "15  0.9619  0.0000  1.0000  1.000000  1.000000  1.000000  1.000000  1.000000  \n",
      "16  0.9067  0.0267  0.9067  1.000000  0.873333  0.980000  1.000000  0.993333  \n",
      "17  0.6872  0.4210  0.7188  0.730000  0.763727  0.793677  0.790349  0.705491  \n",
      "18  0.8678  0.1752  0.8720  0.870000  0.789087  0.922350  0.785939  0.859391  \n",
      "19  0.8148  0.4444  0.8519  0.930000  0.900000  0.930769  0.946154  0.930769  \n",
      "20  1.0000  0.0000  0.2500  0.900000  0.900000  0.575000  0.775000  0.850000  \n",
      "21  0.3465  0.1089  0.2574  0.425743  0.415842  0.326733  0.415842  0.336634  \n",
      "22  0.7100  0.1900  0.7600  0.741007  0.769784  0.741007  0.769784  0.726619  \n",
      "23  0.9407  0.0074  0.9407  0.859259  0.888889  0.933333  0.855556  0.907407  \n",
      "24  0.4762  0.6190  0.5000  0.571429  0.547619  0.571429  0.547619  0.595238  \n",
      "25  0.5800  0.5700  0.4900  0.640000  0.630000  0.640000  0.610000  0.630000  \n",
      "26  0.7609  0.1739  0.9130  0.724638  0.586957  0.615942  0.637681  0.637681  \n",
      "27  0.7333  0.0000  0.8889  0.855556  0.822222  0.844444  0.794444  0.855556  \n",
      "28  0.8833  0.2333  0.9333  0.994444  0.916667  0.977778  0.955556  0.961111  \n",
      "29  0.7632  0.2500  0.2829  0.750000  0.723684  0.822368  0.736842  0.815789  \n",
      "30  0.5903  0.3333  0.9167  0.861111  0.861111  0.930556  0.868056  0.986111  \n",
      "31  0.6481  0.5556  0.5370  0.722222  0.629630  0.703704  0.611111  0.703704  \n",
      "32  0.8300  0.0000  0.8300  0.960000  0.966667  0.986667  0.930000  0.916667  \n",
      "33  0.7700  0.0200  0.8100  0.814634  0.809756  0.795122  0.819512  0.790244  \n",
      "34  0.7349  0.3951  0.9851  0.949956  0.898156  0.975417  0.892888  0.976295  \n",
      "35  0.2660  0.0471  0.5556  0.505051  0.659933  0.538721  0.505051  0.670034  \n",
      "36  0.3063  0.0312  0.3562  0.343750  0.393750  0.337500  0.343750  0.331250  \n",
      "37  0.3818  0.0000  0.6000  0.818182  0.945455  0.536364  0.818182  0.918182  \n"
     ]
    },
    {
     "name": "stderr",
     "output_type": "stream",
     "text": [
      "c:\\Users\\hoang\\OneDrive\\Documents\\lab\\Masking-Map-Optimal-Transport-For-Sequential-Data\\venv\\Lib\\site-packages\\scipy\\stats\\_morestats.py:4088: UserWarning: Exact p-value calculation does not work if there are zeros. Switching to normal approximation.\n",
      "  warnings.warn(\"Exact p-value calculation does not work if there are \"\n"
     ]
    }
   ],
   "source": [
    "export_crid_diagram(\n",
    "    methods=[\"DTW\", \"OPW\", \"TCOT\", \"WTK\", \"AWSWD\", \"MLOT\", \"MLSOT\", \"MNOT\", \"MNSOT\"],\n",
    "    input_path = \"../Results/finals/result2.csv\", \n",
    "    result_path = \"../Results/Cridd/MOT_MSOT.tex\", \n",
    "    title = \"MOT\", \n",
    "    type=\"all\"\n",
    ")"
   ]
  },
  {
   "cell_type": "code",
   "execution_count": null,
   "metadata": {},
   "outputs": [],
   "source": []
  }
 ],
 "metadata": {
  "kernelspec": {
   "display_name": "venv",
   "language": "python",
   "name": "python3"
  },
  "language_info": {
   "codemirror_mode": {
    "name": "ipython",
    "version": 3
   },
   "file_extension": ".py",
   "mimetype": "text/x-python",
   "name": "python",
   "nbconvert_exporter": "python",
   "pygments_lexer": "ipython3",
   "version": "3.11.5"
  }
 },
 "nbformat": 4,
 "nbformat_minor": 2
}
